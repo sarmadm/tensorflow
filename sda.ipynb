{
 "cells": [
  {
   "cell_type": "markdown",
   "metadata": {},
   "source": [
    "# AutoEncoder"
   ]
  },
  {
   "cell_type": "markdown",
   "metadata": {},
   "source": [
    "Reference: [Deep-Learning-TensorFlow](https://github.com/blackecho/Deep-Learning-TensorFlow) / [TensorFlow-Tutorials](https://github.com/Hvass-Labs/TensorFlow-Tutorials)\n",
    "\n",
    "### Import"
   ]
  },
  {
   "cell_type": "code",
   "execution_count": 1,
   "metadata": {
    "collapsed": true
   },
   "outputs": [],
   "source": [
    "from __future__ import print_function\n",
    "\n",
    "import numpy as np\n",
    "import tensorflow as tf\n",
    "import os\n",
    "\n",
    "from matplotlib.ticker import MultipleLocator, FormatStrFormatter \n",
    "import matplotlib.pyplot as plt\n",
    "from tqdm import tqdm\n",
    "from tensorflow.examples.tutorials.mnist import input_data\n",
    "from config import Config\n",
    "import utilities\n",
    "import tf_utils\n",
    "\n",
    "\n",
    "os.environ[\"CUDA_DEVICE_ORDER\"]=\"PCI_BUS_ID\"   # see issue #152\n",
    "os.environ[\"CUDA_VISIBLE_DEVICES\"]=\"1\""
   ]
  },
  {
   "cell_type": "markdown",
   "metadata": {
    "collapsed": true
   },
   "source": [
    "### Loss Function Class"
   ]
  },
  {
   "cell_type": "code",
   "execution_count": 2,
   "metadata": {
    "collapsed": true
   },
   "outputs": [],
   "source": [
    "class Loss(object):\n",
    "   \n",
    "   def __init__(self, loss_func, summary=True, name='loss'):\n",
    "       self.loss_func = loss_func\n",
    "       self.summary = summary\n",
    "       self.name = name\n",
    "\n",
    "   def compile(self, model_y, _y, regterm = None):\n",
    "       with tf.name_scope(self.name):\n",
    "           if self.loss_func == 'cross_entropy':\n",
    "               clip_inf = tf.clip_by_value(model_y, 1e-10, float('inf'))\n",
    "               clip_sup = tf.clip_by_value(1 - model_y,1e-10,float('inf'))\n",
    "\n",
    "               cost = - tf.reduce_mean(_y * tf.log(clip_inf) +\n",
    "                                       (1. - _y) * tf.log(clip_sup))\n",
    "               \n",
    "           elif self.loss_func == 'softmax_cross_entropy':\n",
    "              cost = tf.reduce_mean(tf.nn.softmax_cross_entropy_with_logits(labels=_y, logits=model_y))\n",
    "           elif self.loss_func == 'mean_squared':\n",
    "              cost = tf.reduce_mean(tf.square(_y-model_y))\n",
    "           else:\n",
    "              cost = None\n",
    "\n",
    "       if cost is not None:\n",
    "           cost = cost + regterm if regterm is not None else cost\n",
    "           tf.summary.scalar(self.loss_func,cost)\n",
    "       else:\n",
    "          cost = None\n",
    "\n",
    "       return cost"
   ]
  },
  {
   "cell_type": "markdown",
   "metadata": {},
   "source": [
    "### Optimizer Wrapper"
   ]
  },
  {
   "cell_type": "code",
   "execution_count": 3,
   "metadata": {
    "collapsed": true
   },
   "outputs": [],
   "source": [
    "class Trainer(object):\n",
    "   def __init__(self, optimizer, **kw):\n",
    "       assert optimizer in [\"sgd\",\"adagrad\",\"adam\",\"rmsprop\"]\n",
    "\n",
    "       def d(k, other=None):\n",
    "           if other:\n",
    "                return kw[k] if k in kw else other\n",
    "           else:\n",
    "                return kw[k]\n",
    "\n",
    "       if optimizer == \"sgd\":\n",
    "           self.opt_ = tf.train.GradientDescentOptimizer(d(\"learning_rate\"))\n",
    "       elif optimizer == \"adagrad\":\n",
    "           self.opt_ = tf.train.AdagradOptimizer(d(\"learning_rate\"), \n",
    "                                             d(\"initial_accumulator_value\",0.1))\n",
    "       elif optimizer == \"adam\":\n",
    "           self.opt_ = tf.train.AdamOptimizer(d(\"learning_rate\"),\n",
    "                                                  d(\"beta1\",0.7),\n",
    "                                                  d(\"beta2\",0.9),\n",
    "                                                  d(\"epsilon\",1e-08))\n",
    "       elif optimizer == \"rmsprop\":\n",
    "           self.opt_ = tf.train.RMSPropOptimizer(d(\"learning_rate\"))\n",
    "\n",
    "   def compile(self,cost, name_scope=\"train\"):\n",
    "       with tf.name_scope(name_scope):\n",
    "           return self.opt_.minimize(cost)\n",
    "                \n"
   ]
  },
  {
   "cell_type": "markdown",
   "metadata": {
    "collapsed": true
   },
   "source": [
    "### Hidden Layer Compute"
   ]
  },
  {
   "cell_type": "code",
   "execution_count": 4,
   "metadata": {
    "collapsed": true
   },
   "outputs": [],
   "source": [
    "class Layers(object):\n",
    "   \n",
    "   @staticmethod\n",
    "   def logits(prev_layer, out_dim, name=\"logits\"):\n",
    "       \n",
    "       with tf.name_scope(name):\n",
    "           in_dim = prev_layer.get_shape()[1].value\n",
    "           W = tf.Variable(tf.truncated_normal([in_dim, out_dim], stddev =0.1))\n",
    "           b = tf.Variable(tf.constant(0.1, shape = [out_dim]))\n",
    "           out = tf.add(tf.matmul(prev_layer, W), b)\n",
    "           return (out, W, b)\n",
    "   \n",
    "   @staticmethod\n",
    "   def regularization(variables, regtype, regcoef, name=\"regularization\"):\n",
    "       \n",
    "       with tf.name_scope(name):\n",
    "           if regtype != 'none':\n",
    "               regs = tf.constants(0.0)\n",
    "               for v in variables:\n",
    "                   if regtype == 'l2':\n",
    "                        regs = tf.add(regs,tf.nn.l2_loss(v))\n",
    "                   elif regtype == 'l1':\n",
    "                        regs = tf.add(regs, tf.reduce_sum(tf.abs(v)))\n",
    "\n",
    "               return tf.mul(regcoef, regs)\n",
    "           else:\n",
    "               return None"
   ]
  },
  {
   "cell_type": "markdown",
   "metadata": {
    "collapsed": true
   },
   "source": [
    "### Evaluation Function\n",
    "\n"
   ]
  },
  {
   "cell_type": "code",
   "execution_count": 5,
   "metadata": {
    "collapsed": true
   },
   "outputs": [],
   "source": [
    "class Evaluation(object):\n",
    "   \n",
    "   @staticmethod\n",
    "   def accuracy(model_y, _y, summary = True, name=\"accuracy\"):\n",
    "       with tf.name_scope(name):\n",
    "           model_predict_class = tf.argmax(model_y,1)\n",
    "           correct_predict = tf.equal(model_predict_class, tf.argmax(_y, 1))\n",
    "           accuracy = tf.reduce_mean(tf.cast(correct_predict, tf.float32))\n",
    "\n",
    "           if summary:\n",
    "               tf.summary.scalar('accuracy', accuracy)\n",
    "           return accuracy\n",
    "   \n",
    "   @staticmethod\n",
    "   def error(model_y, _y, summary = True, name=\"error\"):\n",
    "       with tf.name_scope(name):\n",
    "           model_predict_class = tf.argmax(model_y,1)\n",
    "           error_predict = tf.not_equal(model_predict_class, tf.argmax(_y, 1))\n",
    "           error = tf.reduce_mean(tf.cast(error_predict, tf.float32))\n",
    "\n",
    "           if summary:\n",
    "               tf.summary.scalar('error', error)\n",
    "           return error\n"
   ]
  },
  {
   "cell_type": "markdown",
   "metadata": {
    "collapsed": true
   },
   "source": [
    "### Early-Stop Class"
   ]
  },
  {
   "cell_type": "code",
   "execution_count": 6,
   "metadata": {
    "collapsed": true
   },
   "outputs": [],
   "source": [
    "class EarlyStopping(object):\n",
    "\n",
    "   def __init__(\n",
    "       self, min_delta = 0, patience = 0 ,mode='min',\n",
    "       saver = None, session = None, path = None):\n",
    "       \n",
    "       self.patience = patience\n",
    "       self.min_delta = min_delta\n",
    "       self.wait = 0\n",
    "       self.stopped_epoch = 0\n",
    "       self.stop_training = False\n",
    "       self.update = True\n",
    "       self.saver = saver\n",
    "       self.session = session\n",
    "       self.path = path\n",
    "\n",
    "       if mode not in ['min' , 'max']:\n",
    "           raise Exception(\"EarlyStopping mode %s is unknown\" % self.mode)\n",
    "       \n",
    "       if mode == 'min':\n",
    "           self.monitor_op = np.less\n",
    "       else:\n",
    "           self.monitor_op = np.greater\n",
    "\n",
    "       if self.monitor_op == np.greater:\n",
    "           self.min_delta *= 1\n",
    "       else:\n",
    "           self.min_delta *= -1\n",
    "\n",
    "   def on_train_begin(self):\n",
    "       self.wait = 0\n",
    "       self.best = np.Inf if self.monitor_op == np.less else -np.Inf\n",
    "\n",
    "   def on_epoch_end(self, epoch, current):\n",
    "           \n",
    "       if self.monitor_op(current - self.min_delta, self.best):\n",
    "           if self.update:\n",
    "               self.best = current\n",
    "               self.stopped_epoch = epoch\n",
    "               self.wait = 0\n",
    "               self.saver.save(self.session, self.path)\n",
    "       else:\n",
    "           if self.wait >= self.patience:\n",
    "               self.stop_training = True\n",
    "           self.wait += 1\n",
    "       return self.stop_training\n",
    "\n",
    "   def on_train_end(self):\n",
    "       if self.stopped_epoch > 0:\n",
    "          self.saver.restore(self.session, self.path)\n",
    "          print('Epoch %05d: early stopping' % (self.stopped_epoch))"
   ]
  },
  {
   "cell_type": "markdown",
   "metadata": {
    "collapsed": true
   },
   "source": [
    "## DenoisingAutoencoder"
   ]
  },
  {
   "cell_type": "code",
   "execution_count": 7,
   "metadata": {
    "collapsed": true
   },
   "outputs": [],
   "source": [
    "class DenoisingAutoencoder(object):\n",
    "   \n",
    "   def __init__(\n",
    "       self, n_components, name='dae',\n",
    "       encoding_func = tf.nn.sigmoid, decoding_func = tf.nn.sigmoid,\n",
    "       loss_func = 'mean_squared', num_epochs = 10, batch_size =256,\n",
    "       opt = 'rmsprop', learning_rate = 0.01,\n",
    "       corruption_type = 'none', corruption_level = 0.0,\n",
    "       regtype='none', regcoef=5e-4,\n",
    "       min_delta=0.0 ,patience=0 ,mode='min'\n",
    "       ):\n",
    "\n",
    "       self.name = name\n",
    "       self.model_path = os.path.join(Config().models_dir, self.name)\n",
    "\n",
    "       self.input_labels = None\n",
    "       self.keep_prob = None\n",
    "       self.layer_nodes = []\n",
    "       self.train_step = None\n",
    "       self.cost = None\n",
    "\n",
    "       # Init tensorflow objects\n",
    "       self.tf_graph = tf.Graph()\n",
    "       self.tf_session = None\n",
    "       self.tf_saver = None\n",
    "       self.tf_merged_summaries = None\n",
    "       self.tf_summary_writer = None\n",
    "\n",
    "       # Init training parameters\n",
    "       self.loss_func = loss_func\n",
    "       self.learning_rate = learning_rate\n",
    "       self.dropout = 1 \n",
    "       self.num_epochs = num_epochs\n",
    "       self.batch_size = batch_size\n",
    "       self.opt = opt\n",
    "       self.regtype = regtype\n",
    "       self.regcoef = regcoef\n",
    "\n",
    "\n",
    "       self.loss = Loss(self.loss_func)\n",
    "       self.trainer = Trainer(opt,learning_rate = learning_rate)\n",
    "\n",
    "       self.n_components = n_components\n",
    "       self.encoding_func = encoding_func\n",
    "       self.decoding_func = decoding_func\n",
    "\n",
    "       self.corruption_type = corruption_type\n",
    "       self.corruption_level = corruption_level\n",
    "    \n",
    "       self.min_delta = min_delta\n",
    "       self.patience = patience\n",
    "       self.mode = mode\n",
    "\n",
    "   \n",
    "    \n",
    "       self.input_data_orig = None\n",
    "       self.input_data = None\n",
    "\n",
    "       self.W = None\n",
    "       self.b_hidden_ = None\n",
    "       self.b_visible_ = None\n",
    "\n",
    "\n",
    "   def _create_placeholders(self, n_features):\n",
    "       \n",
    "       self.input_data_orig = tf.placeholder(tf.float32, \n",
    "                                             [None, n_features], name='x-input')\n",
    "       self.input_data= tf.placeholder(tf.float32, \n",
    "                                       [None, n_features], name='x-corr-input')\n",
    "\n",
    "       self.input_labels = tf.placeholder(tf.float32)\n",
    "       self.keep_prob = tf.placeholder(tf.float32 , name='keep-probs')\n",
    "       \n",
    "   def _create_variables(self, n_features, W_=None , b_hidden_ = None, b_visible_=None):\n",
    "       \n",
    "       if W_:\n",
    "           self.W_ = tf.Variable(W_ , name = 'encoding_w')\n",
    "       else:\n",
    "           self.W_ = tf.Variable(\n",
    "               tf.truncated_normal(\n",
    "                   shape=[n_features, self.n_components], stddev=0.1,\n",
    "                   name = 'encoding_w'))\n",
    "\n",
    "       if b_hidden_:\n",
    "           self.b_hidden_ = tf.Variable(b_hidden_, name='hidden-bias')\n",
    "       else:\n",
    "           self.b_hidden_ = tf.Variable(tf.constant(\n",
    "                0.1, shape=[self.n_components]), name='hidden-bias')\n",
    "      \n",
    "       if b_visible_:\n",
    "           self.b_visible_ = tf.Variable(b_visible_, name='visible-bias')\n",
    "       else:\n",
    "           self.b_visible_ = tf.Variable(tf.constant(\n",
    "               0.1, shape=[n_features]), name='visible-bias')\n",
    "\n",
    "   def _create_encode_layer(self):\n",
    "        \n",
    "       with tf.name_scope(\"encoder\"):\n",
    "\n",
    "           activation = tf.add(\n",
    "               tf.matmul(self.input_data, self.W_),\n",
    "               self.b_hidden_\n",
    "           )\n",
    "\n",
    "           if self.encoding_func:\n",
    "               self.encode = self.encoding_func(activation)\n",
    "           else:\n",
    "               self.encode = activation\n",
    "\n",
    "   def _create_decode_layer(self):\n",
    "        \n",
    "       with tf.name_scope(\"decoder\"):\n",
    "\n",
    "           activation = tf.add(\n",
    "               tf.matmul(self.encode, tf.transpose(self.W_)),\n",
    "               self.b_visible_\n",
    "           )\n",
    "\n",
    "           \n",
    "\n",
    "           if self.decoding_func:\n",
    "               self.reconstruction = self.decoding_func(activation)\n",
    "           else:\n",
    "               self.reconstruction = activation\n",
    "        \n",
    "        \n",
    "   def fit(self, train_X, train_Y = None, val_X = None, val_Y=None, graph=None):\n",
    "\n",
    "       g = graph if graph is not None else self.tf_graph\n",
    "\n",
    "\n",
    "       with g.as_default():\n",
    "           # Build Model\n",
    "           self.build_model(train_X.shape[1])\n",
    "           with tf.Session() as self.tf_session:\n",
    "               # Init tf stuff\n",
    "               summary_objs = tf_utils.init_tf_ops(self.tf_session)\n",
    "               self.tf_merged_summaries = summary_objs[0]\n",
    "               self.tf_summary_writer = summary_objs[1]\n",
    "               self.tf_saver = summary_objs[2]\n",
    "               self.earlystop = EarlyStopping(self.min_delta , self.patience, self.mode, \n",
    "                                              self.tf_saver, self.tf_session, self.model_path)\n",
    "               # Train model\n",
    "               self._train_model(train_X, train_Y, val_X, val_Y)\n",
    "\n",
    "               # Save model\n",
    "               self.tf_saver.save(self.tf_session, self.model_path)\n",
    "\n",
    "   def build_model(self, n_features, W_= None, b_hidden_=None , b_visible_=None):\n",
    "\n",
    "       self._create_placeholders(n_features)\n",
    "       self._create_variables(n_features, W_, b_hidden_ , b_visible_)\n",
    "\n",
    "       self._create_encode_layer()\n",
    "       self._create_decode_layer()\n",
    "\n",
    "       variables = [self.W_ , self.b_hidden_ , self.b_visible_]\n",
    "       regterm = Layers.regularization(variables, self.regtype, self.regcoef)\n",
    "\n",
    "       self.cost = self.loss.compile(self.reconstruction, self.input_data_orig,regterm=regterm)\n",
    "\n",
    "       self.train_step = self.trainer.compile(self.cost)\n",
    "\n",
    "   def _train_model(self, train_set, train_ref = None,\n",
    "                    validation_set = None, validation_ref = None):\n",
    "       pbar = tqdm(range(self.num_epochs))\n",
    "       train = [0]\n",
    "       valid = [0]\n",
    "       \n",
    "       self.earlystop.on_train_begin()\n",
    "\n",
    "       for i in pbar:\n",
    "           train_loss = self._run_train_step(train_set)\n",
    "           \n",
    "           if validation_set is not None:\n",
    "               feed = {self.input_data_orig: validation_set,\n",
    "                       self.input_data: validation_set}\n",
    "               tr_feed = {self.input_data_orig: train_set,\n",
    "                          self.input_data: train_set}\n",
    "               valid_loss = tf_utils.run_summaries(\n",
    "                   self.tf_session, self.tf_merged_summaries,\n",
    "                   self.tf_summary_writer, i, feed, self.cost)\n",
    "         \n",
    "               pbar.set_description(\"Epoch %02d/%02d\"% (i+1,self.num_epochs))\n",
    "               \n",
    "\n",
    "               print (\"Epoch %02d/%02d, Train Loss: %.9f, Validation Loss: %.9f, Best: %.9f, Wait: %02d\"  \n",
    "                           % (i+1, self.num_epochs,train_loss,valid_loss,self.earlystop.best,self.earlystop.wait))\n",
    "               train.append(train_loss)\n",
    "               valid.append(valid_loss)\n",
    "               if (self.earlystop.on_epoch_end(i+1,valid_loss)):\n",
    "                   self.earlystop.update = False\n",
    "                   break\n",
    "       self.earlystop.on_train_end()\n",
    "\n",
    "       plt.plot(train[:], label='train')\n",
    "       plt.plot(valid[:], label='validation')\n",
    "       plt.axvline(x=self.earlystop.stopped_epoch, color='r')\n",
    "       plt.plot(self.earlystop.stopped_epoch, valid[self.earlystop.stopped_epoch],'ro')\n",
    "       axes = plt.gca()\n",
    "       #ymajorLocator   = MultipleLocator(0.001)   \n",
    "       #ymajorFormatter = FormatStrFormatter('%1.4f')   \n",
    "       #yminorLocator   = MultipleLocator(0.0005)   \n",
    "       #axes.yaxis.set_major_locator(ymajorLocator)  \n",
    "       #axes.yaxis.set_major_formatter(ymajorFormatter)  \n",
    "       #axes.yaxis.set_minor_locator(yminorLocator)  \n",
    "       axes.set_xlim(1)\n",
    "       plt.grid()\n",
    "       plt.xlabel(\"Epochs\")\n",
    "       plt.ylabel(\"MSE\")\n",
    "       #plt.yscale('log', nonposy='clip')\n",
    "       plt.title(\"Training Curve\")\n",
    "       plt.legend(loc='best')\n",
    "       plt.annotate('Stop Here (%d , %.6f)' % (self.earlystop.stopped_epoch, valid[self.earlystop.stopped_epoch]), \n",
    "                   xy=(self.earlystop.stopped_epoch, valid[self.earlystop.stopped_epoch]), xycoords='data',\n",
    "                   textcoords='offset points', xytext=(+10,+30), fontsize = 20,\n",
    "                   arrowprops=dict(arrowstyle=\"->\", connectionstyle=\"arc3,rad=.2\"))\n",
    "       plt.show()\n",
    "\n",
    "   def _run_train_step(self, train_set):\n",
    "       \n",
    "       x_corrupted = utilities.corrupt_input(\n",
    "           train_set, self.tf_session, \n",
    "           self.corruption_type, self.corruption_level)\n",
    "\n",
    "       shuff = list(zip(train_set, x_corrupted))\n",
    "       np.random.shuffle(shuff)\n",
    "\n",
    "       batches = [_ for _ in utilities.gen_batches(shuff, self.batch_size)]\n",
    "       cost = []\n",
    "       for batch in batches:\n",
    "           x_batch, x_corr_batch = zip(*batch)\n",
    "           train_feed = {self.input_data_orig: x_batch,\n",
    "                      self.input_data: x_corr_batch}\n",
    "           self.tf_session.run(self.train_step, feed_dict = train_feed)\n",
    "           train_cost = self.tf_session.run(self.cost,feed_dict = train_feed)\n",
    "           cost.append(train_cost)\n",
    "       cost_mean = np.mean(cost, dtype='float64')\n",
    "       return cost_mean\n",
    "                \n",
    "                \n",
    "            \n",
    "   def transform(self, data, graph = None):\n",
    "       \n",
    "       g = graph if graph is not None else self.tf_graph\n",
    "       with g.as_default():\n",
    "           with tf.Session() as self.tf_session:\n",
    "               self.tf_saver.restore(self.tf_session, self.model_path)\n",
    "               feed = {\n",
    "                   self.input_data : data,\n",
    "                   self.keep_prob: 1\n",
    "               }\n",
    "               return self.encode.eval(feed)\n",
    "           \n",
    "   def reconstruct(self, data, graph = None):\n",
    "       \n",
    "       g = graph if graph is not None else self.tf_graph\n",
    "       with g.as_default():\n",
    "           with tf.Session() as self.tf_session:\n",
    "               self.tf_saver.restore(self.tf_session, self.model_path)\n",
    "               feed = {\n",
    "                   self.input_data : data,\n",
    "                   self.keep_prob: 1\n",
    "               }\n",
    "               return self.reconstruct.eval(feed)\n",
    "\n",
    "   \n",
    "   def score(self, data, data_ref, graph = None):\n",
    "       \n",
    "       g = graph if graph is not None else self.tf_graph\n",
    "       with g.as_default():\n",
    "           with tf.Session() as self.tf_session:\n",
    "               self.tf_saver.restore(self.tf_session, self.model_path)\n",
    "               feed = {\n",
    "                   self.input_data : data,\n",
    "                   self.input_labels : data_ref,\n",
    "                   self.keep_prob: 1\n",
    "               }\n",
    "               return self.cost.eval(feed)\n",
    "   \n",
    "\n",
    "\n",
    "   def get_parameters(self, graph=None):\n",
    "       \n",
    "       g = graph if graph is not None else self.tf_graph\n",
    "\n",
    "       with g.as_default():\n",
    "           with tf.Session() as self.tf_session:\n",
    "               self.tf_saver.restore(self.tf_session, self.model_path)\n",
    "\n",
    "               return {\n",
    "                   'encoding_w': self.W_.eval(),\n",
    "                   'encoding_b': self.b_hidden_.eval(),\n",
    "                   'decoding_b': self.b_visible_.eval()\n",
    "               }\n",
    "   "
   ]
  },
  {
   "cell_type": "markdown",
   "metadata": {
    "collapsed": true
   },
   "source": [
    "### StackedDenoisingAutoencoder"
   ]
  },
  {
   "cell_type": "code",
   "execution_count": 8,
   "metadata": {
    "collapsed": true
   },
   "outputs": [],
   "source": [
    "class StackedDenoisingAutoencoder(object):\n",
    "   \n",
    "\n",
    "   def __init__(\n",
    "       self, layers = [900,784,512,30], \n",
    "       name='sdae',\n",
    "       encoding_func = [tf.nn.sigmoid],decoding_func = [tf.nn.sigmoid],\n",
    "       loss_func=['mean_squared'], num_epochs=[50], batch_size=[256],\n",
    "       opt=['adam'], learning_rate=[0.015,0.015,0.015], \n",
    "       regtype=['none'], regcoef=[5e-4],\n",
    "       corruption_type=['masking','none','none','none'],corruption_level=[0.3],\n",
    "       min_delta=[0.000001],patience=[10],mode=['min'],\n",
    "       finetune_dropout=0.7, finetune_loss='softmax_cross_entropy',\n",
    "       finetune_func=tf.nn.sigmoid, finetune_opt='adam',\n",
    "       finetune_learning_rate = 0.03, finetune_num_epochs = 100, \n",
    "       finetune_batch_size=256, do_pretrain = False):\n",
    "\n",
    "       # Expand all list parameters to be length of layers\n",
    "       expanded_args = utilities.expand_args(**locals())\n",
    "\n",
    "       \n",
    "       self.name = name\n",
    "       self.model_path = os.path.join(Config().models_dir, self.name)\n",
    "\n",
    "       self.input_data = None\n",
    "       self.input_labels = None\n",
    "       self.keep_prob = None\n",
    "       self.layer_nodes = []\n",
    "       self.train_step = None\n",
    "       self.cost = None\n",
    "\n",
    "\n",
    "       # Init tensorflow objects\n",
    "       self.tf_graph = tf.Graph()\n",
    "       self.tf_session = None\n",
    "       self.tf_saver = None\n",
    "       self.tf_merged_summaries = None\n",
    "       self.tf_summary_writer = None\n",
    "\n",
    "       # Init training parameters\n",
    "       self.loss_func = finetune_loss\n",
    "       self.learning_rate = finetune_learning_rate\n",
    "       self.dropout = finetune_dropout\n",
    "       self.num_epochs = finetune_num_epochs\n",
    "       self.batch_size = finetune_batch_size\n",
    "       self.opt = finetune_opt\n",
    "\n",
    "\n",
    "       self.loss = Loss(self.loss_func)\n",
    "       self.trainer = Trainer(finetune_opt, \n",
    "                              learning_rate=finetune_learning_rate)\n",
    "\n",
    "\n",
    "       self.do_pretrain = do_pretrain\n",
    "       self.layers = layers\n",
    "       self.finetune_func = finetune_func\n",
    "                                     \n",
    "       \n",
    "       self.encoding_w_ = []\n",
    "       self.encoding_b_ = []\n",
    "\n",
    "       self.last_W = None\n",
    "       self.last_b = None\n",
    "\n",
    "       self.autoencoders = []\n",
    "       self.autoencoder_graphs =[]\n",
    "\n",
    "       for l, layer in enumerate(layers):\n",
    "           dae_str = 'Autoencoder Layer ' + str(l+1)\n",
    "           self.autoencoders.append(\n",
    "               DenoisingAutoencoder(\n",
    "                 n_components = layer,\n",
    "                 name = dae_str,\n",
    "                 encoding_func = expanded_args['encoding_func'][l],\n",
    "                 decoding_func = expanded_args['decoding_func'][l],\n",
    "                 loss_func = expanded_args['loss_func'][l],\n",
    "                 num_epochs = expanded_args['num_epochs'][l],\n",
    "                 opt = expanded_args['opt'][l],\n",
    "                 batch_size = expanded_args['batch_size'][l],\n",
    "                 learning_rate = expanded_args['learning_rate'][l],\n",
    "                 corruption_type = expanded_args['corruption_type'][l],\n",
    "                 corruption_level = expanded_args['corruption_level'][l],\n",
    "                 regtype = expanded_args['regtype'][l],\n",
    "                 regcoef = expanded_args['regcoef'][l],\n",
    "                 min_delta = expanded_args['min_delta'][l],\n",
    "                 patience = expanded_args['patience'][l],\n",
    "                 mode = expanded_args['mode'][l]))\n",
    "           self.autoencoder_graphs.append(tf.Graph())\n",
    "\n",
    "        \n",
    "   def _create_placeholders(self, n_features, n_classes):\n",
    "       self.input_data = tf.placeholder(tf.float32, [None, n_features] , name = 'x-input')\n",
    "       self.input_labels = tf.placeholder(tf.float32, [None, n_classes], name = 'y-input')\n",
    "\n",
    "       self.keep_prob = tf.placeholder(tf.float32, name='keep-probs')\n",
    "\n",
    "\n",
    "   def _create_variables(self, n_features):\n",
    "       if self.do_pretrain:\n",
    "          self._create_variables_pretrain()\n",
    "       else:\n",
    "          self._create_variables_no_pretrain(n_features)\n",
    "\n",
    "\n",
    "   def _create_variables_no_pretrain(self, n_features):\n",
    "       \n",
    "       for l, layer in enumerate(self.layers):\n",
    "           \n",
    "           if l==0:\n",
    "               self.encoding_w_.append(tf.Variable(\n",
    "                    tf.truncated_normal([n_features, self.layers[l]], stddev = 0.1)))\n",
    "               self.encoding_b_.append(tf.Variable(\n",
    "                    tf.constanst(0.1, [self.layers[l]])))\n",
    "           else:\n",
    "               self.encoding_w_.append(tf.Variable(\n",
    "                    tf.truncated_normal([self.layers[l-1], self.layers[l]], stddev = 0.1)))\n",
    "               self.encoding_b_.append(tf.Variable(\n",
    "                    tf.constanst(0.1, [self.layers[l]])))\n",
    "\n",
    "   def _create_variables_pretrain(self):\n",
    "       \n",
    "        for l, layer in enumerate(self.layers):\n",
    "            self.encoding_w_[l] = tf.Variable(\n",
    "                self.encoding_w_[l], name='enc-w-{}'.format(l))\n",
    "            self.encoding_b_[l] = tf.Variable(\n",
    "                self.encoding_b_[l], name='enc-b-{}'.format(l))\n",
    "\n",
    "   def _create_encoding_layers(self):\n",
    "        \n",
    "       next_train = self.input_data\n",
    "       self.layer_nodes = []\n",
    "\n",
    "       for l, layer in enumerate(self.layers):\n",
    "\n",
    "           with tf.name_scope(\"encode-{}\".format(l)):\n",
    "                \n",
    "               y_act = tf.add(\n",
    "                   tf.matmul(next_train, self.encoding_w_[l]),\n",
    "                   self.encoding_b_[l]\n",
    "               )\n",
    "                \n",
    "               if self.finetune_func:\n",
    "                   layer_y = self.finetune_func(y_act)\n",
    "\n",
    "               else:\n",
    "                   layer_y = None\n",
    "\n",
    "               # the input to the next layer is the output of this layer\n",
    "               next_train = tf.nn.dropout(layer_y, self.keep_prob)\n",
    "\n",
    "           self.layer_nodes.append(next_train)\n",
    "\n",
    "       return next_train\n",
    "\n",
    "\n",
    "\n",
    "   def fit(self, train_X, train_Y, val_X=None, val_Y=None, graph=None):\n",
    "\n",
    "       if len(train_Y.shape)!= 1:\n",
    "           num_classes = train_Y.shape[1]\n",
    "       else:\n",
    "           raise Exception(\"Please convert the labels with one-hot encoding\")\n",
    "\n",
    "       g = graph if graph is not None else self.tf_graph\n",
    "\n",
    "\n",
    "       with g.as_default():\n",
    "           # Build Model\n",
    "           self.build_model(train_X.shape[1], num_classes)\n",
    "           with tf.Session() as self.tf_session:\n",
    "               # Init tf stuff\n",
    "               summary_objs = tf_utils.init_tf_ops(self.tf_session)\n",
    "               self.tf_merged_summaries = summary_objs[0]\n",
    "               self.tf_summary_writer = summary_objs[1]\n",
    "               self.tf_saver = summary_objs[2]\n",
    "\n",
    "               # Train model\n",
    "               self._train_model(train_X, train_Y, val_X, val_Y)\n",
    "\n",
    "               # Save model\n",
    "               self.tf_saver.save(self.tf_session, self.model_path)\n",
    "   \n",
    "   def build_model(self, n_features, n_classes):\n",
    "       \n",
    "       self._create_placeholders(n_features, n_classes)\n",
    "       self._create_variables(n_features)\n",
    "\n",
    "       next_train = self._create_encoding_layers()\n",
    "       self.model_y, _, _ = Layers.logits(next_train, n_classes)\n",
    "       self.layer_nodes.append(self.model_y)\n",
    "\n",
    "\n",
    "       self.cost = self.loss.compile(self.model_y,self.input_labels)\n",
    "       self.train_step = self.trainer.compile(self.cost)\n",
    "       self.accuracy = Evaluation.accuracy(self.model_y, self.input_labels)\n",
    "       self.error = Evaluation.error(self.model_y, self.input_labels)\n",
    "   \n",
    "\n",
    "   def _train_model(self, train_set, train_labels,\n",
    "                    validation_set, validation_labels):\n",
    "\n",
    "       shuff = list(zip(train_set, train_labels))\n",
    "       shuff_v = list(zip(validation_set,validation_labels))\n",
    "       pbar = tqdm(range(self.num_epochs))\n",
    "       for i in pbar:\n",
    "           np.random.shuffle(shuff)\n",
    "\n",
    "           batches = [_ for _ in utilities.gen_batches(\n",
    "               shuff, self.batch_size)]\n",
    "                      \n",
    "           for batch in batches:\n",
    "               x_batch, y_batch = zip(*batch)\n",
    "               feed = {self.input_data: x_batch,\n",
    "                       self.input_labels: y_batch,\n",
    "                       self.keep_prob: self.dropout}\n",
    "               self.tf_session.run(self.train_step,feed_dict= feed)\n",
    "           if validation_set is not None:\n",
    "               feed = {self.input_data: validation_set,\n",
    "                       self.input_labels: validation_labels,\n",
    "                       self.keep_prob: 1}\n",
    "               acc = tf_utils.run_summaries(\n",
    "                   self.tf_session, self.tf_merged_summaries,\n",
    "                   self.tf_summary_writer, i, feed, self.accuracy)\n",
    "               pbar.set_description(\"Accuracy: %s\" % (acc))\n",
    "\n",
    "\n",
    "   \n",
    "               \n",
    "   def score(self, test_X, test_Y):\n",
    "       \n",
    "       with self.tf_graph.as_default():\n",
    "           with tf.Session() as self.tf_session:\n",
    "               self.tf_saver.restore(self.tf_session, self.model_path)\n",
    "               feed = {\n",
    "                   self.input_data : test_X,\n",
    "                   self.input_labels : test_Y,\n",
    "                   self.keep_prob: 1\n",
    "               }\n",
    "               return self.accuracy.eval(feed)\n",
    "   \n",
    "   def get_layers_output(self, dataset):\n",
    "       \n",
    "       layers_out =[]\n",
    "\n",
    "       with self.tf_graph.as_default():\n",
    "           with tf.Session() as self.tf_session:\n",
    "               self.tf_saver.restore(self.tf_session, self.model_path)\n",
    "               for l in self.layer_nodes:\n",
    "                   layers_out.append(l.eval({self.input_data : dataset,\n",
    "                                             self.keep_prob : 1}))\n",
    "\n",
    "       if layers_out == []:\n",
    "           raise Exception(\"This method is not implemented for this model\")\n",
    "       else:\n",
    "           return layers_out\n",
    "\n",
    "\n",
    "   def pretrain(self, train_set, validation_set=None):\n",
    "       \n",
    "       self.do_pretrain = True\n",
    "\n",
    "       def set_params_func(autoenc, autoencgraph):\n",
    "           params = autoenc.get_parameters(graph = autoencgraph)\n",
    "           self.encoding_w_.append(params['encoding_w'])\n",
    "           self.encoding_b_.append(params['encoding_b'])\n",
    "\n",
    "       next_train = train_set\n",
    "       next_valid = validation_set\n",
    "       layer_objs = self.autoencoders\n",
    "       layer_graphs = self.autoencoder_graphs\n",
    "       \n",
    "       \n",
    "    \n",
    "       for l, layer_obj in enumerate(layer_objs):\n",
    "          print('Training layer {}...'.format(l+1))\n",
    "          next_train, next_valid = self._pretrain_layer_and_gen_feed(\n",
    "              layer_obj , set_params_func, next_train, next_valid,\n",
    "              layer_graphs[l])      \n",
    "            \n",
    "       \n",
    "       return next_train, next_valid\n",
    "\n",
    "   \n",
    "\n",
    "\n",
    "\n",
    "   def _pretrain_layer_and_gen_feed(self, layer_obj, set_params_func, \n",
    "                                    train_set, validation_set, graph):\n",
    "       layer_obj.fit(train_set, train_set, \n",
    "                      validation_set, validation_set, graph=graph)\n",
    "       with graph.as_default():\n",
    "           set_params_func(layer_obj, graph)\n",
    "\n",
    "           next_train = layer_obj.transform(train_set, graph = graph)\n",
    "\n",
    "           if validation_set is not None:\n",
    "                 next_valid = layer_obj.transform(validation_set, graph = graph)\n",
    "           else:               \n",
    "                 next_valid = None\n",
    "\n",
    "       return next_train, next_valid        \n"
   ]
  },
  {
   "cell_type": "markdown",
   "metadata": {
    "collapsed": true
   },
   "source": [
    "### Main Function"
   ]
  },
  {
   "cell_type": "code",
   "execution_count": 9,
   "metadata": {
    "collapsed": false
   },
   "outputs": [
    {
     "name": "stdout",
     "output_type": "stream",
     "text": [
      "Extracting ../MNIST_data/train-images-idx3-ubyte.gz\n",
      "Extracting ../MNIST_data/train-labels-idx1-ubyte.gz\n",
      "Extracting ../MNIST_data/t10k-images-idx3-ubyte.gz\n",
      "Extracting ../MNIST_data/t10k-labels-idx1-ubyte.gz\n",
      "Training layer 1...\n"
     ]
    },
    {
     "name": "stderr",
     "output_type": "stream",
     "text": [
      "\r",
      "  0%|          | 0/50 [00:00<?, ?it/s]"
     ]
    },
    {
     "name": "stdout",
     "output_type": "stream",
     "text": [
      "Tensorboard logs dir for this run is /home/xiami/.result/logs/run26\n"
     ]
    },
    {
     "name": "stderr",
     "output_type": "stream",
     "text": [
      "\r",
      "Epoch 01/50:   2%|▏         | 1/50 [00:02<01:40,  2.05s/it]"
     ]
    },
    {
     "name": "stdout",
     "output_type": "stream",
     "text": [
      "Epoch 01/50, Train Loss: 0.018863236, Validation Loss: 0.009964766, Best: inf, Wait: 00\n"
     ]
    },
    {
     "name": "stderr",
     "output_type": "stream",
     "text": [
      "\r",
      "Epoch 02/50:   4%|▍         | 2/50 [00:03<01:34,  1.97s/it]"
     ]
    },
    {
     "name": "stdout",
     "output_type": "stream",
     "text": [
      "Epoch 02/50, Train Loss: 0.007950850, Validation Loss: 0.008265668, Best: 0.009964766, Wait: 00\n"
     ]
    },
    {
     "name": "stderr",
     "output_type": "stream",
     "text": [
      "\r",
      "Epoch 03/50:   6%|▌         | 3/50 [00:05<01:29,  1.91s/it]"
     ]
    },
    {
     "name": "stdout",
     "output_type": "stream",
     "text": [
      "Epoch 03/50, Train Loss: 0.006822963, Validation Loss: 0.007580365, Best: 0.008265668, Wait: 00\n"
     ]
    },
    {
     "name": "stderr",
     "output_type": "stream",
     "text": [
      "\r",
      "Epoch 04/50:   8%|▊         | 4/50 [00:07<01:25,  1.85s/it]"
     ]
    },
    {
     "name": "stdout",
     "output_type": "stream",
     "text": [
      "Epoch 04/50, Train Loss: 0.006413302, Validation Loss: 0.007359663, Best: 0.007580365, Wait: 00\n"
     ]
    },
    {
     "name": "stderr",
     "output_type": "stream",
     "text": [
      "\r",
      "Epoch 05/50:  10%|█         | 5/50 [00:09<01:21,  1.82s/it]"
     ]
    },
    {
     "name": "stdout",
     "output_type": "stream",
     "text": [
      "Epoch 05/50, Train Loss: 0.006199468, Validation Loss: 0.007023082, Best: 0.007359663, Wait: 00\n"
     ]
    },
    {
     "name": "stderr",
     "output_type": "stream",
     "text": [
      "\r",
      "Epoch 06/50:  12%|█▏        | 6/50 [00:10<01:18,  1.78s/it]"
     ]
    },
    {
     "name": "stdout",
     "output_type": "stream",
     "text": [
      "Epoch 06/50, Train Loss: 0.006058768, Validation Loss: 0.007707036, Best: 0.007023082, Wait: 00\n"
     ]
    },
    {
     "name": "stderr",
     "output_type": "stream",
     "text": [
      "\r",
      "Epoch 07/50:  14%|█▍        | 7/50 [00:12<01:15,  1.76s/it]"
     ]
    },
    {
     "name": "stdout",
     "output_type": "stream",
     "text": [
      "Epoch 07/50, Train Loss: 0.005961586, Validation Loss: 0.007240489, Best: 0.007023082, Wait: 01\n"
     ]
    },
    {
     "name": "stderr",
     "output_type": "stream",
     "text": [
      "\r",
      "Epoch 08/50:  16%|█▌        | 8/50 [00:14<01:13,  1.74s/it]"
     ]
    },
    {
     "name": "stdout",
     "output_type": "stream",
     "text": [
      "Epoch 08/50, Train Loss: 0.005886678, Validation Loss: 0.007793121, Best: 0.007023082, Wait: 02\n"
     ]
    },
    {
     "name": "stderr",
     "output_type": "stream",
     "text": [
      "\r",
      "Epoch 09/50:  18%|█▊        | 9/50 [00:15<01:10,  1.71s/it]"
     ]
    },
    {
     "name": "stdout",
     "output_type": "stream",
     "text": [
      "Epoch 09/50, Train Loss: 0.005816072, Validation Loss: 0.007511779, Best: 0.007023082, Wait: 03\n"
     ]
    },
    {
     "name": "stderr",
     "output_type": "stream",
     "text": [
      "\r",
      "Epoch 10/50:  20%|██        | 10/50 [00:17<01:08,  1.71s/it]"
     ]
    },
    {
     "name": "stdout",
     "output_type": "stream",
     "text": [
      "Epoch 10/50, Train Loss: 0.005764407, Validation Loss: 0.007713852, Best: 0.007023082, Wait: 04\n"
     ]
    },
    {
     "name": "stderr",
     "output_type": "stream",
     "text": [
      "\r",
      "Epoch 11/50:  22%|██▏       | 11/50 [00:19<01:06,  1.71s/it]"
     ]
    },
    {
     "name": "stdout",
     "output_type": "stream",
     "text": [
      "Epoch 11/50, Train Loss: 0.005728559, Validation Loss: 0.007838293, Best: 0.007023082, Wait: 05\n"
     ]
    },
    {
     "name": "stderr",
     "output_type": "stream",
     "text": [
      "\r",
      "Epoch 12/50:  24%|██▍       | 12/50 [00:20<01:04,  1.70s/it]"
     ]
    },
    {
     "name": "stdout",
     "output_type": "stream",
     "text": [
      "Epoch 12/50, Train Loss: 0.005692707, Validation Loss: 0.007735026, Best: 0.007023082, Wait: 06\n"
     ]
    },
    {
     "name": "stderr",
     "output_type": "stream",
     "text": [
      "\r",
      "Epoch 13/50:  26%|██▌       | 13/50 [00:22<01:02,  1.69s/it]"
     ]
    },
    {
     "name": "stdout",
     "output_type": "stream",
     "text": [
      "Epoch 13/50, Train Loss: 0.005669804, Validation Loss: 0.007978939, Best: 0.007023082, Wait: 07\n"
     ]
    },
    {
     "name": "stderr",
     "output_type": "stream",
     "text": [
      "\r",
      "Epoch 14/50:  28%|██▊       | 14/50 [00:24<01:00,  1.69s/it]"
     ]
    },
    {
     "name": "stdout",
     "output_type": "stream",
     "text": [
      "Epoch 14/50, Train Loss: 0.005646978, Validation Loss: 0.007822908, Best: 0.007023082, Wait: 08\n"
     ]
    },
    {
     "name": "stderr",
     "output_type": "stream",
     "text": [
      "\r",
      "Epoch 15/50:  30%|███       | 15/50 [00:25<00:58,  1.68s/it]"
     ]
    },
    {
     "name": "stdout",
     "output_type": "stream",
     "text": [
      "Epoch 15/50, Train Loss: 0.005617421, Validation Loss: 0.008298125, Best: 0.007023082, Wait: 09\n",
      "Epoch 16/50, Train Loss: 0.005607524, Validation Loss: 0.008194600, Best: 0.007023082, Wait: 10\n",
      "Epoch 00005: early stopping\n"
     ]
    },
    {
     "data": {
      "image/png": "[encoded data removed]",
      "text/plain": [
       "<matplotlib.figure.Figure at 0x7f6ff3d6eb70>"
      ]
     },
     "metadata": {},
     "output_type": "display_data"
    },
    {
     "name": "stderr",
     "output_type": "stream",
     "text": [
      "\n",
      "\r",
      "  0%|          | 0/50 [00:00<?, ?it/s]"
     ]
    },
    {
     "name": "stdout",
     "output_type": "stream",
     "text": [
      "Training layer 2...\n",
      "Tensorboard logs dir for this run is /home/xiami/.result/logs/run27\n"
     ]
    },
    {
     "name": "stderr",
     "output_type": "stream",
     "text": [
      "\u001b[A\n",
      "Epoch 01/50:   2%|▏         | 1/50 [00:01<01:13,  1.49s/it]"
     ]
    },
    {
     "name": "stdout",
     "output_type": "stream",
     "text": [
      "Epoch 01/50, Train Loss: 0.007497910, Validation Loss: 0.002768058, Best: inf, Wait: 00\n"
     ]
    },
    {
     "name": "stderr",
     "output_type": "stream",
     "text": [
      "\u001b[A\n",
      "Epoch 02/50:   4%|▍         | 2/50 [00:02<01:11,  1.50s/it]"
     ]
    },
    {
     "name": "stdout",
     "output_type": "stream",
     "text": [
      "Epoch 02/50, Train Loss: 0.002042689, Validation Loss: 0.001831575, Best: 0.002768058, Wait: 00\n"
     ]
    },
    {
     "name": "stderr",
     "output_type": "stream",
     "text": [
      "\r",
      "Epoch 03/50:   6%|▌         | 3/50 [00:04<01:10,  1.51s/it]"
     ]
    },
    {
     "name": "stdout",
     "output_type": "stream",
     "text": [
      "Epoch 03/50, Train Loss: 0.001378786, Validation Loss: 0.001367509, Best: 0.001831575, Wait: 00\n"
     ]
    },
    {
     "name": "stderr",
     "output_type": "stream",
     "text": [
      "\r",
      "Epoch 04/50:   8%|▊         | 4/50 [00:06<01:11,  1.55s/it]"
     ]
    },
    {
     "name": "stdout",
     "output_type": "stream",
     "text": [
      "Epoch 04/50, Train Loss: 0.001121295, Validation Loss: 0.001217951, Best: 0.001367509, Wait: 00\n"
     ]
    },
    {
     "name": "stderr",
     "output_type": "stream",
     "text": [
      "\r",
      "Epoch 05/50:  10%|█         | 5/50 [00:07<01:10,  1.57s/it]"
     ]
    },
    {
     "name": "stdout",
     "output_type": "stream",
     "text": [
      "Epoch 05/50, Train Loss: 0.000997334, Validation Loss: 0.001137456, Best: 0.001217951, Wait: 00\n"
     ]
    },
    {
     "name": "stderr",
     "output_type": "stream",
     "text": [
      "\r",
      "Epoch 06/50:  12%|█▏        | 6/50 [00:09<01:08,  1.55s/it]"
     ]
    },
    {
     "name": "stdout",
     "output_type": "stream",
     "text": [
      "Epoch 06/50, Train Loss: 0.000909230, Validation Loss: 0.001092442, Best: 0.001137456, Wait: 00\n"
     ]
    },
    {
     "name": "stderr",
     "output_type": "stream",
     "text": [
      "\r",
      "Epoch 07/50:  14%|█▍        | 7/50 [00:10<01:05,  1.52s/it]"
     ]
    },
    {
     "name": "stdout",
     "output_type": "stream",
     "text": [
      "Epoch 07/50, Train Loss: 0.000844979, Validation Loss: 0.000963283, Best: 0.001092442, Wait: 00\n"
     ]
    },
    {
     "name": "stderr",
     "output_type": "stream",
     "text": [
      "\r",
      "Epoch 08/50:  16%|█▌        | 8/50 [00:12<01:03,  1.52s/it]"
     ]
    },
    {
     "name": "stdout",
     "output_type": "stream",
     "text": [
      "Epoch 08/50, Train Loss: 0.000793671, Validation Loss: 0.000973476, Best: 0.000963283, Wait: 00\n"
     ]
    },
    {
     "name": "stderr",
     "output_type": "stream",
     "text": [
      "\r",
      "Epoch 09/50:  18%|█▊        | 9/50 [00:13<01:02,  1.52s/it]"
     ]
    },
    {
     "name": "stdout",
     "output_type": "stream",
     "text": [
      "Epoch 09/50, Train Loss: 0.000754061, Validation Loss: 0.000937621, Best: 0.000963283, Wait: 01\n"
     ]
    },
    {
     "name": "stderr",
     "output_type": "stream",
     "text": [
      "\r",
      "Epoch 10/50:  20%|██        | 10/50 [00:15<01:00,  1.52s/it]"
     ]
    },
    {
     "name": "stdout",
     "output_type": "stream",
     "text": [
      "Epoch 10/50, Train Loss: 0.000721383, Validation Loss: 0.000897150, Best: 0.000937621, Wait: 00\n"
     ]
    },
    {
     "name": "stderr",
     "output_type": "stream",
     "text": [
      "\r",
      "Epoch 11/50:  22%|██▏       | 11/50 [00:16<00:59,  1.52s/it]"
     ]
    },
    {
     "name": "stdout",
     "output_type": "stream",
     "text": [
      "Epoch 11/50, Train Loss: 0.000690522, Validation Loss: 0.000849406, Best: 0.000897150, Wait: 00\n"
     ]
    },
    {
     "name": "stderr",
     "output_type": "stream",
     "text": [
      "\r",
      "Epoch 12/50:  24%|██▍       | 12/50 [00:18<00:58,  1.55s/it]"
     ]
    },
    {
     "name": "stdout",
     "output_type": "stream",
     "text": [
      "Epoch 12/50, Train Loss: 0.000665622, Validation Loss: 0.000832238, Best: 0.000849406, Wait: 00\n"
     ]
    },
    {
     "name": "stderr",
     "output_type": "stream",
     "text": [
      "\r",
      "Epoch 13/50:  26%|██▌       | 13/50 [00:19<00:56,  1.53s/it]"
     ]
    },
    {
     "name": "stdout",
     "output_type": "stream",
     "text": [
      "Epoch 13/50, Train Loss: 0.000644363, Validation Loss: 0.000819031, Best: 0.000832238, Wait: 00\n"
     ]
    },
    {
     "name": "stderr",
     "output_type": "stream",
     "text": [
      "\r",
      "Epoch 14/50:  28%|██▊       | 14/50 [00:21<00:54,  1.51s/it]"
     ]
    },
    {
     "name": "stdout",
     "output_type": "stream",
     "text": [
      "Epoch 14/50, Train Loss: 0.000626811, Validation Loss: 0.000802202, Best: 0.000819031, Wait: 00\n"
     ]
    },
    {
     "name": "stderr",
     "output_type": "stream",
     "text": [
      "\r",
      "Epoch 15/50:  30%|███       | 15/50 [00:22<00:53,  1.52s/it]"
     ]
    },
    {
     "name": "stdout",
     "output_type": "stream",
     "text": [
      "Epoch 15/50, Train Loss: 0.000608452, Validation Loss: 0.000793228, Best: 0.000802202, Wait: 00\n"
     ]
    },
    {
     "name": "stderr",
     "output_type": "stream",
     "text": [
      "\r",
      "Epoch 16/50:  32%|███▏      | 16/50 [00:24<00:51,  1.51s/it]"
     ]
    },
    {
     "name": "stdout",
     "output_type": "stream",
     "text": [
      "Epoch 16/50, Train Loss: 0.000593950, Validation Loss: 0.000775057, Best: 0.000793228, Wait: 00\n"
     ]
    },
    {
     "name": "stderr",
     "output_type": "stream",
     "text": [
      "\r",
      "Epoch 17/50:  34%|███▍      | 17/50 [00:25<00:49,  1.51s/it]"
     ]
    },
    {
     "name": "stdout",
     "output_type": "stream",
     "text": [
      "Epoch 17/50, Train Loss: 0.000581908, Validation Loss: 0.000773712, Best: 0.000775057, Wait: 00\n"
     ]
    },
    {
     "name": "stderr",
     "output_type": "stream",
     "text": [
      "\r",
      "Epoch 18/50:  36%|███▌      | 18/50 [00:27<00:47,  1.48s/it]"
     ]
    },
    {
     "name": "stdout",
     "output_type": "stream",
     "text": [
      "Epoch 18/50, Train Loss: 0.000570032, Validation Loss: 0.000782734, Best: 0.000773712, Wait: 00\n"
     ]
    },
    {
     "name": "stderr",
     "output_type": "stream",
     "text": [
      "\r",
      "Epoch 19/50:  38%|███▊      | 19/50 [00:28<00:46,  1.50s/it]"
     ]
    },
    {
     "name": "stdout",
     "output_type": "stream",
     "text": [
      "Epoch 19/50, Train Loss: 0.000558793, Validation Loss: 0.000734475, Best: 0.000773712, Wait: 01\n"
     ]
    },
    {
     "name": "stderr",
     "output_type": "stream",
     "text": [
      "\r",
      "Epoch 20/50:  40%|████      | 20/50 [00:30<00:44,  1.48s/it]"
     ]
    },
    {
     "name": "stdout",
     "output_type": "stream",
     "text": [
      "Epoch 20/50, Train Loss: 0.000549346, Validation Loss: 0.000746339, Best: 0.000734475, Wait: 00\n"
     ]
    },
    {
     "name": "stderr",
     "output_type": "stream",
     "text": [
      "\r",
      "Epoch 21/50:  42%|████▏     | 21/50 [00:31<00:43,  1.50s/it]"
     ]
    },
    {
     "name": "stdout",
     "output_type": "stream",
     "text": [
      "Epoch 21/50, Train Loss: 0.000541622, Validation Loss: 0.000744903, Best: 0.000734475, Wait: 01\n"
     ]
    },
    {
     "name": "stderr",
     "output_type": "stream",
     "text": [
      "\r",
      "Epoch 22/50:  44%|████▍     | 22/50 [00:33<00:41,  1.48s/it]"
     ]
    },
    {
     "name": "stdout",
     "output_type": "stream",
     "text": [
      "Epoch 22/50, Train Loss: 0.000534646, Validation Loss: 0.000733657, Best: 0.000734475, Wait: 02\n"
     ]
    },
    {
     "name": "stderr",
     "output_type": "stream",
     "text": [
      "\r",
      "Epoch 23/50:  46%|████▌     | 23/50 [00:34<00:40,  1.49s/it]"
     ]
    },
    {
     "name": "stdout",
     "output_type": "stream",
     "text": [
      "Epoch 23/50, Train Loss: 0.000525760, Validation Loss: 0.000733024, Best: 0.000734475, Wait: 03\n"
     ]
    },
    {
     "name": "stderr",
     "output_type": "stream",
     "text": [
      "\r",
      "Epoch 24/50:  48%|████▊     | 24/50 [00:36<00:38,  1.48s/it]"
     ]
    },
    {
     "name": "stdout",
     "output_type": "stream",
     "text": [
      "Epoch 24/50, Train Loss: 0.000520385, Validation Loss: 0.000715642, Best: 0.000733024, Wait: 00\n"
     ]
    },
    {
     "name": "stderr",
     "output_type": "stream",
     "text": [
      "\r",
      "Epoch 25/50:  50%|█████     | 25/50 [00:37<00:36,  1.47s/it]"
     ]
    },
    {
     "name": "stdout",
     "output_type": "stream",
     "text": [
      "Epoch 25/50, Train Loss: 0.000513842, Validation Loss: 0.000720604, Best: 0.000715642, Wait: 00\n"
     ]
    },
    {
     "name": "stderr",
     "output_type": "stream",
     "text": [
      "\r",
      "Epoch 26/50:  52%|█████▏    | 26/50 [00:39<00:35,  1.47s/it]"
     ]
    },
    {
     "name": "stdout",
     "output_type": "stream",
     "text": [
      "Epoch 26/50, Train Loss: 0.000508838, Validation Loss: 0.000724932, Best: 0.000715642, Wait: 01\n"
     ]
    },
    {
     "name": "stderr",
     "output_type": "stream",
     "text": [
      "\r",
      "Epoch 27/50:  54%|█████▍    | 27/50 [00:40<00:33,  1.47s/it]"
     ]
    },
    {
     "name": "stdout",
     "output_type": "stream",
     "text": [
      "Epoch 27/50, Train Loss: 0.000503739, Validation Loss: 0.000696340, Best: 0.000715642, Wait: 02\n"
     ]
    },
    {
     "name": "stderr",
     "output_type": "stream",
     "text": [
      "\r",
      "Epoch 28/50:  56%|█████▌    | 28/50 [00:42<00:32,  1.47s/it]"
     ]
    },
    {
     "name": "stdout",
     "output_type": "stream",
     "text": [
      "Epoch 28/50, Train Loss: 0.000499070, Validation Loss: 0.000697716, Best: 0.000696340, Wait: 00\n"
     ]
    },
    {
     "name": "stderr",
     "output_type": "stream",
     "text": [
      "\r",
      "Epoch 29/50:  58%|█████▊    | 29/50 [00:43<00:31,  1.48s/it]"
     ]
    },
    {
     "name": "stdout",
     "output_type": "stream",
     "text": [
      "Epoch 29/50, Train Loss: 0.000494247, Validation Loss: 0.000681226, Best: 0.000696340, Wait: 01\n"
     ]
    },
    {
     "name": "stderr",
     "output_type": "stream",
     "text": [
      "\r",
      "Epoch 30/50:  60%|██████    | 30/50 [00:45<00:29,  1.48s/it]"
     ]
    },
    {
     "name": "stdout",
     "output_type": "stream",
     "text": [
      "Epoch 30/50, Train Loss: 0.000491028, Validation Loss: 0.000705429, Best: 0.000681226, Wait: 00\n"
     ]
    },
    {
     "name": "stderr",
     "output_type": "stream",
     "text": [
      "\r",
      "Epoch 31/50:  62%|██████▏   | 31/50 [00:46<00:28,  1.48s/it]"
     ]
    },
    {
     "name": "stdout",
     "output_type": "stream",
     "text": [
      "Epoch 31/50, Train Loss: 0.000486637, Validation Loss: 0.000671601, Best: 0.000681226, Wait: 01\n"
     ]
    },
    {
     "name": "stderr",
     "output_type": "stream",
     "text": [
      "\r",
      "Epoch 32/50:  64%|██████▍   | 32/50 [00:48<00:26,  1.49s/it]"
     ]
    },
    {
     "name": "stdout",
     "output_type": "stream",
     "text": [
      "Epoch 32/50, Train Loss: 0.000483593, Validation Loss: 0.000683953, Best: 0.000671601, Wait: 00\n"
     ]
    },
    {
     "name": "stderr",
     "output_type": "stream",
     "text": [
      "\r",
      "Epoch 33/50:  66%|██████▌   | 33/50 [00:49<00:25,  1.47s/it]"
     ]
    },
    {
     "name": "stdout",
     "output_type": "stream",
     "text": [
      "Epoch 33/50, Train Loss: 0.000480106, Validation Loss: 0.000675191, Best: 0.000671601, Wait: 01\n"
     ]
    },
    {
     "name": "stderr",
     "output_type": "stream",
     "text": [
      "\r",
      "Epoch 34/50:  68%|██████▊   | 34/50 [00:51<00:23,  1.47s/it]"
     ]
    },
    {
     "name": "stdout",
     "output_type": "stream",
     "text": [
      "Epoch 34/50, Train Loss: 0.000476601, Validation Loss: 0.000669834, Best: 0.000671601, Wait: 02\n"
     ]
    },
    {
     "name": "stderr",
     "output_type": "stream",
     "text": [
      "\r",
      "Epoch 35/50:  70%|███████   | 35/50 [00:52<00:22,  1.48s/it]"
     ]
    },
    {
     "name": "stdout",
     "output_type": "stream",
     "text": [
      "Epoch 35/50, Train Loss: 0.000474335, Validation Loss: 0.000691185, Best: 0.000669834, Wait: 00\n"
     ]
    },
    {
     "name": "stderr",
     "output_type": "stream",
     "text": [
      "\r",
      "Epoch 36/50:  72%|███████▏  | 36/50 [00:54<00:21,  1.51s/it]"
     ]
    },
    {
     "name": "stdout",
     "output_type": "stream",
     "text": [
      "Epoch 36/50, Train Loss: 0.000473129, Validation Loss: 0.000673250, Best: 0.000669834, Wait: 01\n"
     ]
    },
    {
     "name": "stderr",
     "output_type": "stream",
     "text": [
      "\r",
      "Epoch 37/50:  74%|███████▍  | 37/50 [00:55<00:19,  1.49s/it]"
     ]
    },
    {
     "name": "stdout",
     "output_type": "stream",
     "text": [
      "Epoch 37/50, Train Loss: 0.000469369, Validation Loss: 0.000688873, Best: 0.000669834, Wait: 02\n"
     ]
    },
    {
     "name": "stderr",
     "output_type": "stream",
     "text": [
      "\r",
      "Epoch 38/50:  76%|███████▌  | 38/50 [00:57<00:17,  1.49s/it]"
     ]
    },
    {
     "name": "stdout",
     "output_type": "stream",
     "text": [
      "Epoch 38/50, Train Loss: 0.000466505, Validation Loss: 0.000675325, Best: 0.000669834, Wait: 03\n"
     ]
    },
    {
     "name": "stderr",
     "output_type": "stream",
     "text": [
      "\r",
      "Epoch 39/50:  78%|███████▊  | 39/50 [00:58<00:16,  1.49s/it]"
     ]
    },
    {
     "name": "stdout",
     "output_type": "stream",
     "text": [
      "Epoch 39/50, Train Loss: 0.000464487, Validation Loss: 0.000667955, Best: 0.000669834, Wait: 04\n"
     ]
    },
    {
     "name": "stderr",
     "output_type": "stream",
     "text": [
      "\r",
      "Epoch 40/50:  80%|████████  | 40/50 [01:00<00:14,  1.48s/it]"
     ]
    },
    {
     "name": "stdout",
     "output_type": "stream",
     "text": [
      "Epoch 40/50, Train Loss: 0.000463362, Validation Loss: 0.000660095, Best: 0.000667955, Wait: 00\n"
     ]
    },
    {
     "name": "stderr",
     "output_type": "stream",
     "text": [
      "\r",
      "Epoch 41/50:  82%|████████▏ | 41/50 [01:01<00:13,  1.48s/it]"
     ]
    },
    {
     "name": "stdout",
     "output_type": "stream",
     "text": [
      "Epoch 41/50, Train Loss: 0.000461150, Validation Loss: 0.000675574, Best: 0.000660095, Wait: 00\n"
     ]
    },
    {
     "name": "stderr",
     "output_type": "stream",
     "text": [
      "\r",
      "Epoch 42/50:  84%|████████▍ | 42/50 [01:02<00:11,  1.48s/it]"
     ]
    },
    {
     "name": "stdout",
     "output_type": "stream",
     "text": [
      "Epoch 42/50, Train Loss: 0.000460108, Validation Loss: 0.000660927, Best: 0.000660095, Wait: 01\n"
     ]
    },
    {
     "name": "stderr",
     "output_type": "stream",
     "text": [
      "\r",
      "Epoch 43/50:  86%|████████▌ | 43/50 [01:04<00:10,  1.48s/it]"
     ]
    },
    {
     "name": "stdout",
     "output_type": "stream",
     "text": [
      "Epoch 43/50, Train Loss: 0.000456971, Validation Loss: 0.000659341, Best: 0.000660095, Wait: 02\n"
     ]
    },
    {
     "name": "stderr",
     "output_type": "stream",
     "text": [
      "\r",
      "Epoch 44/50:  88%|████████▊ | 44/50 [01:05<00:08,  1.47s/it]"
     ]
    },
    {
     "name": "stdout",
     "output_type": "stream",
     "text": [
      "Epoch 44/50, Train Loss: 0.000456306, Validation Loss: 0.000669884, Best: 0.000660095, Wait: 03\n"
     ]
    },
    {
     "name": "stderr",
     "output_type": "stream",
     "text": [
      "\r",
      "Epoch 45/50:  90%|█████████ | 45/50 [01:07<00:07,  1.48s/it]"
     ]
    },
    {
     "name": "stdout",
     "output_type": "stream",
     "text": [
      "Epoch 45/50, Train Loss: 0.000454354, Validation Loss: 0.000644586, Best: 0.000660095, Wait: 04\n"
     ]
    },
    {
     "name": "stderr",
     "output_type": "stream",
     "text": [
      "\r",
      "Epoch 46/50:  92%|█████████▏| 46/50 [01:08<00:05,  1.47s/it]"
     ]
    },
    {
     "name": "stdout",
     "output_type": "stream",
     "text": [
      "Epoch 46/50, Train Loss: 0.000452289, Validation Loss: 0.000658459, Best: 0.000644586, Wait: 00\n"
     ]
    },
    {
     "name": "stderr",
     "output_type": "stream",
     "text": [
      "\r",
      "Epoch 47/50:  94%|█████████▍| 47/50 [01:10<00:04,  1.49s/it]"
     ]
    },
    {
     "name": "stdout",
     "output_type": "stream",
     "text": [
      "Epoch 47/50, Train Loss: 0.000451085, Validation Loss: 0.000636800, Best: 0.000644586, Wait: 01\n"
     ]
    },
    {
     "name": "stderr",
     "output_type": "stream",
     "text": [
      "\r",
      "Epoch 48/50:  96%|█████████▌| 48/50 [01:11<00:03,  1.51s/it]"
     ]
    },
    {
     "name": "stdout",
     "output_type": "stream",
     "text": [
      "Epoch 48/50, Train Loss: 0.000449936, Validation Loss: 0.000632741, Best: 0.000636800, Wait: 00\n"
     ]
    },
    {
     "name": "stderr",
     "output_type": "stream",
     "text": [
      "\r",
      "Epoch 49/50:  98%|█████████▊| 49/50 [01:13<00:01,  1.52s/it]"
     ]
    },
    {
     "name": "stdout",
     "output_type": "stream",
     "text": [
      "Epoch 49/50, Train Loss: 0.000448110, Validation Loss: 0.000644454, Best: 0.000632741, Wait: 00\n"
     ]
    },
    {
     "name": "stderr",
     "output_type": "stream",
     "text": [
      "\r",
      "Epoch 50/50: 100%|██████████| 50/50 [01:15<00:00,  1.54s/it]"
     ]
    },
    {
     "name": "stdout",
     "output_type": "stream",
     "text": [
      "Epoch 50/50, Train Loss: 0.000447705, Validation Loss: 0.000653159, Best: 0.000632741, Wait: 01\n",
      "Epoch 00048: early stopping\n"
     ]
    },
    {
     "name": "stderr",
     "output_type": "stream",
     "text": [
      "\n"
     ]
    },
    {
     "data": {
      "image/png": "[encoded data removed]",
      "text/plain": [
       "<matplotlib.figure.Figure at 0x7f7001d16cf8>"
      ]
     },
     "metadata": {},
     "output_type": "display_data"
    },
    {
     "name": "stdout",
     "output_type": "stream",
     "text": [
      "Training layer 3...\n",
      "Tensorboard logs dir for this run is /home/xiami/.result/logs/run28\n"
     ]
    },
    {
     "name": "stderr",
     "output_type": "stream",
     "text": [
      "Epoch 01/50:   2%|▏         | 1/50 [00:01<01:00,  1.24s/it]"
     ]
    },
    {
     "name": "stdout",
     "output_type": "stream",
     "text": [
      "Epoch 01/50, Train Loss: 0.006298547, Validation Loss: 0.002455717, Best: inf, Wait: 00\n"
     ]
    },
    {
     "name": "stderr",
     "output_type": "stream",
     "text": [
      "\r",
      "Epoch 02/50:   4%|▍         | 2/50 [00:02<00:59,  1.23s/it]"
     ]
    },
    {
     "name": "stdout",
     "output_type": "stream",
     "text": [
      "Epoch 02/50, Train Loss: 0.002007202, Validation Loss: 0.001932977, Best: 0.002455717, Wait: 00\n"
     ]
    },
    {
     "name": "stderr",
     "output_type": "stream",
     "text": [
      "\r",
      "Epoch 03/50:   6%|▌         | 3/50 [00:03<00:58,  1.25s/it]"
     ]
    },
    {
     "name": "stdout",
     "output_type": "stream",
     "text": [
      "Epoch 03/50, Train Loss: 0.001683499, Validation Loss: 0.001715156, Best: 0.001932977, Wait: 00\n"
     ]
    },
    {
     "name": "stderr",
     "output_type": "stream",
     "text": [
      "\r",
      "Epoch 04/50:   8%|▊         | 4/50 [00:05<00:57,  1.25s/it]"
     ]
    },
    {
     "name": "stdout",
     "output_type": "stream",
     "text": [
      "Epoch 04/50, Train Loss: 0.001527323, Validation Loss: 0.001572548, Best: 0.001715156, Wait: 00\n"
     ]
    },
    {
     "name": "stderr",
     "output_type": "stream",
     "text": [
      "\r",
      "Epoch 05/50:  10%|█         | 5/50 [00:06<00:55,  1.24s/it]"
     ]
    },
    {
     "name": "stdout",
     "output_type": "stream",
     "text": [
      "Epoch 05/50, Train Loss: 0.001438710, Validation Loss: 0.001516317, Best: 0.001572548, Wait: 00\n"
     ]
    },
    {
     "name": "stderr",
     "output_type": "stream",
     "text": [
      "\r",
      "Epoch 06/50:  12%|█▏        | 6/50 [00:07<00:55,  1.26s/it]"
     ]
    },
    {
     "name": "stdout",
     "output_type": "stream",
     "text": [
      "Epoch 06/50, Train Loss: 0.001371657, Validation Loss: 0.001432407, Best: 0.001516317, Wait: 00\n"
     ]
    },
    {
     "name": "stderr",
     "output_type": "stream",
     "text": [
      "\r",
      "Epoch 07/50:  14%|█▍        | 7/50 [00:08<00:54,  1.28s/it]"
     ]
    },
    {
     "name": "stdout",
     "output_type": "stream",
     "text": [
      "Epoch 07/50, Train Loss: 0.001320611, Validation Loss: 0.001424430, Best: 0.001432407, Wait: 00\n"
     ]
    },
    {
     "name": "stderr",
     "output_type": "stream",
     "text": [
      "\r",
      "Epoch 08/50:  16%|█▌        | 8/50 [00:10<00:54,  1.29s/it]"
     ]
    },
    {
     "name": "stdout",
     "output_type": "stream",
     "text": [
      "Epoch 08/50, Train Loss: 0.001273943, Validation Loss: 0.001340518, Best: 0.001424430, Wait: 00\n"
     ]
    },
    {
     "name": "stderr",
     "output_type": "stream",
     "text": [
      "\r",
      "Epoch 09/50:  18%|█▊        | 9/50 [00:11<00:53,  1.30s/it]"
     ]
    },
    {
     "name": "stdout",
     "output_type": "stream",
     "text": [
      "Epoch 09/50, Train Loss: 0.001238135, Validation Loss: 0.001277609, Best: 0.001340518, Wait: 00\n"
     ]
    },
    {
     "name": "stderr",
     "output_type": "stream",
     "text": [
      "\r",
      "Epoch 10/50:  20%|██        | 10/50 [00:12<00:51,  1.28s/it]"
     ]
    },
    {
     "name": "stdout",
     "output_type": "stream",
     "text": [
      "Epoch 10/50, Train Loss: 0.001206024, Validation Loss: 0.001269850, Best: 0.001277609, Wait: 00\n"
     ]
    },
    {
     "name": "stderr",
     "output_type": "stream",
     "text": [
      "\r",
      "Epoch 11/50:  22%|██▏       | 11/50 [00:13<00:48,  1.25s/it]"
     ]
    },
    {
     "name": "stdout",
     "output_type": "stream",
     "text": [
      "Epoch 11/50, Train Loss: 0.001174181, Validation Loss: 0.001283739, Best: 0.001269850, Wait: 00\n"
     ]
    },
    {
     "name": "stderr",
     "output_type": "stream",
     "text": [
      "\r",
      "Epoch 12/50:  24%|██▍       | 12/50 [00:15<00:47,  1.25s/it]"
     ]
    },
    {
     "name": "stdout",
     "output_type": "stream",
     "text": [
      "Epoch 12/50, Train Loss: 0.001151797, Validation Loss: 0.001235072, Best: 0.001269850, Wait: 01\n"
     ]
    },
    {
     "name": "stderr",
     "output_type": "stream",
     "text": [
      "\r",
      "Epoch 13/50:  26%|██▌       | 13/50 [00:16<00:45,  1.23s/it]"
     ]
    },
    {
     "name": "stdout",
     "output_type": "stream",
     "text": [
      "Epoch 13/50, Train Loss: 0.001128228, Validation Loss: 0.001242720, Best: 0.001235072, Wait: 00\n"
     ]
    },
    {
     "name": "stderr",
     "output_type": "stream",
     "text": [
      "\r",
      "Epoch 14/50:  28%|██▊       | 14/50 [00:17<00:44,  1.22s/it]"
     ]
    },
    {
     "name": "stdout",
     "output_type": "stream",
     "text": [
      "Epoch 14/50, Train Loss: 0.001106051, Validation Loss: 0.001235198, Best: 0.001235072, Wait: 01\n"
     ]
    },
    {
     "name": "stderr",
     "output_type": "stream",
     "text": [
      "\r",
      "Epoch 15/50:  30%|███       | 15/50 [00:18<00:43,  1.24s/it]"
     ]
    },
    {
     "name": "stdout",
     "output_type": "stream",
     "text": [
      "Epoch 15/50, Train Loss: 0.001087768, Validation Loss: 0.001186841, Best: 0.001235072, Wait: 02\n"
     ]
    },
    {
     "name": "stderr",
     "output_type": "stream",
     "text": [
      "\r",
      "Epoch 16/50:  32%|███▏      | 16/50 [00:20<00:42,  1.26s/it]"
     ]
    },
    {
     "name": "stdout",
     "output_type": "stream",
     "text": [
      "Epoch 16/50, Train Loss: 0.001066709, Validation Loss: 0.001159948, Best: 0.001186841, Wait: 00\n"
     ]
    },
    {
     "name": "stderr",
     "output_type": "stream",
     "text": [
      "\r",
      "Epoch 17/50:  34%|███▍      | 17/50 [00:21<00:40,  1.24s/it]"
     ]
    },
    {
     "name": "stdout",
     "output_type": "stream",
     "text": [
      "Epoch 17/50, Train Loss: 0.001052424, Validation Loss: 0.001178350, Best: 0.001159948, Wait: 00\n"
     ]
    },
    {
     "name": "stderr",
     "output_type": "stream",
     "text": [
      "\r",
      "Epoch 18/50:  36%|███▌      | 18/50 [00:22<00:39,  1.24s/it]"
     ]
    },
    {
     "name": "stdout",
     "output_type": "stream",
     "text": [
      "Epoch 18/50, Train Loss: 0.001035158, Validation Loss: 0.001131767, Best: 0.001159948, Wait: 01\n"
     ]
    },
    {
     "name": "stderr",
     "output_type": "stream",
     "text": [
      "\r",
      "Epoch 19/50:  38%|███▊      | 19/50 [00:23<00:38,  1.24s/it]"
     ]
    },
    {
     "name": "stdout",
     "output_type": "stream",
     "text": [
      "Epoch 19/50, Train Loss: 0.001021793, Validation Loss: 0.001136404, Best: 0.001131767, Wait: 00\n"
     ]
    },
    {
     "name": "stderr",
     "output_type": "stream",
     "text": [
      "\r",
      "Epoch 20/50:  40%|████      | 20/50 [00:24<00:36,  1.23s/it]"
     ]
    },
    {
     "name": "stdout",
     "output_type": "stream",
     "text": [
      "Epoch 20/50, Train Loss: 0.001005752, Validation Loss: 0.001095512, Best: 0.001131767, Wait: 01\n"
     ]
    },
    {
     "name": "stderr",
     "output_type": "stream",
     "text": [
      "\r",
      "Epoch 21/50:  42%|████▏     | 21/50 [00:26<00:35,  1.23s/it]"
     ]
    },
    {
     "name": "stdout",
     "output_type": "stream",
     "text": [
      "Epoch 21/50, Train Loss: 0.000992835, Validation Loss: 0.001051917, Best: 0.001095512, Wait: 00\n"
     ]
    },
    {
     "name": "stderr",
     "output_type": "stream",
     "text": [
      "\r",
      "Epoch 22/50:  44%|████▍     | 22/50 [00:27<00:34,  1.24s/it]"
     ]
    },
    {
     "name": "stdout",
     "output_type": "stream",
     "text": [
      "Epoch 22/50, Train Loss: 0.000980370, Validation Loss: 0.001092516, Best: 0.001051917, Wait: 00\n"
     ]
    },
    {
     "name": "stderr",
     "output_type": "stream",
     "text": [
      "\r",
      "Epoch 23/50:  46%|████▌     | 23/50 [00:28<00:33,  1.24s/it]"
     ]
    },
    {
     "name": "stdout",
     "output_type": "stream",
     "text": [
      "Epoch 23/50, Train Loss: 0.000968979, Validation Loss: 0.001075777, Best: 0.001051917, Wait: 01\n"
     ]
    },
    {
     "name": "stderr",
     "output_type": "stream",
     "text": [
      "\r",
      "Epoch 24/50:  48%|████▊     | 24/50 [00:30<00:32,  1.27s/it]"
     ]
    },
    {
     "name": "stdout",
     "output_type": "stream",
     "text": [
      "Epoch 24/50, Train Loss: 0.000957244, Validation Loss: 0.001019709, Best: 0.001051917, Wait: 02\n"
     ]
    },
    {
     "name": "stderr",
     "output_type": "stream",
     "text": [
      "\r",
      "Epoch 25/50:  50%|█████     | 25/50 [00:31<00:31,  1.28s/it]"
     ]
    },
    {
     "name": "stdout",
     "output_type": "stream",
     "text": [
      "Epoch 25/50, Train Loss: 0.000945636, Validation Loss: 0.001032521, Best: 0.001019709, Wait: 00\n"
     ]
    },
    {
     "name": "stderr",
     "output_type": "stream",
     "text": [
      "\r",
      "Epoch 26/50:  52%|█████▏    | 26/50 [00:32<00:30,  1.27s/it]"
     ]
    },
    {
     "name": "stdout",
     "output_type": "stream",
     "text": [
      "Epoch 26/50, Train Loss: 0.000932838, Validation Loss: 0.001024729, Best: 0.001019709, Wait: 01\n"
     ]
    },
    {
     "name": "stderr",
     "output_type": "stream",
     "text": [
      "\r",
      "Epoch 27/50:  54%|█████▍    | 27/50 [00:33<00:29,  1.27s/it]"
     ]
    },
    {
     "name": "stdout",
     "output_type": "stream",
     "text": [
      "Epoch 27/50, Train Loss: 0.000923948, Validation Loss: 0.000990714, Best: 0.001019709, Wait: 02\n"
     ]
    },
    {
     "name": "stderr",
     "output_type": "stream",
     "text": [
      "\r",
      "Epoch 28/50:  56%|█████▌    | 28/50 [00:35<00:27,  1.26s/it]"
     ]
    },
    {
     "name": "stdout",
     "output_type": "stream",
     "text": [
      "Epoch 28/50, Train Loss: 0.000915369, Validation Loss: 0.001028802, Best: 0.000990714, Wait: 00\n"
     ]
    },
    {
     "name": "stderr",
     "output_type": "stream",
     "text": [
      "\r",
      "Epoch 29/50:  58%|█████▊    | 29/50 [00:36<00:26,  1.26s/it]"
     ]
    },
    {
     "name": "stdout",
     "output_type": "stream",
     "text": [
      "Epoch 29/50, Train Loss: 0.000907878, Validation Loss: 0.000987110, Best: 0.000990714, Wait: 01\n"
     ]
    },
    {
     "name": "stderr",
     "output_type": "stream",
     "text": [
      "\r",
      "Epoch 30/50:  60%|██████    | 30/50 [00:37<00:24,  1.23s/it]"
     ]
    },
    {
     "name": "stdout",
     "output_type": "stream",
     "text": [
      "Epoch 30/50, Train Loss: 0.000897866, Validation Loss: 0.000999675, Best: 0.000987110, Wait: 00\n"
     ]
    },
    {
     "name": "stderr",
     "output_type": "stream",
     "text": [
      "\r",
      "Epoch 31/50:  62%|██████▏   | 31/50 [00:38<00:23,  1.22s/it]"
     ]
    },
    {
     "name": "stdout",
     "output_type": "stream",
     "text": [
      "Epoch 31/50, Train Loss: 0.000890965, Validation Loss: 0.000998334, Best: 0.000987110, Wait: 01\n"
     ]
    },
    {
     "name": "stderr",
     "output_type": "stream",
     "text": [
      "\r",
      "Epoch 32/50:  64%|██████▍   | 32/50 [00:39<00:22,  1.23s/it]"
     ]
    },
    {
     "name": "stdout",
     "output_type": "stream",
     "text": [
      "Epoch 32/50, Train Loss: 0.000880728, Validation Loss: 0.001000773, Best: 0.000987110, Wait: 02\n"
     ]
    },
    {
     "name": "stderr",
     "output_type": "stream",
     "text": [
      "\r",
      "Epoch 33/50:  66%|██████▌   | 33/50 [00:41<00:20,  1.23s/it]"
     ]
    },
    {
     "name": "stdout",
     "output_type": "stream",
     "text": [
      "Epoch 33/50, Train Loss: 0.000872473, Validation Loss: 0.001012878, Best: 0.000987110, Wait: 03\n"
     ]
    },
    {
     "name": "stderr",
     "output_type": "stream",
     "text": [
      "\r",
      "Epoch 34/50:  68%|██████▊   | 34/50 [00:42<00:19,  1.24s/it]"
     ]
    },
    {
     "name": "stdout",
     "output_type": "stream",
     "text": [
      "Epoch 34/50, Train Loss: 0.000864175, Validation Loss: 0.000959215, Best: 0.000987110, Wait: 04\n"
     ]
    },
    {
     "name": "stderr",
     "output_type": "stream",
     "text": [
      "\r",
      "Epoch 35/50:  70%|███████   | 35/50 [00:43<00:18,  1.25s/it]"
     ]
    },
    {
     "name": "stdout",
     "output_type": "stream",
     "text": [
      "Epoch 35/50, Train Loss: 0.000858215, Validation Loss: 0.000932456, Best: 0.000959215, Wait: 00\n"
     ]
    },
    {
     "name": "stderr",
     "output_type": "stream",
     "text": [
      "\r",
      "Epoch 36/50:  72%|███████▏  | 36/50 [00:45<00:17,  1.26s/it]"
     ]
    },
    {
     "name": "stdout",
     "output_type": "stream",
     "text": [
      "Epoch 36/50, Train Loss: 0.000849425, Validation Loss: 0.000943199, Best: 0.000932456, Wait: 00\n"
     ]
    },
    {
     "name": "stderr",
     "output_type": "stream",
     "text": [
      "\r",
      "Epoch 37/50:  74%|███████▍  | 37/50 [00:46<00:16,  1.27s/it]"
     ]
    },
    {
     "name": "stdout",
     "output_type": "stream",
     "text": [
      "Epoch 37/50, Train Loss: 0.000844074, Validation Loss: 0.000929256, Best: 0.000932456, Wait: 01\n"
     ]
    },
    {
     "name": "stderr",
     "output_type": "stream",
     "text": [
      "\r",
      "Epoch 38/50:  76%|███████▌  | 38/50 [00:47<00:15,  1.28s/it]"
     ]
    },
    {
     "name": "stdout",
     "output_type": "stream",
     "text": [
      "Epoch 38/50, Train Loss: 0.000836867, Validation Loss: 0.000936735, Best: 0.000929256, Wait: 00\n"
     ]
    },
    {
     "name": "stderr",
     "output_type": "stream",
     "text": [
      "\r",
      "Epoch 39/50:  78%|███████▊  | 39/50 [00:48<00:14,  1.29s/it]"
     ]
    },
    {
     "name": "stdout",
     "output_type": "stream",
     "text": [
      "Epoch 39/50, Train Loss: 0.000830472, Validation Loss: 0.000919193, Best: 0.000929256, Wait: 01\n"
     ]
    },
    {
     "name": "stderr",
     "output_type": "stream",
     "text": [
      "\r",
      "Epoch 40/50:  80%|████████  | 40/50 [00:50<00:12,  1.30s/it]"
     ]
    },
    {
     "name": "stdout",
     "output_type": "stream",
     "text": [
      "Epoch 40/50, Train Loss: 0.000824452, Validation Loss: 0.000907377, Best: 0.000919193, Wait: 00\n"
     ]
    },
    {
     "name": "stderr",
     "output_type": "stream",
     "text": [
      "\r",
      "Epoch 41/50:  82%|████████▏ | 41/50 [00:51<00:11,  1.30s/it]"
     ]
    },
    {
     "name": "stdout",
     "output_type": "stream",
     "text": [
      "Epoch 41/50, Train Loss: 0.000817568, Validation Loss: 0.000903504, Best: 0.000907377, Wait: 00\n"
     ]
    },
    {
     "name": "stderr",
     "output_type": "stream",
     "text": [
      "\r",
      "Epoch 42/50:  84%|████████▍ | 42/50 [00:52<00:10,  1.27s/it]"
     ]
    },
    {
     "name": "stdout",
     "output_type": "stream",
     "text": [
      "Epoch 42/50, Train Loss: 0.000811280, Validation Loss: 0.000902679, Best: 0.000903504, Wait: 00\n"
     ]
    },
    {
     "name": "stderr",
     "output_type": "stream",
     "text": [
      "\r",
      "Epoch 43/50:  86%|████████▌ | 43/50 [00:54<00:08,  1.26s/it]"
     ]
    },
    {
     "name": "stdout",
     "output_type": "stream",
     "text": [
      "Epoch 43/50, Train Loss: 0.000805884, Validation Loss: 0.000899641, Best: 0.000903504, Wait: 01\n"
     ]
    },
    {
     "name": "stderr",
     "output_type": "stream",
     "text": [
      "\r",
      "Epoch 44/50:  88%|████████▊ | 44/50 [00:55<00:07,  1.23s/it]"
     ]
    },
    {
     "name": "stdout",
     "output_type": "stream",
     "text": [
      "Epoch 44/50, Train Loss: 0.000799408, Validation Loss: 0.000930532, Best: 0.000899641, Wait: 00\n"
     ]
    },
    {
     "name": "stderr",
     "output_type": "stream",
     "text": [
      "\r",
      "Epoch 45/50:  90%|█████████ | 45/50 [00:56<00:06,  1.24s/it]"
     ]
    },
    {
     "name": "stdout",
     "output_type": "stream",
     "text": [
      "Epoch 45/50, Train Loss: 0.000794875, Validation Loss: 0.000884447, Best: 0.000899641, Wait: 01\n"
     ]
    },
    {
     "name": "stderr",
     "output_type": "stream",
     "text": [
      "\r",
      "Epoch 46/50:  92%|█████████▏| 46/50 [00:57<00:04,  1.24s/it]"
     ]
    },
    {
     "name": "stdout",
     "output_type": "stream",
     "text": [
      "Epoch 46/50, Train Loss: 0.000788815, Validation Loss: 0.000874296, Best: 0.000884447, Wait: 00\n"
     ]
    },
    {
     "name": "stderr",
     "output_type": "stream",
     "text": [
      "\r",
      "Epoch 47/50:  94%|█████████▍| 47/50 [00:58<00:03,  1.26s/it]"
     ]
    },
    {
     "name": "stdout",
     "output_type": "stream",
     "text": [
      "Epoch 47/50, Train Loss: 0.000783248, Validation Loss: 0.000870031, Best: 0.000874296, Wait: 00\n"
     ]
    },
    {
     "name": "stderr",
     "output_type": "stream",
     "text": [
      "\r",
      "Epoch 48/50:  96%|█████████▌| 48/50 [01:00<00:02,  1.24s/it]"
     ]
    },
    {
     "name": "stdout",
     "output_type": "stream",
     "text": [
      "Epoch 48/50, Train Loss: 0.000778425, Validation Loss: 0.000884953, Best: 0.000870031, Wait: 00\n"
     ]
    },
    {
     "name": "stderr",
     "output_type": "stream",
     "text": [
      "\r",
      "Epoch 49/50:  98%|█████████▊| 49/50 [01:01<00:01,  1.25s/it]"
     ]
    },
    {
     "name": "stdout",
     "output_type": "stream",
     "text": [
      "Epoch 49/50, Train Loss: 0.000774602, Validation Loss: 0.000869414, Best: 0.000870031, Wait: 01\n"
     ]
    },
    {
     "name": "stderr",
     "output_type": "stream",
     "text": [
      "\r",
      "Epoch 50/50: 100%|██████████| 50/50 [01:02<00:00,  1.27s/it]"
     ]
    },
    {
     "name": "stdout",
     "output_type": "stream",
     "text": [
      "Epoch 50/50, Train Loss: 0.000769387, Validation Loss: 0.000864262, Best: 0.000870031, Wait: 02\n",
      "Epoch 00050: early stopping\n"
     ]
    },
    {
     "name": "stderr",
     "output_type": "stream",
     "text": [
      "\n"
     ]
    },
    {
     "data": {
      "image/png": "[encoded data removed]",
      "text/plain": [
       "<matplotlib.figure.Figure at 0x7f6ff83ad0b8>"
      ]
     },
     "metadata": {},
     "output_type": "display_data"
    },
    {
     "name": "stdout",
     "output_type": "stream",
     "text": [
      "Training layer 4...\n"
     ]
    },
    {
     "name": "stderr",
     "output_type": "stream",
     "text": [
      "\r",
      "  0%|          | 0/50 [00:00<?, ?it/s]"
     ]
    },
    {
     "name": "stdout",
     "output_type": "stream",
     "text": [
      "Tensorboard logs dir for this run is /home/xiami/.result/logs/run29\n"
     ]
    },
    {
     "name": "stderr",
     "output_type": "stream",
     "text": [
      "\r",
      "Epoch 01/50:   2%|▏         | 1/50 [00:01<00:52,  1.07s/it]"
     ]
    },
    {
     "name": "stdout",
     "output_type": "stream",
     "text": [
      "Epoch 01/50, Train Loss: 0.039580792, Validation Loss: 0.023730725, Best: inf, Wait: 00\n"
     ]
    },
    {
     "name": "stderr",
     "output_type": "stream",
     "text": [
      "\r",
      "Epoch 02/50:   4%|▍         | 2/50 [00:02<00:51,  1.08s/it]"
     ]
    },
    {
     "name": "stdout",
     "output_type": "stream",
     "text": [
      "Epoch 02/50, Train Loss: 0.022983508, Validation Loss: 0.022274574, Best: 0.023730725, Wait: 00\n"
     ]
    },
    {
     "name": "stderr",
     "output_type": "stream",
     "text": [
      "\r",
      "Epoch 03/50:   6%|▌         | 3/50 [00:03<00:51,  1.09s/it]"
     ]
    },
    {
     "name": "stdout",
     "output_type": "stream",
     "text": [
      "Epoch 03/50, Train Loss: 0.022208316, Validation Loss: 0.021879321, Best: 0.022274574, Wait: 00\n"
     ]
    },
    {
     "name": "stderr",
     "output_type": "stream",
     "text": [
      "\r",
      "Epoch 04/50:   8%|▊         | 4/50 [00:04<00:49,  1.07s/it]"
     ]
    },
    {
     "name": "stdout",
     "output_type": "stream",
     "text": [
      "Epoch 04/50, Train Loss: 0.021899061, Validation Loss: 0.021641407, Best: 0.021879321, Wait: 00\n"
     ]
    },
    {
     "name": "stderr",
     "output_type": "stream",
     "text": [
      "\r",
      "Epoch 05/50:  10%|█         | 5/50 [00:05<00:47,  1.06s/it]"
     ]
    },
    {
     "name": "stdout",
     "output_type": "stream",
     "text": [
      "Epoch 05/50, Train Loss: 0.021691456, Validation Loss: 0.021463478, Best: 0.021641407, Wait: 00\n"
     ]
    },
    {
     "name": "stderr",
     "output_type": "stream",
     "text": [
      "\r",
      "Epoch 06/50:  12%|█▏        | 6/50 [00:06<00:46,  1.05s/it]"
     ]
    },
    {
     "name": "stdout",
     "output_type": "stream",
     "text": [
      "Epoch 06/50, Train Loss: 0.021533703, Validation Loss: 0.021281788, Best: 0.021463478, Wait: 00\n"
     ]
    },
    {
     "name": "stderr",
     "output_type": "stream",
     "text": [
      "\r",
      "Epoch 07/50:  14%|█▍        | 7/50 [00:07<00:45,  1.07s/it]"
     ]
    },
    {
     "name": "stdout",
     "output_type": "stream",
     "text": [
      "Epoch 07/50, Train Loss: 0.021387319, Validation Loss: 0.021161854, Best: 0.021281788, Wait: 00\n"
     ]
    },
    {
     "name": "stderr",
     "output_type": "stream",
     "text": [
      "\r",
      "Epoch 08/50:  16%|█▌        | 8/50 [00:08<00:44,  1.06s/it]"
     ]
    },
    {
     "name": "stdout",
     "output_type": "stream",
     "text": [
      "Epoch 08/50, Train Loss: 0.021257159, Validation Loss: 0.021055171, Best: 0.021161854, Wait: 00\n"
     ]
    },
    {
     "name": "stderr",
     "output_type": "stream",
     "text": [
      "\r",
      "Epoch 09/50:  18%|█▊        | 9/50 [00:09<00:43,  1.06s/it]"
     ]
    },
    {
     "name": "stdout",
     "output_type": "stream",
     "text": [
      "Epoch 09/50, Train Loss: 0.021155353, Validation Loss: 0.020937778, Best: 0.021055171, Wait: 00\n"
     ]
    },
    {
     "name": "stderr",
     "output_type": "stream",
     "text": [
      "\r",
      "Epoch 10/50:  20%|██        | 10/50 [00:10<00:42,  1.06s/it]"
     ]
    },
    {
     "name": "stdout",
     "output_type": "stream",
     "text": [
      "Epoch 10/50, Train Loss: 0.021070749, Validation Loss: 0.020839330, Best: 0.020937778, Wait: 00\n"
     ]
    },
    {
     "name": "stderr",
     "output_type": "stream",
     "text": [
      "\r",
      "Epoch 11/50:  22%|██▏       | 11/50 [00:11<00:40,  1.05s/it]"
     ]
    },
    {
     "name": "stdout",
     "output_type": "stream",
     "text": [
      "Epoch 11/50, Train Loss: 0.020994219, Validation Loss: 0.020779571, Best: 0.020839330, Wait: 00\n"
     ]
    },
    {
     "name": "stderr",
     "output_type": "stream",
     "text": [
      "\r",
      "Epoch 12/50:  24%|██▍       | 12/50 [00:12<00:39,  1.05s/it]"
     ]
    },
    {
     "name": "stdout",
     "output_type": "stream",
     "text": [
      "Epoch 12/50, Train Loss: 0.020930827, Validation Loss: 0.020741962, Best: 0.020779571, Wait: 00\n"
     ]
    },
    {
     "name": "stderr",
     "output_type": "stream",
     "text": [
      "\r",
      "Epoch 13/50:  26%|██▌       | 13/50 [00:13<00:38,  1.04s/it]"
     ]
    },
    {
     "name": "stdout",
     "output_type": "stream",
     "text": [
      "Epoch 13/50, Train Loss: 0.020883039, Validation Loss: 0.020689216, Best: 0.020741962, Wait: 00\n"
     ]
    },
    {
     "name": "stderr",
     "output_type": "stream",
     "text": [
      "\r",
      "Epoch 14/50:  28%|██▊       | 14/50 [00:14<00:37,  1.04s/it]"
     ]
    },
    {
     "name": "stdout",
     "output_type": "stream",
     "text": [
      "Epoch 14/50, Train Loss: 0.020840642, Validation Loss: 0.020639086, Best: 0.020689216, Wait: 00\n"
     ]
    },
    {
     "name": "stderr",
     "output_type": "stream",
     "text": [
      "\r",
      "Epoch 15/50:  30%|███       | 15/50 [00:15<00:36,  1.05s/it]"
     ]
    },
    {
     "name": "stdout",
     "output_type": "stream",
     "text": [
      "Epoch 15/50, Train Loss: 0.020805461, Validation Loss: 0.020614048, Best: 0.020639086, Wait: 00\n"
     ]
    },
    {
     "name": "stderr",
     "output_type": "stream",
     "text": [
      "\r",
      "Epoch 16/50:  32%|███▏      | 16/50 [00:16<00:35,  1.06s/it]"
     ]
    },
    {
     "name": "stdout",
     "output_type": "stream",
     "text": [
      "Epoch 16/50, Train Loss: 0.020775736, Validation Loss: 0.020581080, Best: 0.020614048, Wait: 00\n"
     ]
    },
    {
     "name": "stderr",
     "output_type": "stream",
     "text": [
      "\r",
      "Epoch 17/50:  34%|███▍      | 17/50 [00:17<00:34,  1.05s/it]"
     ]
    },
    {
     "name": "stdout",
     "output_type": "stream",
     "text": [
      "Epoch 17/50, Train Loss: 0.020750033, Validation Loss: 0.020595580, Best: 0.020581080, Wait: 00\n"
     ]
    },
    {
     "name": "stderr",
     "output_type": "stream",
     "text": [
      "\r",
      "Epoch 18/50:  36%|███▌      | 18/50 [00:19<00:34,  1.06s/it]"
     ]
    },
    {
     "name": "stdout",
     "output_type": "stream",
     "text": [
      "Epoch 18/50, Train Loss: 0.020722102, Validation Loss: 0.020559687, Best: 0.020581080, Wait: 01\n"
     ]
    },
    {
     "name": "stderr",
     "output_type": "stream",
     "text": [
      "\r",
      "Epoch 19/50:  38%|███▊      | 19/50 [00:20<00:33,  1.07s/it]"
     ]
    },
    {
     "name": "stdout",
     "output_type": "stream",
     "text": [
      "Epoch 19/50, Train Loss: 0.020699893, Validation Loss: 0.020558633, Best: 0.020559687, Wait: 00\n"
     ]
    },
    {
     "name": "stderr",
     "output_type": "stream",
     "text": [
      "\r",
      "Epoch 20/50:  40%|████      | 20/50 [00:21<00:32,  1.07s/it]"
     ]
    },
    {
     "name": "stdout",
     "output_type": "stream",
     "text": [
      "Epoch 20/50, Train Loss: 0.020672325, Validation Loss: 0.020479338, Best: 0.020558633, Wait: 00\n"
     ]
    },
    {
     "name": "stderr",
     "output_type": "stream",
     "text": [
      "\r",
      "Epoch 21/50:  42%|████▏     | 21/50 [00:22<00:31,  1.07s/it]"
     ]
    },
    {
     "name": "stdout",
     "output_type": "stream",
     "text": [
      "Epoch 21/50, Train Loss: 0.020651641, Validation Loss: 0.020487636, Best: 0.020479338, Wait: 00\n"
     ]
    },
    {
     "name": "stderr",
     "output_type": "stream",
     "text": [
      "\r",
      "Epoch 22/50:  44%|████▍     | 22/50 [00:23<00:29,  1.06s/it]"
     ]
    },
    {
     "name": "stdout",
     "output_type": "stream",
     "text": [
      "Epoch 22/50, Train Loss: 0.020638381, Validation Loss: 0.020478094, Best: 0.020479338, Wait: 01\n"
     ]
    },
    {
     "name": "stderr",
     "output_type": "stream",
     "text": [
      "\r",
      "Epoch 23/50:  46%|████▌     | 23/50 [00:24<00:28,  1.05s/it]"
     ]
    },
    {
     "name": "stdout",
     "output_type": "stream",
     "text": [
      "Epoch 23/50, Train Loss: 0.020618633, Validation Loss: 0.020454613, Best: 0.020478094, Wait: 00\n"
     ]
    },
    {
     "name": "stderr",
     "output_type": "stream",
     "text": [
      "\r",
      "Epoch 24/50:  48%|████▊     | 24/50 [00:25<00:27,  1.04s/it]"
     ]
    },
    {
     "name": "stdout",
     "output_type": "stream",
     "text": [
      "Epoch 24/50, Train Loss: 0.020609054, Validation Loss: 0.020431384, Best: 0.020454613, Wait: 00\n"
     ]
    },
    {
     "name": "stderr",
     "output_type": "stream",
     "text": [
      "\r",
      "Epoch 25/50:  50%|█████     | 25/50 [00:26<00:25,  1.03s/it]"
     ]
    },
    {
     "name": "stdout",
     "output_type": "stream",
     "text": [
      "Epoch 25/50, Train Loss: 0.020595021, Validation Loss: 0.020435186, Best: 0.020431384, Wait: 00\n"
     ]
    },
    {
     "name": "stderr",
     "output_type": "stream",
     "text": [
      "\r",
      "Epoch 26/50:  52%|█████▏    | 26/50 [00:27<00:24,  1.04s/it]"
     ]
    },
    {
     "name": "stdout",
     "output_type": "stream",
     "text": [
      "Epoch 26/50, Train Loss: 0.020581828, Validation Loss: 0.020436157, Best: 0.020431384, Wait: 01\n"
     ]
    },
    {
     "name": "stderr",
     "output_type": "stream",
     "text": [
      "\r",
      "Epoch 27/50:  54%|█████▍    | 27/50 [00:28<00:23,  1.04s/it]"
     ]
    },
    {
     "name": "stdout",
     "output_type": "stream",
     "text": [
      "Epoch 27/50, Train Loss: 0.020571161, Validation Loss: 0.020407742, Best: 0.020431384, Wait: 02\n"
     ]
    },
    {
     "name": "stderr",
     "output_type": "stream",
     "text": [
      "\r",
      "Epoch 28/50:  56%|█████▌    | 28/50 [00:29<00:22,  1.04s/it]"
     ]
    },
    {
     "name": "stdout",
     "output_type": "stream",
     "text": [
      "Epoch 28/50, Train Loss: 0.020556178, Validation Loss: 0.020350765, Best: 0.020407742, Wait: 00\n"
     ]
    },
    {
     "name": "stderr",
     "output_type": "stream",
     "text": [
      "\r",
      "Epoch 29/50:  58%|█████▊    | 29/50 [00:30<00:21,  1.05s/it]"
     ]
    },
    {
     "name": "stdout",
     "output_type": "stream",
     "text": [
      "Epoch 29/50, Train Loss: 0.020542806, Validation Loss: 0.020360218, Best: 0.020350765, Wait: 00\n"
     ]
    },
    {
     "name": "stderr",
     "output_type": "stream",
     "text": [
      "\r",
      "Epoch 30/50:  60%|██████    | 30/50 [00:31<00:21,  1.06s/it]"
     ]
    },
    {
     "name": "stdout",
     "output_type": "stream",
     "text": [
      "Epoch 30/50, Train Loss: 0.020528444, Validation Loss: 0.020361997, Best: 0.020350765, Wait: 01\n"
     ]
    },
    {
     "name": "stderr",
     "output_type": "stream",
     "text": [
      "\r",
      "Epoch 31/50:  62%|██████▏   | 31/50 [00:32<00:19,  1.03s/it]"
     ]
    },
    {
     "name": "stdout",
     "output_type": "stream",
     "text": [
      "Epoch 31/50, Train Loss: 0.020507502, Validation Loss: 0.020382227, Best: 0.020350765, Wait: 02\n"
     ]
    },
    {
     "name": "stderr",
     "output_type": "stream",
     "text": [
      "\r",
      "Epoch 32/50:  64%|██████▍   | 32/50 [00:33<00:18,  1.05s/it]"
     ]
    },
    {
     "name": "stdout",
     "output_type": "stream",
     "text": [
      "Epoch 32/50, Train Loss: 0.020493402, Validation Loss: 0.020291867, Best: 0.020350765, Wait: 03\n"
     ]
    },
    {
     "name": "stderr",
     "output_type": "stream",
     "text": [
      "\r",
      "Epoch 33/50:  66%|██████▌   | 33/50 [00:34<00:17,  1.05s/it]"
     ]
    },
    {
     "name": "stdout",
     "output_type": "stream",
     "text": [
      "Epoch 33/50, Train Loss: 0.020487689, Validation Loss: 0.020305321, Best: 0.020291867, Wait: 00\n"
     ]
    },
    {
     "name": "stderr",
     "output_type": "stream",
     "text": [
      "\r",
      "Epoch 34/50:  68%|██████▊   | 34/50 [00:35<00:17,  1.08s/it]"
     ]
    },
    {
     "name": "stdout",
     "output_type": "stream",
     "text": [
      "Epoch 34/50, Train Loss: 0.020477131, Validation Loss: 0.020310028, Best: 0.020291867, Wait: 01\n"
     ]
    },
    {
     "name": "stderr",
     "output_type": "stream",
     "text": [
      "\r",
      "Epoch 35/50:  70%|███████   | 35/50 [00:37<00:16,  1.09s/it]"
     ]
    },
    {
     "name": "stdout",
     "output_type": "stream",
     "text": [
      "Epoch 35/50, Train Loss: 0.020471138, Validation Loss: 0.020310186, Best: 0.020291867, Wait: 02\n"
     ]
    },
    {
     "name": "stderr",
     "output_type": "stream",
     "text": [
      "\r",
      "Epoch 36/50:  72%|███████▏  | 36/50 [00:38<00:15,  1.09s/it]"
     ]
    },
    {
     "name": "stdout",
     "output_type": "stream",
     "text": [
      "Epoch 36/50, Train Loss: 0.020467323, Validation Loss: 0.020288734, Best: 0.020291867, Wait: 03\n"
     ]
    },
    {
     "name": "stderr",
     "output_type": "stream",
     "text": [
      "\r",
      "Epoch 37/50:  74%|███████▍  | 37/50 [00:39<00:14,  1.11s/it]"
     ]
    },
    {
     "name": "stdout",
     "output_type": "stream",
     "text": [
      "Epoch 37/50, Train Loss: 0.020457504, Validation Loss: 0.020275498, Best: 0.020288734, Wait: 00\n"
     ]
    },
    {
     "name": "stderr",
     "output_type": "stream",
     "text": [
      "\r",
      "Epoch 38/50:  76%|███████▌  | 38/50 [00:40<00:13,  1.11s/it]"
     ]
    },
    {
     "name": "stdout",
     "output_type": "stream",
     "text": [
      "Epoch 38/50, Train Loss: 0.020450859, Validation Loss: 0.020290935, Best: 0.020275498, Wait: 00\n"
     ]
    },
    {
     "name": "stderr",
     "output_type": "stream",
     "text": [
      "\r",
      "Epoch 39/50:  78%|███████▊  | 39/50 [00:41<00:12,  1.11s/it]"
     ]
    },
    {
     "name": "stdout",
     "output_type": "stream",
     "text": [
      "Epoch 39/50, Train Loss: 0.020443525, Validation Loss: 0.020272203, Best: 0.020275498, Wait: 01\n"
     ]
    },
    {
     "name": "stderr",
     "output_type": "stream",
     "text": [
      "\r",
      "Epoch 40/50:  80%|████████  | 40/50 [00:42<00:11,  1.11s/it]"
     ]
    },
    {
     "name": "stdout",
     "output_type": "stream",
     "text": [
      "Epoch 40/50, Train Loss: 0.020434599, Validation Loss: 0.020276686, Best: 0.020272203, Wait: 00\n"
     ]
    },
    {
     "name": "stderr",
     "output_type": "stream",
     "text": [
      "\r",
      "Epoch 41/50:  82%|████████▏ | 41/50 [00:43<00:09,  1.11s/it]"
     ]
    },
    {
     "name": "stdout",
     "output_type": "stream",
     "text": [
      "Epoch 41/50, Train Loss: 0.020431380, Validation Loss: 0.020251157, Best: 0.020272203, Wait: 01\n"
     ]
    },
    {
     "name": "stderr",
     "output_type": "stream",
     "text": [
      "\r",
      "Epoch 42/50:  84%|████████▍ | 42/50 [00:44<00:08,  1.10s/it]"
     ]
    },
    {
     "name": "stdout",
     "output_type": "stream",
     "text": [
      "Epoch 42/50, Train Loss: 0.020423360, Validation Loss: 0.020237138, Best: 0.020251157, Wait: 00\n"
     ]
    },
    {
     "name": "stderr",
     "output_type": "stream",
     "text": [
      "\r",
      "Epoch 43/50:  86%|████████▌ | 43/50 [00:45<00:07,  1.09s/it]"
     ]
    },
    {
     "name": "stdout",
     "output_type": "stream",
     "text": [
      "Epoch 43/50, Train Loss: 0.020420877, Validation Loss: 0.020212308, Best: 0.020237138, Wait: 00\n"
     ]
    },
    {
     "name": "stderr",
     "output_type": "stream",
     "text": [
      "\r",
      "Epoch 44/50:  88%|████████▊ | 44/50 [00:46<00:06,  1.07s/it]"
     ]
    },
    {
     "name": "stdout",
     "output_type": "stream",
     "text": [
      "Epoch 44/50, Train Loss: 0.020415944, Validation Loss: 0.020242935, Best: 0.020212308, Wait: 00\n"
     ]
    },
    {
     "name": "stderr",
     "output_type": "stream",
     "text": [
      "\r",
      "Epoch 45/50:  90%|█████████ | 45/50 [00:48<00:05,  1.08s/it]"
     ]
    },
    {
     "name": "stdout",
     "output_type": "stream",
     "text": [
      "Epoch 45/50, Train Loss: 0.020412350, Validation Loss: 0.020213878, Best: 0.020212308, Wait: 01\n"
     ]
    },
    {
     "name": "stderr",
     "output_type": "stream",
     "text": [
      "\r",
      "Epoch 46/50:  92%|█████████▏| 46/50 [00:49<00:04,  1.09s/it]"
     ]
    },
    {
     "name": "stdout",
     "output_type": "stream",
     "text": [
      "Epoch 46/50, Train Loss: 0.020411709, Validation Loss: 0.020239798, Best: 0.020212308, Wait: 02\n"
     ]
    },
    {
     "name": "stderr",
     "output_type": "stream",
     "text": [
      "\r",
      "Epoch 47/50:  94%|█████████▍| 47/50 [00:50<00:03,  1.07s/it]"
     ]
    },
    {
     "name": "stdout",
     "output_type": "stream",
     "text": [
      "Epoch 47/50, Train Loss: 0.020408943, Validation Loss: 0.020233184, Best: 0.020212308, Wait: 03\n"
     ]
    },
    {
     "name": "stderr",
     "output_type": "stream",
     "text": [
      "\r",
      "Epoch 48/50:  96%|█████████▌| 48/50 [00:51<00:02,  1.05s/it]"
     ]
    },
    {
     "name": "stdout",
     "output_type": "stream",
     "text": [
      "Epoch 48/50, Train Loss: 0.020407778, Validation Loss: 0.020223159, Best: 0.020212308, Wait: 04\n"
     ]
    },
    {
     "name": "stderr",
     "output_type": "stream",
     "text": [
      "\r",
      "Epoch 49/50:  98%|█████████▊| 49/50 [00:52<00:01,  1.05s/it]"
     ]
    },
    {
     "name": "stdout",
     "output_type": "stream",
     "text": [
      "Epoch 49/50, Train Loss: 0.020405147, Validation Loss: 0.020218700, Best: 0.020212308, Wait: 05\n"
     ]
    },
    {
     "name": "stderr",
     "output_type": "stream",
     "text": [
      "\r",
      "Epoch 50/50: 100%|██████████| 50/50 [00:53<00:00,  1.07s/it]"
     ]
    },
    {
     "name": "stdout",
     "output_type": "stream",
     "text": [
      "Epoch 50/50, Train Loss: 0.020402636, Validation Loss: 0.020234061, Best: 0.020212308, Wait: 06\n",
      "Epoch 00043: early stopping\n"
     ]
    },
    {
     "name": "stderr",
     "output_type": "stream",
     "text": [
      "\n"
     ]
    },
    {
     "data": {
      "image/png": "[encoded data removed]",
      "text/plain": [
       "<matplotlib.figure.Figure at 0x7f6fea788208>"
      ]
     },
     "metadata": {},
     "output_type": "display_data"
    },
    {
     "name": "stdout",
     "output_type": "stream",
     "text": [
      "Tensorboard logs dir for this run is /home/xiami/.result/logs/run30\n"
     ]
    },
    {
     "name": "stderr",
     "output_type": "stream",
     "text": [
      "Accuracy: 0.966: 100%|██████████| 100/100 [01:28<00:00,  1.13it/s]\n"
     ]
    },
    {
     "name": "stdout",
     "output_type": "stream",
     "text": [
      "Test set accuracy: 0.9614001512527466\n"
     ]
    }
   ],
   "source": [
    "if __name__== '__main__':\n",
    "  \n",
    "   seed = -1\n",
    "   utilities.random_seed_np_tf(seed)\n",
    "   \n",
    "   mnist = input_data.read_data_sets(\"../MNIST_data/\", one_hot=True)\n",
    "   trX, trY, teX, teY = mnist.train.images, mnist.train.labels, mnist.test.images, mnist.test.labels\n",
    "\n",
    "   vlX = mnist.validation.images\n",
    "   vlY = mnist.validation.labels\n",
    "\n",
    "\n",
    "   sdae = StackedDenoisingAutoencoder()\n",
    "   \n",
    "   # Fit the model (unsupervised pretraining)\n",
    "   encoded_X, encoded_vX = sdae.pretrain(trX, vlX)\n",
    "\n",
    "   # Supervised finetuning\n",
    "   sdae.fit(trX, trY, vlX, vlY)\n",
    "\n",
    "   # Compute the accuracy of the model\n",
    "   print('Test set accuracy: {}'.format(sdae.score(teX, teY)))\n",
    "\n",
    " "
   ]
  },
  {
   "cell_type": "code",
   "execution_count": null,
   "metadata": {
    "collapsed": true
   },
   "outputs": [],
   "source": []
  },
  {
   "cell_type": "code",
   "execution_count": null,
   "metadata": {
    "collapsed": true
   },
   "outputs": [],
   "source": []
  },
  {
   "cell_type": "code",
   "execution_count": null,
   "metadata": {
    "collapsed": true
   },
   "outputs": [],
   "source": []
  },
  {
   "cell_type": "code",
   "execution_count": null,
   "metadata": {
    "collapsed": true
   },
   "outputs": [],
   "source": []
  },
  {
   "cell_type": "code",
   "execution_count": null,
   "metadata": {
    "collapsed": true
   },
   "outputs": [],
   "source": []
  },
  {
   "cell_type": "code",
   "execution_count": null,
   "metadata": {
    "collapsed": true
   },
   "outputs": [],
   "source": []
  },
  {
   "cell_type": "code",
   "execution_count": null,
   "metadata": {
    "collapsed": true
   },
   "outputs": [],
   "source": []
  },
  {
   "cell_type": "code",
   "execution_count": null,
   "metadata": {
    "collapsed": true
   },
   "outputs": [],
   "source": []
  },
  {
   "cell_type": "code",
   "execution_count": null,
   "metadata": {
    "collapsed": true
   },
   "outputs": [],
   "source": []
  },
  {
   "cell_type": "code",
   "execution_count": null,
   "metadata": {
    "collapsed": true
   },
   "outputs": [],
   "source": []
  }
 ],
 "metadata": {
  "kernelspec": {
   "display_name": "Python 3",
   "language": "python",
   "name": "python3"
  },
  "language_info": {
   "codemirror_mode": {
    "name": "ipython",
    "version": 3
   },
   "file_extension": ".py",
   "mimetype": "text/x-python",
   "name": "python",
   "nbconvert_exporter": "python",
   "pygments_lexer": "ipython3",
   "version": "3.5.2"
  }
 },
 "nbformat": 4,
 "nbformat_minor": 2
}
