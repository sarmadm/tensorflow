{
 "cells": [
  {
   "cell_type": "markdown",
   "metadata": {},
   "source": [
    "# AutoEncoder"
   ]
  },
  {
   "cell_type": "markdown",
   "metadata": {},
   "source": [
    "Reference: [Deep-Learning-TensorFlow](https://github.com/blackecho/Deep-Learning-TensorFlow) / [TensorFlow-Tutorials](https://github.com/Hvass-Labs/TensorFlow-Tutorials)\n",
    "\n",
    "### Import"
   ]
  },
  {
   "cell_type": "code",
   "execution_count": 1,
   "metadata": {
    "collapsed": true
   },
   "outputs": [],
   "source": [
    "from __future__ import print_function\n",
    "\n",
    "import numpy as np\n",
    "import tensorflow as tf\n",
    "import os\n",
    "\n",
    "from matplotlib.ticker import MultipleLocator, FormatStrFormatter \n",
    "import matplotlib.pyplot as plt\n",
    "from tqdm import tqdm\n",
    "from tensorflow.examples.tutorials.mnist import input_data\n",
    "from config import Config\n",
    "import utilities\n",
    "import tf_utils\n",
    "\n",
    "\n",
    "os.environ[\"CUDA_DEVICE_ORDER\"]=\"PCI_BUS_ID\"   # see issue #152\n",
    "os.environ[\"CUDA_VISIBLE_DEVICES\"]=\"1\""
   ]
  },
  {
   "cell_type": "markdown",
   "metadata": {
    "collapsed": true
   },
   "source": [
    "### Loss Function Class"
   ]
  },
  {
   "cell_type": "code",
   "execution_count": 2,
   "metadata": {
    "collapsed": true
   },
   "outputs": [],
   "source": [
    "class Loss(object):\n",
    "   \n",
    "   def __init__(self, loss_func, summary=True, name='loss'):\n",
    "       self.loss_func = loss_func\n",
    "       self.summary = summary\n",
    "       self.name = name\n",
    "\n",
    "   def compile(self, model_y, _y, regularization_penalty = None):\n",
    "       with tf.name_scope(self.name):\n",
    "           if self.loss_func == 'cross_entropy':\n",
    "               clip_inf = tf.clip_by_value(model_y, 1e-10, float('inf'))\n",
    "               clip_sup = tf.clip_by_value(1 - model_y,1e-10,float('inf'))\n",
    "\n",
    "               cost = - tf.reduce_mean(_y * tf.log(clip_inf) +\n",
    "                                       (1. - _y) * tf.log(clip_sup))\n",
    "               \n",
    "           elif self.loss_func == 'softmax_cross_entropy':\n",
    "              cost = tf.reduce_mean(tf.nn.softmax_cross_entropy_with_logits(labels=_y, logits=model_y))\n",
    "           elif self.loss_func == 'mean_squared':\n",
    "              cost = tf.reduce_mean(tf.square(_y-model_y))\n",
    "           else:\n",
    "              cost = None\n",
    "\n",
    "       if cost is not None:\n",
    "           cost = cost + regularization_penalty if regularization_penalty is not None else cost\n",
    "           tf.summary.scalar(self.loss_func,cost)\n",
    "       else:\n",
    "          cost = None\n",
    "\n",
    "       return cost"
   ]
  },
  {
   "cell_type": "markdown",
   "metadata": {},
   "source": [
    "### Optimizer Wrapper"
   ]
  },
  {
   "cell_type": "code",
   "execution_count": 3,
   "metadata": {
    "collapsed": true
   },
   "outputs": [],
   "source": [
    "class Trainer(object):\n",
    "   def __init__(self, optimizer, **kw):\n",
    "       assert optimizer in [\"sgd\",\"adagrad\",\"adam\",\"rmsprop\"]\n",
    "\n",
    "       def d(k, other=None):\n",
    "           if other:\n",
    "                return kw[k] if k in kw else other\n",
    "           else:\n",
    "                return kw[k]\n",
    "\n",
    "       if optimizer == \"sgd\":\n",
    "           self.opt_ = tf.train.GradientDescentOptimizer(d(\"learning_rate\"))\n",
    "       elif optimizer == \"adagrad\":\n",
    "           self.opt_ = tf.train.AdagradOptimizer(d(\"learning_rate\"), \n",
    "                                             d(\"initial_accumulator_value\",0.1))\n",
    "       elif optimizer == \"adam\":\n",
    "           self.opt_ = tf.train.AdamOptimizer(d(\"learning_rate\"),\n",
    "                                                  d(\"beta1\",0.7),\n",
    "                                                  d(\"beta2\",0.9),\n",
    "                                                  d(\"epsilon\",1e-08))\n",
    "       elif optimizer == \"rmsprop\":\n",
    "           self.opt_ = tf.train.RMSPropOptimizer(d(\"learning_rate\"))\n",
    "\n",
    "   def compile(self,cost, name_scope=\"train\"):\n",
    "       with tf.name_scope(name_scope):\n",
    "           return self.opt_.minimize(cost)\n",
    "                \n"
   ]
  },
  {
   "cell_type": "markdown",
   "metadata": {
    "collapsed": true
   },
   "source": [
    "### Hidden Layer Compute"
   ]
  },
  {
   "cell_type": "code",
   "execution_count": 4,
   "metadata": {
    "collapsed": true
   },
   "outputs": [],
   "source": [
    "class Layers(object):\n",
    "   \n",
    "   @staticmethod\n",
    "   def logits(prev_layer, out_dim, name=\"logits\"):\n",
    "       \n",
    "       with tf.name_scope(name):\n",
    "           in_dim = prev_layer.get_shape()[1].value\n",
    "           W = tf.Variable(tf.truncated_normal([in_dim, out_dim], stddev =0.1))\n",
    "           b = tf.Variable(tf.constant(0.1, shape = [out_dim]))\n",
    "           out = tf.add(tf.matmul(prev_layer, W), b)\n",
    "           return (out, W, b)\n",
    "   \n",
    "   @staticmethod\n",
    "   def regularization(variables, regtype, regcoef, name=\"regularization\"):\n",
    "       \n",
    "       with tf.name_scope(name):\n",
    "           if regtype != 'none':\n",
    "               regs = tf.constant(0.0)\n",
    "               #for v in variables:\n",
    "               if regtype == 'l2':\n",
    "                   l2_regularizer = tf.contrib.layers.l2_regularizer(scale=regcoef, scope=None)\n",
    "                   regularization_penalty = tf.contrib.layers.apply_regularization(l2_regularizer, variables)\n",
    "               elif regtype == 'l1':\n",
    "                   l1_regularizer = tf.contrib.layers.l1_regularizer(scale=regcoef, scope=None)\n",
    "                   regularization_penalty = tf.contrib.layers.apply_regularization(l1_regularizer, variables)\n",
    "\n",
    "               return regularization_penalty\n",
    "           else:\n",
    "               return None"
   ]
  },
  {
   "cell_type": "markdown",
   "metadata": {
    "collapsed": true
   },
   "source": [
    "### Evaluation Function\n",
    "\n"
   ]
  },
  {
   "cell_type": "code",
   "execution_count": 5,
   "metadata": {
    "collapsed": true
   },
   "outputs": [],
   "source": [
    "class Evaluation(object):\n",
    "   \n",
    "   @staticmethod\n",
    "   def accuracy(model_y, _y, summary = True, name=\"accuracy\"):\n",
    "       with tf.name_scope(name):\n",
    "           model_predict_class = tf.argmax(model_y,1)\n",
    "           correct_predict = tf.equal(model_predict_class, tf.argmax(_y, 1))\n",
    "           accuracy = tf.reduce_mean(tf.cast(correct_predict, tf.float32))\n",
    "\n",
    "           if summary:\n",
    "               tf.summary.scalar('accuracy', accuracy)\n",
    "           return accuracy\n",
    "   \n",
    "   @staticmethod\n",
    "   def error(model_y, _y, summary = True, name=\"error\"):\n",
    "       with tf.name_scope(name):\n",
    "           model_predict_class = tf.argmax(model_y,1)\n",
    "           error_predict = tf.not_equal(model_predict_class, tf.argmax(_y, 1))\n",
    "           error = tf.reduce_mean(tf.cast(error_predict, tf.float32))\n",
    "\n",
    "           if summary:\n",
    "               tf.summary.scalar('error', error)\n",
    "           return error\n"
   ]
  },
  {
   "cell_type": "markdown",
   "metadata": {
    "collapsed": true
   },
   "source": [
    "### Early-Stop Class"
   ]
  },
  {
   "cell_type": "code",
   "execution_count": 6,
   "metadata": {
    "collapsed": true
   },
   "outputs": [],
   "source": [
    "class EarlyStopping(object):\n",
    "\n",
    "   def __init__(\n",
    "       self, min_delta = 0, patience = 0 ,mode='min',\n",
    "       saver = None, session = None, path = None):\n",
    "       \n",
    "       self.patience = patience\n",
    "       self.min_delta = min_delta\n",
    "       self.wait = 0\n",
    "       self.stopped_epoch = 0\n",
    "       self.stop_training = False\n",
    "       self.update = True\n",
    "       self.saver = saver\n",
    "       self.session = session\n",
    "       self.path = path\n",
    "\n",
    "       if mode not in ['min' , 'max']:\n",
    "           raise Exception(\"EarlyStopping mode %s is unknown\" % self.mode)\n",
    "       \n",
    "       if mode == 'min':\n",
    "           self.monitor_op = np.less\n",
    "       else:\n",
    "           self.monitor_op = np.greater\n",
    "\n",
    "       if self.monitor_op == np.greater:\n",
    "           self.min_delta *= 1\n",
    "       else:\n",
    "           self.min_delta *= -1\n",
    "\n",
    "   def on_train_begin(self):\n",
    "       self.wait = 0\n",
    "       self.best = np.Inf if self.monitor_op == np.less else -np.Inf\n",
    "\n",
    "   def on_epoch_end(self, epoch, current):\n",
    "           \n",
    "       if self.monitor_op(current - self.min_delta, self.best):\n",
    "           if self.update:\n",
    "               self.best = current\n",
    "               self.stopped_epoch = epoch\n",
    "               self.wait = 0\n",
    "               self.saver.save(self.session, self.path)\n",
    "       else:\n",
    "           if self.wait >= self.patience:\n",
    "               self.stop_training = True\n",
    "           self.wait += 1\n",
    "       return self.stop_training\n",
    "\n",
    "   def on_train_end(self):\n",
    "       if self.stopped_epoch > 0:\n",
    "          self.saver.restore(self.session, self.path)\n",
    "          print('Epoch %05d: early stopping' % (self.stopped_epoch))"
   ]
  },
  {
   "cell_type": "markdown",
   "metadata": {
    "collapsed": true
   },
   "source": [
    "## DenoisingAutoencoder"
   ]
  },
  {
   "cell_type": "code",
   "execution_count": 7,
   "metadata": {
    "collapsed": true
   },
   "outputs": [],
   "source": [
    "class DenoisingAutoencoder(object):\n",
    "   \n",
    "   def __init__(\n",
    "       self, n_components, name='dae',\n",
    "       encoding_func = tf.nn.sigmoid, decoding_func = tf.nn.sigmoid,\n",
    "       loss_func = 'mean_squared', num_epochs = 10, batch_size =256,\n",
    "       opt = 'rmsprop', learning_rate = 0.01,\n",
    "       corruption_type = 'none', corruption_level = 0.0,\n",
    "       regtype='none', regcoef=5e-4,\n",
    "       min_delta=0.0 ,patience=0 ,mode='min'\n",
    "       ):\n",
    "\n",
    "       self.name = name\n",
    "       self.model_path = os.path.join(Config().models_dir, self.name)\n",
    "\n",
    "       self.input_labels = None\n",
    "       self.keep_prob = None\n",
    "       self.layer_nodes = []\n",
    "       self.train_step = None\n",
    "       self.cost = None\n",
    "\n",
    "       # Init tensorflow objects\n",
    "       self.tf_graph = tf.Graph()\n",
    "       self.tf_session = None\n",
    "       self.tf_saver = None\n",
    "       self.tf_merged_summaries = None\n",
    "       self.tf_summary_writer = None\n",
    "\n",
    "       # Init training parameters\n",
    "       self.loss_func = loss_func\n",
    "       self.learning_rate = learning_rate\n",
    "       self.dropout = 1 \n",
    "       self.num_epochs = num_epochs\n",
    "       self.batch_size = batch_size\n",
    "       self.opt = opt\n",
    "       self.regtype = regtype\n",
    "       self.regcoef = regcoef\n",
    "\n",
    "\n",
    "       self.loss = Loss(self.loss_func)\n",
    "       self.trainer = Trainer(opt,learning_rate = learning_rate)\n",
    "\n",
    "       self.n_components = n_components\n",
    "       self.encoding_func = encoding_func\n",
    "       self.decoding_func = decoding_func\n",
    "\n",
    "       self.corruption_type = corruption_type\n",
    "       self.corruption_level = corruption_level\n",
    "    \n",
    "       self.min_delta = min_delta\n",
    "       self.patience = patience\n",
    "       self.mode = mode\n",
    "\n",
    "   \n",
    "    \n",
    "       self.input_data_orig = None\n",
    "       self.input_data = None\n",
    "\n",
    "       self.W = None\n",
    "       self.b_hidden_ = None\n",
    "       self.b_visible_ = None\n",
    "\n",
    "\n",
    "   def _create_placeholders(self, n_features):\n",
    "       \n",
    "       self.input_data_orig = tf.placeholder(tf.float32, \n",
    "                                             [None, n_features], name='x-input')\n",
    "       self.input_data= tf.placeholder(tf.float32, \n",
    "                                       [None, n_features], name='x-corr-input')\n",
    "\n",
    "       self.input_labels = tf.placeholder(tf.float32)\n",
    "       self.keep_prob = tf.placeholder(tf.float32 , name='keep-probs')\n",
    "       \n",
    "   def _create_variables(self, n_features, W_=None , b_hidden_ = None, b_visible_=None):\n",
    "       \n",
    "       if W_:\n",
    "           self.W_ = tf.Variable(W_ , name = 'encoding_w')\n",
    "       else:\n",
    "           self.W_ = tf.Variable(\n",
    "               tf.truncated_normal(\n",
    "                   shape=[n_features, self.n_components], stddev=0.1,\n",
    "                   name = 'encoding_w'))\n",
    "\n",
    "       if b_hidden_:\n",
    "           self.b_hidden_ = tf.Variable(b_hidden_, name='hidden-bias')\n",
    "       else:\n",
    "           self.b_hidden_ = tf.Variable(tf.constant(\n",
    "                0.1, shape=[self.n_components]), name='hidden-bias')\n",
    "      \n",
    "       if b_visible_:\n",
    "           self.b_visible_ = tf.Variable(b_visible_, name='visible-bias')\n",
    "       else:\n",
    "           self.b_visible_ = tf.Variable(tf.constant(\n",
    "               0.1, shape=[n_features]), name='visible-bias')\n",
    "\n",
    "   def _create_encode_layer(self):\n",
    "        \n",
    "       with tf.name_scope(\"encoder\"):\n",
    "\n",
    "           activation = tf.add(\n",
    "               tf.matmul(self.input_data, self.W_),\n",
    "               self.b_hidden_\n",
    "           )\n",
    "\n",
    "           if self.encoding_func:\n",
    "               self.encode = self.encoding_func(activation)\n",
    "           else:\n",
    "               self.encode = activation\n",
    "\n",
    "   def _create_decode_layer(self):\n",
    "        \n",
    "       with tf.name_scope(\"decoder\"):\n",
    "\n",
    "           activation = tf.add(\n",
    "               tf.matmul(self.encode, tf.transpose(self.W_)),\n",
    "               self.b_visible_\n",
    "           )\n",
    "\n",
    "           \n",
    "\n",
    "           if self.decoding_func:\n",
    "               self.reconstruction = self.decoding_func(activation)\n",
    "           else:\n",
    "               self.reconstruction = activation\n",
    "        \n",
    "        \n",
    "   def fit(self, train_X, train_Y = None, val_X = None, val_Y=None, graph=None):\n",
    "\n",
    "       g = graph if graph is not None else self.tf_graph\n",
    "\n",
    "\n",
    "       with g.as_default():\n",
    "           # Build Model\n",
    "           self.build_model(train_X.shape[1])\n",
    "           with tf.Session() as self.tf_session:\n",
    "               # Init tf stuff\n",
    "               summary_objs = tf_utils.init_tf_ops(self.tf_session)\n",
    "               self.tf_merged_summaries = summary_objs[0]\n",
    "               self.tf_summary_writer = summary_objs[1]\n",
    "               self.tf_saver = summary_objs[2]\n",
    "               self.earlystop = EarlyStopping(self.min_delta , self.patience, self.mode, \n",
    "                                              self.tf_saver, self.tf_session, self.model_path)\n",
    "               # Train model\n",
    "               self._train_model(train_X, train_Y, val_X, val_Y)\n",
    "\n",
    "               # Save model\n",
    "               self.tf_saver.save(self.tf_session, self.model_path)\n",
    "\n",
    "   def build_model(self, n_features, W_= None, b_hidden_=None , b_visible_=None):\n",
    "\n",
    "       self._create_placeholders(n_features)\n",
    "       self._create_variables(n_features, W_, b_hidden_ , b_visible_)\n",
    "\n",
    "       self._create_encode_layer()\n",
    "       self._create_decode_layer()\n",
    "\n",
    "       variables = [self.W_ , self.b_hidden_ , self.b_visible_]\n",
    "       #variables = tf.trainable_variables()\n",
    "       #variables = self.W_\n",
    "       regularization_penalty = Layers.regularization(variables, self.regtype, self.regcoef)\n",
    "\n",
    "       self.cost = self.loss.compile(self.reconstruction, self.input_data_orig,\n",
    "                                     regularization_penalty=regularization_penalty)\n",
    "\n",
    "       self.train_step = self.trainer.compile(self.cost)\n",
    "\n",
    "   def _train_model(self, train_set, train_ref = None,\n",
    "                    validation_set = None, validation_ref = None):\n",
    "       pbar = tqdm(range(self.num_epochs))\n",
    "       train = [0]\n",
    "       valid = [0]\n",
    "       \n",
    "       self.earlystop.on_train_begin()\n",
    "\n",
    "       for i in pbar:\n",
    "           train_loss = self._run_train_step(train_set)\n",
    "           \n",
    "           if validation_set is not None:\n",
    "               feed = {self.input_data_orig: validation_set,\n",
    "                       self.input_data: validation_set}\n",
    "               tr_feed = {self.input_data_orig: train_set,\n",
    "                          self.input_data: train_set}\n",
    "               valid_loss = tf_utils.run_summaries(\n",
    "                   self.tf_session, self.tf_merged_summaries,\n",
    "                   self.tf_summary_writer, i, feed, self.cost)\n",
    "         \n",
    "               pbar.set_description(\"Epoch %02d/%02d\"% (i+1,self.num_epochs))\n",
    "               \n",
    "\n",
    "               print (\"Epoch %02d/%02d, Train Loss: %.9f, Validation Loss: %.9f, Best: %.9f, Wait: %02d\"  \n",
    "                           % (i+1, self.num_epochs,train_loss,valid_loss,self.earlystop.best,self.earlystop.wait))\n",
    "               train.append(train_loss)\n",
    "               valid.append(valid_loss)\n",
    "               if (self.earlystop.on_epoch_end(i+1,valid_loss)):\n",
    "                   self.earlystop.update = False\n",
    "                   break\n",
    "       self.earlystop.on_train_end()\n",
    "\n",
    "       plt.plot(train[:], label='train')\n",
    "       plt.plot(valid[:], label='validation')\n",
    "       plt.axvline(x=self.earlystop.stopped_epoch, color='r')\n",
    "       plt.plot(self.earlystop.stopped_epoch, valid[self.earlystop.stopped_epoch],'ro')\n",
    "       axes = plt.gca()\n",
    "       #ymajorLocator   = MultipleLocator(0.001)   \n",
    "       #ymajorFormatter = FormatStrFormatter('%1.4f')   \n",
    "       #yminorLocator   = MultipleLocator(0.0005)   \n",
    "       #axes.yaxis.set_major_locator(ymajorLocator)  \n",
    "       #axes.yaxis.set_major_formatter(ymajorFormatter)  \n",
    "       #axes.yaxis.set_minor_locator(yminorLocator)  \n",
    "       axes.set_xlim(1)\n",
    "       plt.grid()\n",
    "       plt.xlabel(\"Epochs\")\n",
    "       plt.ylabel(\"MSE\")\n",
    "       #plt.yscale('log', nonposy='clip')\n",
    "       plt.title(\"Training Curve\")\n",
    "       plt.legend(loc='best')\n",
    "       plt.annotate('Stop Here (%d , %.6f)' % (self.earlystop.stopped_epoch, valid[self.earlystop.stopped_epoch]), \n",
    "                   xy=(self.earlystop.stopped_epoch, valid[self.earlystop.stopped_epoch]), xycoords='data',\n",
    "                   textcoords='offset points', xytext=(+10,+30), fontsize = 20,\n",
    "                   arrowprops=dict(arrowstyle=\"->\", connectionstyle=\"arc3,rad=.2\"))\n",
    "       plt.show()\n",
    "\n",
    "   def _run_train_step(self, train_set):\n",
    "       \n",
    "       x_corrupted = utilities.corrupt_input(\n",
    "           train_set, self.tf_session, \n",
    "           self.corruption_type, self.corruption_level)\n",
    "\n",
    "       shuff = list(zip(train_set, x_corrupted))\n",
    "       np.random.shuffle(shuff)\n",
    "\n",
    "       batches = [_ for _ in utilities.gen_batches(shuff, self.batch_size)]\n",
    "       cost = []\n",
    "       for batch in batches:\n",
    "           x_batch, x_corr_batch = zip(*batch)\n",
    "           train_feed = {self.input_data_orig: x_batch,\n",
    "                      self.input_data: x_corr_batch}\n",
    "           self.tf_session.run(self.train_step, feed_dict = train_feed)\n",
    "           train_cost = self.tf_session.run(self.cost,feed_dict = train_feed)\n",
    "           cost.append(train_cost)\n",
    "       cost_mean = np.mean(cost, dtype='float64')\n",
    "       return cost_mean\n",
    "                \n",
    "                \n",
    "            \n",
    "   def transform(self, data, graph = None):\n",
    "       \n",
    "       g = graph if graph is not None else self.tf_graph\n",
    "       with g.as_default():\n",
    "           with tf.Session() as self.tf_session:\n",
    "               self.tf_saver.restore(self.tf_session, self.model_path)\n",
    "               feed = {\n",
    "                   self.input_data : data,\n",
    "                   self.keep_prob: 1\n",
    "               }\n",
    "               return self.encode.eval(feed)\n",
    "           \n",
    "   def reconstruct(self, data, graph = None):\n",
    "       \n",
    "       g = graph if graph is not None else self.tf_graph\n",
    "       with g.as_default():\n",
    "           with tf.Session() as self.tf_session:\n",
    "               self.tf_saver.restore(self.tf_session, self.model_path)\n",
    "               feed = {\n",
    "                   self.input_data : data,\n",
    "                   self.keep_prob: 1\n",
    "               }\n",
    "               return self.reconstruct.eval(feed)\n",
    "\n",
    "   \n",
    "   def score(self, data, data_ref, graph = None):\n",
    "       \n",
    "       g = graph if graph is not None else self.tf_graph\n",
    "       with g.as_default():\n",
    "           with tf.Session() as self.tf_session:\n",
    "               self.tf_saver.restore(self.tf_session, self.model_path)\n",
    "               feed = {\n",
    "                   self.input_data : data,\n",
    "                   self.input_labels : data_ref,\n",
    "                   self.keep_prob: 1\n",
    "               }\n",
    "               return self.cost.eval(feed)\n",
    "   \n",
    "\n",
    "\n",
    "   def get_parameters(self, graph=None):\n",
    "       \n",
    "       g = graph if graph is not None else self.tf_graph\n",
    "\n",
    "       with g.as_default():\n",
    "           with tf.Session() as self.tf_session:\n",
    "               self.tf_saver.restore(self.tf_session, self.model_path)\n",
    "\n",
    "               return {\n",
    "                   'encoding_w': self.W_.eval(),\n",
    "                   'encoding_b': self.b_hidden_.eval(),\n",
    "                   'decoding_b': self.b_visible_.eval()\n",
    "               }\n",
    "   "
   ]
  },
  {
   "cell_type": "markdown",
   "metadata": {
    "collapsed": true
   },
   "source": [
    "### StackedDenoisingAutoencoder"
   ]
  },
  {
   "cell_type": "code",
   "execution_count": 8,
   "metadata": {
    "collapsed": false
   },
   "outputs": [],
   "source": [
    "class StackedDenoisingAutoencoder(object):\n",
    "   \n",
    "\n",
    "   def __init__(\n",
    "       self, layers = [900,784,512,30], \n",
    "       name='sdae',\n",
    "       encoding_func = [tf.nn.sigmoid],decoding_func = [tf.nn.sigmoid],\n",
    "       loss_func=['mean_squared'], num_epochs=[50], batch_size=[256],\n",
    "       opt=['adam'], learning_rate=[0.015,0.015,0.015], \n",
    "       regtype=['none'], regcoef=[5e-5],\n",
    "       corruption_type=['masking'],corruption_level=[0.3],\n",
    "       min_delta=[0.000001],patience=[10],mode=['min'],\n",
    "       finetune_dropout=0.7, finetune_loss='softmax_cross_entropy',\n",
    "       finetune_func=tf.nn.sigmoid, finetune_opt='adam',\n",
    "       finetune_learning_rate = 0.03, finetune_num_epochs = 100, \n",
    "       finetune_batch_size=256, do_pretrain = False):\n",
    "\n",
    "       # Expand all list parameters to be length of layers\n",
    "       expanded_args = utilities.expand_args(**locals())\n",
    "\n",
    "       \n",
    "       self.name = name\n",
    "       self.model_path = os.path.join(Config().models_dir, self.name)\n",
    "\n",
    "       self.input_data = None\n",
    "       self.input_labels = None\n",
    "       self.keep_prob = None\n",
    "       self.layer_nodes = []\n",
    "       self.train_step = None\n",
    "       self.cost = None\n",
    "\n",
    "\n",
    "       # Init tensorflow objects\n",
    "       self.tf_graph = tf.Graph()\n",
    "       self.tf_session = None\n",
    "       self.tf_saver = None\n",
    "       self.tf_merged_summaries = None\n",
    "       self.tf_summary_writer = None\n",
    "\n",
    "       # Init training parameters\n",
    "       self.loss_func = finetune_loss\n",
    "       self.learning_rate = finetune_learning_rate\n",
    "       self.dropout = finetune_dropout\n",
    "       self.num_epochs = finetune_num_epochs\n",
    "       self.batch_size = finetune_batch_size\n",
    "       self.opt = finetune_opt\n",
    "\n",
    "\n",
    "       self.loss = Loss(self.loss_func)\n",
    "       self.trainer = Trainer(finetune_opt, \n",
    "                              learning_rate=finetune_learning_rate)\n",
    "\n",
    "\n",
    "       self.do_pretrain = do_pretrain\n",
    "       self.layers = layers\n",
    "       self.finetune_func = finetune_func\n",
    "                                     \n",
    "       \n",
    "       self.encoding_w_ = []\n",
    "       self.encoding_b_ = []\n",
    "\n",
    "       self.last_W = None\n",
    "       self.last_b = None\n",
    "\n",
    "       self.autoencoders = []\n",
    "       self.autoencoder_graphs =[]\n",
    "\n",
    "       for l, layer in enumerate(layers):\n",
    "           dae_str = 'Autoencoder Layer ' + str(l+1)\n",
    "           self.autoencoders.append(\n",
    "               DenoisingAutoencoder(\n",
    "                 n_components = layer,\n",
    "                 name = dae_str,\n",
    "                 encoding_func = expanded_args['encoding_func'][l],\n",
    "                 decoding_func = expanded_args['decoding_func'][l],\n",
    "                 loss_func = expanded_args['loss_func'][l],\n",
    "                 num_epochs = expanded_args['num_epochs'][l],\n",
    "                 opt = expanded_args['opt'][l],\n",
    "                 batch_size = expanded_args['batch_size'][l],\n",
    "                 learning_rate = expanded_args['learning_rate'][l],\n",
    "                 corruption_type = expanded_args['corruption_type'][l],\n",
    "                 corruption_level = expanded_args['corruption_level'][l],\n",
    "                 regtype = expanded_args['regtype'][l],\n",
    "                 regcoef = expanded_args['regcoef'][l],\n",
    "                 min_delta = expanded_args['min_delta'][l],\n",
    "                 patience = expanded_args['patience'][l],\n",
    "                 mode = expanded_args['mode'][l]))\n",
    "           self.autoencoder_graphs.append(tf.Graph())\n",
    "\n",
    "        \n",
    "   def _create_placeholders(self, n_features, n_classes):\n",
    "       self.input_data = tf.placeholder(tf.float32, [None, n_features] , name = 'x-input')\n",
    "       self.input_labels = tf.placeholder(tf.float32, [None, n_classes], name = 'y-input')\n",
    "\n",
    "       self.keep_prob = tf.placeholder(tf.float32, name='keep-probs')\n",
    "\n",
    "\n",
    "   def _create_variables(self, n_features):\n",
    "       if self.do_pretrain:\n",
    "          self._create_variables_pretrain()\n",
    "       else:\n",
    "          self._create_variables_no_pretrain(n_features)\n",
    "\n",
    "\n",
    "   def _create_variables_no_pretrain(self, n_features):\n",
    "       \n",
    "       for l, layer in enumerate(self.layers):\n",
    "           \n",
    "           if l==0:\n",
    "               self.encoding_w_.append(tf.Variable(\n",
    "                    tf.truncated_normal([n_features, self.layers[l]], stddev = 0.1)))\n",
    "               self.encoding_b_.append(tf.Variable(\n",
    "                    tf.constanst(0.1, [self.layers[l]])))\n",
    "           else:\n",
    "               self.encoding_w_.append(tf.Variable(\n",
    "                    tf.truncated_normal([self.layers[l-1], self.layers[l]], stddev = 0.1)))\n",
    "               self.encoding_b_.append(tf.Variable(\n",
    "                    tf.constanst(0.1, [self.layers[l]])))\n",
    "\n",
    "   def _create_variables_pretrain(self):\n",
    "       \n",
    "        for l, layer in enumerate(self.layers):\n",
    "            self.encoding_w_[l] = tf.Variable(\n",
    "                self.encoding_w_[l], name='enc-w-{}'.format(l))\n",
    "            self.encoding_b_[l] = tf.Variable(\n",
    "                self.encoding_b_[l], name='enc-b-{}'.format(l))\n",
    "\n",
    "   def _create_encoding_layers(self):\n",
    "        \n",
    "       next_train = self.input_data\n",
    "       self.layer_nodes = []\n",
    "\n",
    "       for l, layer in enumerate(self.layers):\n",
    "\n",
    "           with tf.name_scope(\"encode-{}\".format(l)):\n",
    "                \n",
    "               y_act = tf.add(\n",
    "                   tf.matmul(next_train, self.encoding_w_[l]),\n",
    "                   self.encoding_b_[l]\n",
    "               )\n",
    "                \n",
    "               if self.finetune_func:\n",
    "                   layer_y = self.finetune_func(y_act)\n",
    "\n",
    "               else:\n",
    "                   layer_y = None\n",
    "\n",
    "               # the input to the next layer is the output of this layer\n",
    "               next_train = tf.nn.dropout(layer_y, self.keep_prob)\n",
    "\n",
    "           self.layer_nodes.append(next_train)\n",
    "\n",
    "       return next_train\n",
    "\n",
    "\n",
    "\n",
    "   def fit(self, train_X, train_Y, val_X=None, val_Y=None, graph=None):\n",
    "\n",
    "       if len(train_Y.shape)!= 1:\n",
    "           num_classes = train_Y.shape[1]\n",
    "       else:\n",
    "           raise Exception(\"Please convert the labels with one-hot encoding\")\n",
    "\n",
    "       g = graph if graph is not None else self.tf_graph\n",
    "\n",
    "\n",
    "       with g.as_default():\n",
    "           # Build Model\n",
    "           self.build_model(train_X.shape[1], num_classes)\n",
    "           with tf.Session() as self.tf_session:\n",
    "               # Init tf stuff\n",
    "               summary_objs = tf_utils.init_tf_ops(self.tf_session)\n",
    "               self.tf_merged_summaries = summary_objs[0]\n",
    "               self.tf_summary_writer = summary_objs[1]\n",
    "               self.tf_saver = summary_objs[2]\n",
    "\n",
    "               # Train model\n",
    "               self._train_model(train_X, train_Y, val_X, val_Y)\n",
    "\n",
    "               # Save model\n",
    "               self.tf_saver.save(self.tf_session, self.model_path)\n",
    "   \n",
    "   def build_model(self, n_features, n_classes):\n",
    "       \n",
    "       self._create_placeholders(n_features, n_classes)\n",
    "       self._create_variables(n_features)\n",
    "\n",
    "       next_train = self._create_encoding_layers()\n",
    "       self.model_y, _, _ = Layers.logits(next_train, n_classes)\n",
    "       self.layer_nodes.append(self.model_y)\n",
    "\n",
    "\n",
    "       self.cost = self.loss.compile(self.model_y,self.input_labels)\n",
    "       self.train_step = self.trainer.compile(self.cost)\n",
    "       self.accuracy = Evaluation.accuracy(self.model_y, self.input_labels)\n",
    "       self.error = Evaluation.error(self.model_y, self.input_labels)\n",
    "   \n",
    "\n",
    "   def _train_model(self, train_set, train_labels,\n",
    "                    validation_set, validation_labels):\n",
    "\n",
    "       shuff = list(zip(train_set, train_labels))\n",
    "       shuff_v = list(zip(validation_set,validation_labels))\n",
    "       pbar = tqdm(range(self.num_epochs))\n",
    "       for i in pbar:\n",
    "           np.random.shuffle(shuff)\n",
    "\n",
    "           batches = [_ for _ in utilities.gen_batches(\n",
    "               shuff, self.batch_size)]\n",
    "                      \n",
    "           for batch in batches:\n",
    "               x_batch, y_batch = zip(*batch)\n",
    "               feed = {self.input_data: x_batch,\n",
    "                       self.input_labels: y_batch,\n",
    "                       self.keep_prob: self.dropout}\n",
    "               self.tf_session.run(self.train_step,feed_dict= feed)\n",
    "           if validation_set is not None:\n",
    "               feed = {self.input_data: validation_set,\n",
    "                       self.input_labels: validation_labels,\n",
    "                       self.keep_prob: 1}\n",
    "               acc = tf_utils.run_summaries(\n",
    "                   self.tf_session, self.tf_merged_summaries,\n",
    "                   self.tf_summary_writer, i, feed, self.accuracy)\n",
    "               pbar.set_description(\"Accuracy: %s\" % (acc))\n",
    "\n",
    "\n",
    "   \n",
    "               \n",
    "   def score(self, test_X, test_Y):\n",
    "       \n",
    "       with self.tf_graph.as_default():\n",
    "           with tf.Session() as self.tf_session:\n",
    "               self.tf_saver.restore(self.tf_session, self.model_path)\n",
    "               feed = {\n",
    "                   self.input_data : test_X,\n",
    "                   self.input_labels : test_Y,\n",
    "                   self.keep_prob: 1\n",
    "               }\n",
    "               return self.accuracy.eval(feed)\n",
    "   \n",
    "   def get_layers_output(self, dataset):\n",
    "       \n",
    "       layers_out =[]\n",
    "\n",
    "       with self.tf_graph.as_default():\n",
    "           with tf.Session() as self.tf_session:\n",
    "               self.tf_saver.restore(self.tf_session, self.model_path)\n",
    "               for l in self.layer_nodes:\n",
    "                   layers_out.append(l.eval({self.input_data : dataset,\n",
    "                                             self.keep_prob : 1}))\n",
    "\n",
    "       if layers_out == []:\n",
    "           raise Exception(\"This method is not implemented for this model\")\n",
    "       else:\n",
    "           return layers_out\n",
    "\n",
    "\n",
    "   def pretrain(self, train_set, validation_set=None):\n",
    "       \n",
    "       self.do_pretrain = True\n",
    "\n",
    "       def set_params_func(autoenc, autoencgraph):\n",
    "           params = autoenc.get_parameters(graph = autoencgraph)\n",
    "           self.encoding_w_.append(params['encoding_w'])\n",
    "           self.encoding_b_.append(params['encoding_b'])\n",
    "\n",
    "       next_train = train_set\n",
    "       next_valid = validation_set\n",
    "       layer_objs = self.autoencoders\n",
    "       layer_graphs = self.autoencoder_graphs\n",
    "       \n",
    "       \n",
    "    \n",
    "       for l, layer_obj in enumerate(layer_objs):\n",
    "          print('Training layer {}...'.format(l+1))\n",
    "          next_train, next_valid = self._pretrain_layer_and_gen_feed(\n",
    "              layer_obj , set_params_func, next_train, next_valid,\n",
    "              layer_graphs[l])      \n",
    "            \n",
    "       \n",
    "       return next_train, next_valid\n",
    "\n",
    "   \n",
    "\n",
    "\n",
    "\n",
    "   def _pretrain_layer_and_gen_feed(self, layer_obj, set_params_func, \n",
    "                                    train_set, validation_set, graph):\n",
    "       layer_obj.fit(train_set, train_set, \n",
    "                      validation_set, validation_set, graph=graph)\n",
    "       with graph.as_default():\n",
    "           set_params_func(layer_obj, graph)\n",
    "\n",
    "           next_train = layer_obj.transform(train_set, graph = graph)\n",
    "\n",
    "           if validation_set is not None:\n",
    "                 next_valid = layer_obj.transform(validation_set, graph = graph)\n",
    "           else:               \n",
    "                 next_valid = None\n",
    "\n",
    "       return next_train, next_valid        \n"
   ]
  },
  {
   "cell_type": "markdown",
   "metadata": {
    "collapsed": true
   },
   "source": [
    "### Main Function"
   ]
  },
  {
   "cell_type": "code",
   "execution_count": 9,
   "metadata": {
    "collapsed": false
   },
   "outputs": [
    {
     "name": "stdout",
     "output_type": "stream",
     "text": [
      "Extracting ../MNIST_data/train-images-idx3-ubyte.gz\n",
      "Extracting ../MNIST_data/train-labels-idx1-ubyte.gz\n",
      "Extracting ../MNIST_data/t10k-images-idx3-ubyte.gz\n",
      "Extracting ../MNIST_data/t10k-labels-idx1-ubyte.gz\n",
      "Training layer 1...\n",
      "Tensorboard logs dir for this run is /home/xiami/.result/logs/run57\n"
     ]
    },
    {
     "name": "stderr",
     "output_type": "stream",
     "text": [
      "Epoch 01/50:   2%|▏         | 1/50 [00:07<06:02,  7.40s/it]"
     ]
    },
    {
     "name": "stdout",
     "output_type": "stream",
     "text": [
      "Epoch 01/50, Train Loss: 0.018363378, Validation Loss: 0.010570277, Best: inf, Wait: 00\n"
     ]
    },
    {
     "name": "stderr",
     "output_type": "stream",
     "text": [
      "\r",
      "Epoch 02/50:   4%|▍         | 2/50 [00:14<05:53,  7.37s/it]"
     ]
    },
    {
     "name": "stdout",
     "output_type": "stream",
     "text": [
      "Epoch 02/50, Train Loss: 0.007964880, Validation Loss: 0.008279412, Best: 0.010570277, Wait: 00\n"
     ]
    },
    {
     "name": "stderr",
     "output_type": "stream",
     "text": [
      "\r",
      "Epoch 03/50:   6%|▌         | 3/50 [00:22<05:46,  7.37s/it]"
     ]
    },
    {
     "name": "stdout",
     "output_type": "stream",
     "text": [
      "Epoch 03/50, Train Loss: 0.006834165, Validation Loss: 0.007613956, Best: 0.008279412, Wait: 00\n"
     ]
    },
    {
     "name": "stderr",
     "output_type": "stream",
     "text": [
      "\r",
      "Epoch 04/50:   8%|▊         | 4/50 [00:29<05:38,  7.36s/it]"
     ]
    },
    {
     "name": "stdout",
     "output_type": "stream",
     "text": [
      "Epoch 04/50, Train Loss: 0.006439900, Validation Loss: 0.007156024, Best: 0.007613956, Wait: 00\n"
     ]
    },
    {
     "name": "stderr",
     "output_type": "stream",
     "text": [
      "\r",
      "Epoch 05/50:  10%|█         | 5/50 [00:36<05:30,  7.34s/it]"
     ]
    },
    {
     "name": "stdout",
     "output_type": "stream",
     "text": [
      "Epoch 05/50, Train Loss: 0.006216015, Validation Loss: 0.007152540, Best: 0.007156024, Wait: 00\n"
     ]
    },
    {
     "name": "stderr",
     "output_type": "stream",
     "text": [
      "\r",
      "Epoch 06/50:  12%|█▏        | 6/50 [00:44<05:22,  7.34s/it]"
     ]
    },
    {
     "name": "stdout",
     "output_type": "stream",
     "text": [
      "Epoch 06/50, Train Loss: 0.006073709, Validation Loss: 0.007196104, Best: 0.007152540, Wait: 00\n"
     ]
    },
    {
     "name": "stderr",
     "output_type": "stream",
     "text": [
      "\r",
      "Epoch 07/50:  14%|█▍        | 7/50 [00:51<05:16,  7.35s/it]"
     ]
    },
    {
     "name": "stdout",
     "output_type": "stream",
     "text": [
      "Epoch 07/50, Train Loss: 0.005967136, Validation Loss: 0.007066911, Best: 0.007152540, Wait: 01\n"
     ]
    },
    {
     "name": "stderr",
     "output_type": "stream",
     "text": [
      "\r",
      "Epoch 08/50:  16%|█▌        | 8/50 [00:58<05:10,  7.39s/it]"
     ]
    },
    {
     "name": "stdout",
     "output_type": "stream",
     "text": [
      "Epoch 08/50, Train Loss: 0.005895212, Validation Loss: 0.007294175, Best: 0.007066911, Wait: 00\n"
     ]
    },
    {
     "name": "stderr",
     "output_type": "stream",
     "text": [
      "\r",
      "Epoch 09/50:  18%|█▊        | 9/50 [01:06<05:04,  7.43s/it]"
     ]
    },
    {
     "name": "stdout",
     "output_type": "stream",
     "text": [
      "Epoch 09/50, Train Loss: 0.005809811, Validation Loss: 0.007762652, Best: 0.007066911, Wait: 01\n"
     ]
    },
    {
     "name": "stderr",
     "output_type": "stream",
     "text": [
      "\r",
      "Epoch 10/50:  20%|██        | 10/50 [01:14<05:01,  7.53s/it]"
     ]
    },
    {
     "name": "stdout",
     "output_type": "stream",
     "text": [
      "Epoch 10/50, Train Loss: 0.005770147, Validation Loss: 0.008078170, Best: 0.007066911, Wait: 02\n"
     ]
    },
    {
     "name": "stderr",
     "output_type": "stream",
     "text": [
      "\r",
      "Epoch 11/50:  22%|██▏       | 11/50 [01:22<04:58,  7.66s/it]"
     ]
    },
    {
     "name": "stdout",
     "output_type": "stream",
     "text": [
      "Epoch 11/50, Train Loss: 0.005730909, Validation Loss: 0.007352589, Best: 0.007066911, Wait: 03\n"
     ]
    },
    {
     "name": "stderr",
     "output_type": "stream",
     "text": [
      "\r",
      "Epoch 12/50:  24%|██▍       | 12/50 [01:30<04:56,  7.81s/it]"
     ]
    },
    {
     "name": "stdout",
     "output_type": "stream",
     "text": [
      "Epoch 12/50, Train Loss: 0.005709182, Validation Loss: 0.007710673, Best: 0.007066911, Wait: 04\n"
     ]
    },
    {
     "name": "stderr",
     "output_type": "stream",
     "text": [
      "\r",
      "Epoch 13/50:  26%|██▌       | 13/50 [01:38<04:57,  8.03s/it]"
     ]
    },
    {
     "name": "stdout",
     "output_type": "stream",
     "text": [
      "Epoch 13/50, Train Loss: 0.005675041, Validation Loss: 0.007752610, Best: 0.007066911, Wait: 05\n"
     ]
    },
    {
     "name": "stderr",
     "output_type": "stream",
     "text": [
      "\r",
      "Epoch 14/50:  28%|██▊       | 14/50 [01:47<04:58,  8.30s/it]"
     ]
    },
    {
     "name": "stdout",
     "output_type": "stream",
     "text": [
      "Epoch 14/50, Train Loss: 0.005640883, Validation Loss: 0.007988454, Best: 0.007066911, Wait: 06\n"
     ]
    },
    {
     "name": "stderr",
     "output_type": "stream",
     "text": [
      "\r",
      "Epoch 15/50:  30%|███       | 15/50 [01:57<05:01,  8.60s/it]"
     ]
    },
    {
     "name": "stdout",
     "output_type": "stream",
     "text": [
      "Epoch 15/50, Train Loss: 0.005632786, Validation Loss: 0.007877148, Best: 0.007066911, Wait: 07\n"
     ]
    },
    {
     "name": "stderr",
     "output_type": "stream",
     "text": [
      "\r",
      "Epoch 16/50:  32%|███▏      | 16/50 [02:06<05:03,  8.93s/it]"
     ]
    },
    {
     "name": "stdout",
     "output_type": "stream",
     "text": [
      "Epoch 16/50, Train Loss: 0.005612799, Validation Loss: 0.008536013, Best: 0.007066911, Wait: 08\n"
     ]
    },
    {
     "name": "stderr",
     "output_type": "stream",
     "text": [
      "\r",
      "Epoch 17/50:  34%|███▍      | 17/50 [02:16<05:06,  9.27s/it]"
     ]
    },
    {
     "name": "stdout",
     "output_type": "stream",
     "text": [
      "Epoch 17/50, Train Loss: 0.005595051, Validation Loss: 0.008646555, Best: 0.007066911, Wait: 09\n",
      "Epoch 18/50, Train Loss: 0.005584143, Validation Loss: 0.008733568, Best: 0.007066911, Wait: 10\n",
      "Epoch 00007: early stopping\n"
     ]
    },
    {
     "data": {
      "image/png": "[encoded data removed]",
      "text/plain": [
       "<matplotlib.figure.Figure at 0x7f87ab8bbcf8>"
      ]
     },
     "metadata": {},
     "output_type": "display_data"
    },
    {
     "name": "stderr",
     "output_type": "stream",
     "text": [
      "\n",
      "\r",
      "  0%|          | 0/50 [00:00<?, ?it/s]"
     ]
    },
    {
     "name": "stdout",
     "output_type": "stream",
     "text": [
      "Training layer 2...\n",
      "Tensorboard logs dir for this run is /home/xiami/.result/logs/run58\n"
     ]
    },
    {
     "name": "stderr",
     "output_type": "stream",
     "text": [
      "\u001b[A\n",
      "Epoch 01/50:   2%|▏         | 1/50 [00:07<06:17,  7.71s/it]"
     ]
    },
    {
     "name": "stdout",
     "output_type": "stream",
     "text": [
      "Epoch 01/50, Train Loss: 0.015331195, Validation Loss: 0.007984057, Best: inf, Wait: 00\n"
     ]
    },
    {
     "name": "stderr",
     "output_type": "stream",
     "text": [
      "\r",
      "Epoch 02/50:   4%|▍         | 2/50 [00:15<06:08,  7.69s/it]"
     ]
    },
    {
     "name": "stdout",
     "output_type": "stream",
     "text": [
      "Epoch 02/50, Train Loss: 0.004651159, Validation Loss: 0.003759101, Best: 0.007984057, Wait: 00\n"
     ]
    },
    {
     "name": "stderr",
     "output_type": "stream",
     "text": [
      "\r",
      "Epoch 03/50:   6%|▌         | 3/50 [00:23<06:00,  7.68s/it]"
     ]
    },
    {
     "name": "stdout",
     "output_type": "stream",
     "text": [
      "Epoch 03/50, Train Loss: 0.003209788, Validation Loss: 0.002738434, Best: 0.003759101, Wait: 00\n"
     ]
    },
    {
     "name": "stderr",
     "output_type": "stream",
     "text": [
      "\r",
      "Epoch 04/50:   8%|▊         | 4/50 [00:30<05:53,  7.67s/it]"
     ]
    },
    {
     "name": "stdout",
     "output_type": "stream",
     "text": [
      "Epoch 04/50, Train Loss: 0.002882217, Validation Loss: 0.002541337, Best: 0.002738434, Wait: 00\n"
     ]
    },
    {
     "name": "stderr",
     "output_type": "stream",
     "text": [
      "\r",
      "Epoch 05/50:  10%|█         | 5/50 [00:38<05:46,  7.69s/it]"
     ]
    },
    {
     "name": "stdout",
     "output_type": "stream",
     "text": [
      "Epoch 05/50, Train Loss: 0.002725137, Validation Loss: 0.002411482, Best: 0.002541337, Wait: 00\n"
     ]
    },
    {
     "name": "stderr",
     "output_type": "stream",
     "text": [
      "\r",
      "Epoch 06/50:  12%|█▏        | 6/50 [00:46<05:42,  7.79s/it]"
     ]
    },
    {
     "name": "stdout",
     "output_type": "stream",
     "text": [
      "Epoch 06/50, Train Loss: 0.002645797, Validation Loss: 0.002279771, Best: 0.002411482, Wait: 00\n"
     ]
    },
    {
     "name": "stderr",
     "output_type": "stream",
     "text": [
      "\r",
      "Epoch 07/50:  14%|█▍        | 7/50 [00:54<05:40,  7.93s/it]"
     ]
    },
    {
     "name": "stdout",
     "output_type": "stream",
     "text": [
      "Epoch 07/50, Train Loss: 0.002596003, Validation Loss: 0.002160946, Best: 0.002279771, Wait: 00\n"
     ]
    },
    {
     "name": "stderr",
     "output_type": "stream",
     "text": [
      "\r",
      "Epoch 08/50:  16%|█▌        | 8/50 [01:03<05:42,  8.15s/it]"
     ]
    },
    {
     "name": "stdout",
     "output_type": "stream",
     "text": [
      "Epoch 08/50, Train Loss: 0.002559788, Validation Loss: 0.002146855, Best: 0.002160946, Wait: 00\n"
     ]
    },
    {
     "name": "stderr",
     "output_type": "stream",
     "text": [
      "\r",
      "Epoch 09/50:  18%|█▊        | 9/50 [01:12<05:46,  8.44s/it]"
     ]
    },
    {
     "name": "stdout",
     "output_type": "stream",
     "text": [
      "Epoch 09/50, Train Loss: 0.002532201, Validation Loss: 0.002149646, Best: 0.002146855, Wait: 00\n"
     ]
    },
    {
     "name": "stderr",
     "output_type": "stream",
     "text": [
      "\r",
      "Epoch 10/50:  20%|██        | 10/50 [01:22<05:51,  8.78s/it]"
     ]
    },
    {
     "name": "stdout",
     "output_type": "stream",
     "text": [
      "Epoch 10/50, Train Loss: 0.002508023, Validation Loss: 0.002129069, Best: 0.002146855, Wait: 01\n"
     ]
    },
    {
     "name": "stderr",
     "output_type": "stream",
     "text": [
      "\r",
      "Epoch 11/50:  22%|██▏       | 11/50 [01:32<05:57,  9.15s/it]"
     ]
    },
    {
     "name": "stdout",
     "output_type": "stream",
     "text": [
      "Epoch 11/50, Train Loss: 0.002492987, Validation Loss: 0.002123237, Best: 0.002129069, Wait: 00\n"
     ]
    },
    {
     "name": "stderr",
     "output_type": "stream",
     "text": [
      "\r",
      "Epoch 12/50:  24%|██▍       | 12/50 [01:42<06:04,  9.58s/it]"
     ]
    },
    {
     "name": "stdout",
     "output_type": "stream",
     "text": [
      "Epoch 12/50, Train Loss: 0.002479200, Validation Loss: 0.002116965, Best: 0.002123237, Wait: 00\n"
     ]
    },
    {
     "name": "stderr",
     "output_type": "stream",
     "text": [
      "\r",
      "Epoch 13/50:  26%|██▌       | 13/50 [01:53<06:11, 10.03s/it]"
     ]
    },
    {
     "name": "stdout",
     "output_type": "stream",
     "text": [
      "Epoch 13/50, Train Loss: 0.002460730, Validation Loss: 0.002091456, Best: 0.002116965, Wait: 00\n"
     ]
    },
    {
     "name": "stderr",
     "output_type": "stream",
     "text": [
      "\r",
      "Epoch 14/50:  28%|██▊       | 14/50 [02:05<06:16, 10.47s/it]"
     ]
    },
    {
     "name": "stdout",
     "output_type": "stream",
     "text": [
      "Epoch 14/50, Train Loss: 0.002452395, Validation Loss: 0.002091652, Best: 0.002091456, Wait: 00\n"
     ]
    },
    {
     "name": "stderr",
     "output_type": "stream",
     "text": [
      "\r",
      "Epoch 15/50:  30%|███       | 15/50 [02:17<06:23, 10.95s/it]"
     ]
    },
    {
     "name": "stdout",
     "output_type": "stream",
     "text": [
      "Epoch 15/50, Train Loss: 0.002447985, Validation Loss: 0.002054444, Best: 0.002091456, Wait: 01\n"
     ]
    },
    {
     "name": "stderr",
     "output_type": "stream",
     "text": [
      "\r",
      "Epoch 16/50:  32%|███▏      | 16/50 [02:29<06:27, 11.39s/it]"
     ]
    },
    {
     "name": "stdout",
     "output_type": "stream",
     "text": [
      "Epoch 16/50, Train Loss: 0.002440345, Validation Loss: 0.002099365, Best: 0.002054444, Wait: 00\n"
     ]
    },
    {
     "name": "stderr",
     "output_type": "stream",
     "text": [
      "\r",
      "Epoch 17/50:  34%|███▍      | 17/50 [02:42<06:30, 11.84s/it]"
     ]
    },
    {
     "name": "stdout",
     "output_type": "stream",
     "text": [
      "Epoch 17/50, Train Loss: 0.002437139, Validation Loss: 0.002076332, Best: 0.002054444, Wait: 01\n"
     ]
    },
    {
     "name": "stderr",
     "output_type": "stream",
     "text": [
      "\r",
      "Epoch 18/50:  36%|███▌      | 18/50 [02:55<06:33, 12.31s/it]"
     ]
    },
    {
     "name": "stdout",
     "output_type": "stream",
     "text": [
      "Epoch 18/50, Train Loss: 0.002425179, Validation Loss: 0.002022878, Best: 0.002054444, Wait: 02\n"
     ]
    },
    {
     "name": "stderr",
     "output_type": "stream",
     "text": [
      "\r",
      "Epoch 19/50:  38%|███▊      | 19/50 [03:09<06:35, 12.77s/it]"
     ]
    },
    {
     "name": "stdout",
     "output_type": "stream",
     "text": [
      "Epoch 19/50, Train Loss: 0.002425285, Validation Loss: 0.002096005, Best: 0.002022878, Wait: 00\n"
     ]
    },
    {
     "name": "stderr",
     "output_type": "stream",
     "text": [
      "\r",
      "Epoch 20/50:  40%|████      | 20/50 [03:24<06:35, 13.20s/it]"
     ]
    },
    {
     "name": "stdout",
     "output_type": "stream",
     "text": [
      "Epoch 20/50, Train Loss: 0.002415391, Validation Loss: 0.002107730, Best: 0.002022878, Wait: 01\n"
     ]
    },
    {
     "name": "stderr",
     "output_type": "stream",
     "text": [
      "\r",
      "Epoch 21/50:  42%|████▏     | 21/50 [03:38<06:34, 13.62s/it]"
     ]
    },
    {
     "name": "stdout",
     "output_type": "stream",
     "text": [
      "Epoch 21/50, Train Loss: 0.002409076, Validation Loss: 0.002047699, Best: 0.002022878, Wait: 02\n"
     ]
    },
    {
     "name": "stderr",
     "output_type": "stream",
     "text": [
      "\r",
      "Epoch 22/50:  44%|████▍     | 22/50 [03:53<06:32, 14.03s/it]"
     ]
    },
    {
     "name": "stdout",
     "output_type": "stream",
     "text": [
      "Epoch 22/50, Train Loss: 0.002407205, Validation Loss: 0.002029881, Best: 0.002022878, Wait: 03\n"
     ]
    },
    {
     "name": "stderr",
     "output_type": "stream",
     "text": [
      "\r",
      "Epoch 23/50:  46%|████▌     | 23/50 [04:08<06:29, 14.43s/it]"
     ]
    },
    {
     "name": "stdout",
     "output_type": "stream",
     "text": [
      "Epoch 23/50, Train Loss: 0.002406598, Validation Loss: 0.002058037, Best: 0.002022878, Wait: 04\n"
     ]
    },
    {
     "name": "stderr",
     "output_type": "stream",
     "text": [
      "\r",
      "Epoch 24/50:  48%|████▊     | 24/50 [04:24<06:25, 14.82s/it]"
     ]
    },
    {
     "name": "stdout",
     "output_type": "stream",
     "text": [
      "Epoch 24/50, Train Loss: 0.002397832, Validation Loss: 0.002042964, Best: 0.002022878, Wait: 05\n"
     ]
    },
    {
     "name": "stderr",
     "output_type": "stream",
     "text": [
      "\r",
      "Epoch 25/50:  50%|█████     | 25/50 [04:40<06:20, 15.21s/it]"
     ]
    },
    {
     "name": "stdout",
     "output_type": "stream",
     "text": [
      "Epoch 25/50, Train Loss: 0.002394337, Validation Loss: 0.002053879, Best: 0.002022878, Wait: 06\n"
     ]
    },
    {
     "name": "stderr",
     "output_type": "stream",
     "text": [
      "\r",
      "Epoch 26/50:  52%|█████▏    | 26/50 [04:57<06:14, 15.62s/it]"
     ]
    },
    {
     "name": "stdout",
     "output_type": "stream",
     "text": [
      "Epoch 26/50, Train Loss: 0.002382438, Validation Loss: 0.002012057, Best: 0.002022878, Wait: 07\n"
     ]
    },
    {
     "name": "stderr",
     "output_type": "stream",
     "text": [
      "\r",
      "Epoch 27/50:  54%|█████▍    | 27/50 [05:14<06:07, 16.00s/it]"
     ]
    },
    {
     "name": "stdout",
     "output_type": "stream",
     "text": [
      "Epoch 27/50, Train Loss: 0.002386756, Validation Loss: 0.002065799, Best: 0.002012057, Wait: 00\n"
     ]
    },
    {
     "name": "stderr",
     "output_type": "stream",
     "text": [
      "\r",
      "Epoch 28/50:  56%|█████▌    | 28/50 [05:31<06:00, 16.38s/it]"
     ]
    },
    {
     "name": "stdout",
     "output_type": "stream",
     "text": [
      "Epoch 28/50, Train Loss: 0.002381662, Validation Loss: 0.002071704, Best: 0.002012057, Wait: 01\n"
     ]
    },
    {
     "name": "stderr",
     "output_type": "stream",
     "text": [
      "\r",
      "Epoch 29/50:  58%|█████▊    | 29/50 [05:49<05:51, 16.74s/it]"
     ]
    },
    {
     "name": "stdout",
     "output_type": "stream",
     "text": [
      "Epoch 29/50, Train Loss: 0.002374718, Validation Loss: 0.002032876, Best: 0.002012057, Wait: 02\n"
     ]
    },
    {
     "name": "stderr",
     "output_type": "stream",
     "text": [
      "\r",
      "Epoch 30/50:  60%|██████    | 30/50 [06:07<05:42, 17.11s/it]"
     ]
    },
    {
     "name": "stdout",
     "output_type": "stream",
     "text": [
      "Epoch 30/50, Train Loss: 0.002382455, Validation Loss: 0.002022370, Best: 0.002012057, Wait: 03\n"
     ]
    },
    {
     "name": "stderr",
     "output_type": "stream",
     "text": [
      "\r",
      "Epoch 31/50:  62%|██████▏   | 31/50 [06:25<05:31, 17.46s/it]"
     ]
    },
    {
     "name": "stdout",
     "output_type": "stream",
     "text": [
      "Epoch 31/50, Train Loss: 0.002373350, Validation Loss: 0.002069167, Best: 0.002012057, Wait: 04\n"
     ]
    },
    {
     "name": "stderr",
     "output_type": "stream",
     "text": [
      "\r",
      "Epoch 32/50:  64%|██████▍   | 32/50 [06:43<05:20, 17.79s/it]"
     ]
    },
    {
     "name": "stdout",
     "output_type": "stream",
     "text": [
      "Epoch 32/50, Train Loss: 0.002366121, Validation Loss: 0.002085657, Best: 0.002012057, Wait: 05\n"
     ]
    },
    {
     "name": "stderr",
     "output_type": "stream",
     "text": [
      "\r",
      "Epoch 33/50:  66%|██████▌   | 33/50 [07:02<05:08, 18.14s/it]"
     ]
    },
    {
     "name": "stdout",
     "output_type": "stream",
     "text": [
      "Epoch 33/50, Train Loss: 0.002367741, Validation Loss: 0.002046439, Best: 0.002012057, Wait: 06\n"
     ]
    },
    {
     "name": "stderr",
     "output_type": "stream",
     "text": [
      "\r",
      "Epoch 34/50:  68%|██████▊   | 34/50 [07:22<04:55, 18.46s/it]"
     ]
    },
    {
     "name": "stdout",
     "output_type": "stream",
     "text": [
      "Epoch 34/50, Train Loss: 0.002371279, Validation Loss: 0.002062914, Best: 0.002012057, Wait: 07\n"
     ]
    },
    {
     "name": "stderr",
     "output_type": "stream",
     "text": [
      "\r",
      "Epoch 35/50:  70%|███████   | 35/50 [07:41<04:41, 18.78s/it]"
     ]
    },
    {
     "name": "stdout",
     "output_type": "stream",
     "text": [
      "Epoch 35/50, Train Loss: 0.002369654, Validation Loss: 0.002079068, Best: 0.002012057, Wait: 08\n"
     ]
    },
    {
     "name": "stderr",
     "output_type": "stream",
     "text": [
      "\r",
      "Epoch 36/50:  72%|███████▏  | 36/50 [08:01<04:27, 19.07s/it]"
     ]
    },
    {
     "name": "stdout",
     "output_type": "stream",
     "text": [
      "Epoch 36/50, Train Loss: 0.002367304, Validation Loss: 0.002070843, Best: 0.002012057, Wait: 09\n",
      "Epoch 37/50, Train Loss: 0.002361145, Validation Loss: 0.002026106, Best: 0.002012057, Wait: 10\n",
      "Epoch 00026: early stopping\n"
     ]
    },
    {
     "data": {
      "image/png": "[encoded data removed]",
      "text/plain": [
       "<matplotlib.figure.Figure at 0x7f878525bd30>"
      ]
     },
     "metadata": {},
     "output_type": "display_data"
    },
    {
     "name": "stderr",
     "output_type": "stream",
     "text": [
      "\n",
      "\r",
      "  0%|          | 0/50 [00:00<?, ?it/s]"
     ]
    },
    {
     "name": "stdout",
     "output_type": "stream",
     "text": [
      "Training layer 3...\n",
      "Tensorboard logs dir for this run is /home/xiami/.result/logs/run59\n"
     ]
    },
    {
     "name": "stderr",
     "output_type": "stream",
     "text": [
      "\u001b[A\n",
      "Epoch 01/50:   2%|▏         | 1/50 [00:04<04:04,  4.99s/it]"
     ]
    },
    {
     "name": "stdout",
     "output_type": "stream",
     "text": [
      "Epoch 01/50, Train Loss: 0.013023071, Validation Loss: 0.005749720, Best: inf, Wait: 00\n"
     ]
    },
    {
     "name": "stderr",
     "output_type": "stream",
     "text": [
      "\u001b[A\n",
      "Epoch 02/50:   4%|▍         | 2/50 [00:09<03:56,  4.94s/it]"
     ]
    },
    {
     "name": "stdout",
     "output_type": "stream",
     "text": [
      "Epoch 02/50, Train Loss: 0.005862061, Validation Loss: 0.004398994, Best: 0.005749720, Wait: 00\n"
     ]
    },
    {
     "name": "stderr",
     "output_type": "stream",
     "text": [
      "\r",
      "Epoch 03/50:   6%|▌         | 3/50 [00:14<03:50,  4.91s/it]"
     ]
    },
    {
     "name": "stdout",
     "output_type": "stream",
     "text": [
      "Epoch 03/50, Train Loss: 0.004640927, Validation Loss: 0.003595146, Best: 0.004398994, Wait: 00\n"
     ]
    },
    {
     "name": "stderr",
     "output_type": "stream",
     "text": [
      "\r",
      "Epoch 04/50:   8%|▊         | 4/50 [00:19<03:45,  4.91s/it]"
     ]
    },
    {
     "name": "stdout",
     "output_type": "stream",
     "text": [
      "Epoch 04/50, Train Loss: 0.004099009, Validation Loss: 0.003229437, Best: 0.003595146, Wait: 00\n"
     ]
    },
    {
     "name": "stderr",
     "output_type": "stream",
     "text": [
      "\r",
      "Epoch 05/50:  10%|█         | 5/50 [00:24<03:42,  4.94s/it]"
     ]
    },
    {
     "name": "stdout",
     "output_type": "stream",
     "text": [
      "Epoch 05/50, Train Loss: 0.003840675, Validation Loss: 0.003038703, Best: 0.003229437, Wait: 00\n"
     ]
    },
    {
     "name": "stderr",
     "output_type": "stream",
     "text": [
      "\r",
      "Epoch 06/50:  12%|█▏        | 6/50 [00:29<03:40,  5.00s/it]"
     ]
    },
    {
     "name": "stdout",
     "output_type": "stream",
     "text": [
      "Epoch 06/50, Train Loss: 0.003676971, Validation Loss: 0.002777816, Best: 0.003038703, Wait: 00\n"
     ]
    },
    {
     "name": "stderr",
     "output_type": "stream",
     "text": [
      "\r",
      "Epoch 07/50:  14%|█▍        | 7/50 [00:35<03:40,  5.12s/it]"
     ]
    },
    {
     "name": "stdout",
     "output_type": "stream",
     "text": [
      "Epoch 07/50, Train Loss: 0.003587107, Validation Loss: 0.002881445, Best: 0.002777816, Wait: 00\n"
     ]
    },
    {
     "name": "stderr",
     "output_type": "stream",
     "text": [
      "\r",
      "Epoch 08/50:  16%|█▌        | 8/50 [00:40<03:43,  5.33s/it]"
     ]
    },
    {
     "name": "stdout",
     "output_type": "stream",
     "text": [
      "Epoch 08/50, Train Loss: 0.003507948, Validation Loss: 0.002607362, Best: 0.002777816, Wait: 01\n"
     ]
    },
    {
     "name": "stderr",
     "output_type": "stream",
     "text": [
      "\r",
      "Epoch 09/50:  18%|█▊        | 9/50 [00:47<03:50,  5.61s/it]"
     ]
    },
    {
     "name": "stdout",
     "output_type": "stream",
     "text": [
      "Epoch 09/50, Train Loss: 0.003441861, Validation Loss: 0.002620541, Best: 0.002607362, Wait: 00\n"
     ]
    },
    {
     "name": "stderr",
     "output_type": "stream",
     "text": [
      "\r",
      "Epoch 10/50:  20%|██        | 10/50 [00:53<03:58,  5.96s/it]"
     ]
    },
    {
     "name": "stdout",
     "output_type": "stream",
     "text": [
      "Epoch 10/50, Train Loss: 0.003398839, Validation Loss: 0.002617873, Best: 0.002607362, Wait: 01\n"
     ]
    },
    {
     "name": "stderr",
     "output_type": "stream",
     "text": [
      "\r",
      "Epoch 11/50:  22%|██▏       | 11/50 [01:01<04:08,  6.37s/it]"
     ]
    },
    {
     "name": "stdout",
     "output_type": "stream",
     "text": [
      "Epoch 11/50, Train Loss: 0.003365254, Validation Loss: 0.002639065, Best: 0.002607362, Wait: 02\n"
     ]
    },
    {
     "name": "stderr",
     "output_type": "stream",
     "text": [
      "\r",
      "Epoch 12/50:  24%|██▍       | 12/50 [01:09<04:19,  6.82s/it]"
     ]
    },
    {
     "name": "stdout",
     "output_type": "stream",
     "text": [
      "Epoch 12/50, Train Loss: 0.003328976, Validation Loss: 0.002637123, Best: 0.002607362, Wait: 03\n"
     ]
    },
    {
     "name": "stderr",
     "output_type": "stream",
     "text": [
      "\r",
      "Epoch 13/50:  26%|██▌       | 13/50 [01:17<04:29,  7.29s/it]"
     ]
    },
    {
     "name": "stdout",
     "output_type": "stream",
     "text": [
      "Epoch 13/50, Train Loss: 0.003314679, Validation Loss: 0.002659610, Best: 0.002607362, Wait: 04\n"
     ]
    },
    {
     "name": "stderr",
     "output_type": "stream",
     "text": [
      "\r",
      "Epoch 14/50:  28%|██▊       | 14/50 [01:26<04:40,  7.80s/it]"
     ]
    },
    {
     "name": "stdout",
     "output_type": "stream",
     "text": [
      "Epoch 14/50, Train Loss: 0.003272311, Validation Loss: 0.002639014, Best: 0.002607362, Wait: 05\n"
     ]
    },
    {
     "name": "stderr",
     "output_type": "stream",
     "text": [
      "\r",
      "Epoch 15/50:  30%|███       | 15/50 [01:36<04:50,  8.30s/it]"
     ]
    },
    {
     "name": "stdout",
     "output_type": "stream",
     "text": [
      "Epoch 15/50, Train Loss: 0.003266209, Validation Loss: 0.002521708, Best: 0.002607362, Wait: 06\n"
     ]
    },
    {
     "name": "stderr",
     "output_type": "stream",
     "text": [
      "\r",
      "Epoch 16/50:  32%|███▏      | 16/50 [01:46<04:59,  8.80s/it]"
     ]
    },
    {
     "name": "stdout",
     "output_type": "stream",
     "text": [
      "Epoch 16/50, Train Loss: 0.003248912, Validation Loss: 0.002594918, Best: 0.002521708, Wait: 00\n"
     ]
    },
    {
     "name": "stderr",
     "output_type": "stream",
     "text": [
      "\r",
      "Epoch 17/50:  34%|███▍      | 17/50 [01:56<05:07,  9.31s/it]"
     ]
    },
    {
     "name": "stdout",
     "output_type": "stream",
     "text": [
      "Epoch 17/50, Train Loss: 0.003219372, Validation Loss: 0.002596727, Best: 0.002521708, Wait: 01\n"
     ]
    },
    {
     "name": "stderr",
     "output_type": "stream",
     "text": [
      "\r",
      "Epoch 18/50:  36%|███▌      | 18/50 [02:07<05:13,  9.79s/it]"
     ]
    },
    {
     "name": "stdout",
     "output_type": "stream",
     "text": [
      "Epoch 18/50, Train Loss: 0.003209934, Validation Loss: 0.002618407, Best: 0.002521708, Wait: 02\n"
     ]
    },
    {
     "name": "stderr",
     "output_type": "stream",
     "text": [
      "\r",
      "Epoch 19/50:  38%|███▊      | 19/50 [02:18<05:18, 10.28s/it]"
     ]
    },
    {
     "name": "stdout",
     "output_type": "stream",
     "text": [
      "Epoch 19/50, Train Loss: 0.003189778, Validation Loss: 0.002524001, Best: 0.002521708, Wait: 03\n"
     ]
    },
    {
     "name": "stderr",
     "output_type": "stream",
     "text": [
      "\r",
      "Epoch 20/50:  40%|████      | 20/50 [02:30<05:22, 10.76s/it]"
     ]
    },
    {
     "name": "stdout",
     "output_type": "stream",
     "text": [
      "Epoch 20/50, Train Loss: 0.003179153, Validation Loss: 0.002583700, Best: 0.002521708, Wait: 04\n"
     ]
    },
    {
     "name": "stderr",
     "output_type": "stream",
     "text": [
      "\r",
      "Epoch 21/50:  42%|████▏     | 21/50 [02:43<05:25, 11.23s/it]"
     ]
    },
    {
     "name": "stdout",
     "output_type": "stream",
     "text": [
      "Epoch 21/50, Train Loss: 0.003175161, Validation Loss: 0.002574804, Best: 0.002521708, Wait: 05\n"
     ]
    },
    {
     "name": "stderr",
     "output_type": "stream",
     "text": [
      "\r",
      "Epoch 22/50:  44%|████▍     | 22/50 [02:55<05:27, 11.69s/it]"
     ]
    },
    {
     "name": "stdout",
     "output_type": "stream",
     "text": [
      "Epoch 22/50, Train Loss: 0.003155209, Validation Loss: 0.002641500, Best: 0.002521708, Wait: 06\n"
     ]
    },
    {
     "name": "stderr",
     "output_type": "stream",
     "text": [
      "\r",
      "Epoch 23/50:  46%|████▌     | 23/50 [03:08<05:27, 12.13s/it]"
     ]
    },
    {
     "name": "stdout",
     "output_type": "stream",
     "text": [
      "Epoch 23/50, Train Loss: 0.003151443, Validation Loss: 0.002688216, Best: 0.002521708, Wait: 07\n"
     ]
    },
    {
     "name": "stderr",
     "output_type": "stream",
     "text": [
      "\r",
      "Epoch 24/50:  48%|████▊     | 24/50 [03:22<05:26, 12.57s/it]"
     ]
    },
    {
     "name": "stdout",
     "output_type": "stream",
     "text": [
      "Epoch 24/50, Train Loss: 0.003148220, Validation Loss: 0.002552019, Best: 0.002521708, Wait: 08\n"
     ]
    },
    {
     "name": "stderr",
     "output_type": "stream",
     "text": [
      "\r",
      "Epoch 25/50:  50%|█████     | 25/50 [03:36<05:24, 12.98s/it]"
     ]
    },
    {
     "name": "stdout",
     "output_type": "stream",
     "text": [
      "Epoch 25/50, Train Loss: 0.003129125, Validation Loss: 0.002679868, Best: 0.002521708, Wait: 09\n",
      "Epoch 26/50, Train Loss: 0.003125856, Validation Loss: 0.002646052, Best: 0.002521708, Wait: 10\n",
      "Epoch 00015: early stopping\n"
     ]
    },
    {
     "data": {
      "image/png": "[encoded data removed]",
      "text/plain": [
       "<matplotlib.figure.Figure at 0x7f8786cea198>"
      ]
     },
     "metadata": {},
     "output_type": "display_data"
    },
    {
     "name": "stderr",
     "output_type": "stream",
     "text": [
      "\n",
      "\r",
      "  0%|          | 0/50 [00:00<?, ?it/s]"
     ]
    },
    {
     "name": "stdout",
     "output_type": "stream",
     "text": [
      "Training layer 4...\n",
      "Tensorboard logs dir for this run is /home/xiami/.result/logs/run60\n"
     ]
    },
    {
     "name": "stderr",
     "output_type": "stream",
     "text": [
      "\u001b[A\n",
      "Epoch 01/50:   2%|▏         | 1/50 [00:01<01:05,  1.33s/it]"
     ]
    },
    {
     "name": "stdout",
     "output_type": "stream",
     "text": [
      "Epoch 01/50, Train Loss: 0.034155599, Validation Loss: 0.018034231, Best: inf, Wait: 00\n"
     ]
    },
    {
     "name": "stderr",
     "output_type": "stream",
     "text": [
      "\u001b[A\n",
      "Epoch 02/50:   4%|▍         | 2/50 [00:02<01:03,  1.32s/it]"
     ]
    },
    {
     "name": "stdout",
     "output_type": "stream",
     "text": [
      "Epoch 02/50, Train Loss: 0.018554851, Validation Loss: 0.017068224, Best: 0.018034231, Wait: 00\n"
     ]
    },
    {
     "name": "stderr",
     "output_type": "stream",
     "text": [
      "\u001b[A\n",
      "Epoch 03/50:   6%|▌         | 3/50 [00:03<01:01,  1.31s/it]"
     ]
    },
    {
     "name": "stdout",
     "output_type": "stream",
     "text": [
      "Epoch 03/50, Train Loss: 0.017997493, Validation Loss: 0.016761882, Best: 0.017068224, Wait: 00\n"
     ]
    },
    {
     "name": "stderr",
     "output_type": "stream",
     "text": [
      "\u001b[A\n",
      "Epoch 04/50:   8%|▊         | 4/50 [00:05<01:00,  1.31s/it]"
     ]
    },
    {
     "name": "stdout",
     "output_type": "stream",
     "text": [
      "Epoch 04/50, Train Loss: 0.017745827, Validation Loss: 0.016566910, Best: 0.016761882, Wait: 00\n"
     ]
    },
    {
     "name": "stderr",
     "output_type": "stream",
     "text": [
      "\u001b[A\n",
      "Epoch 05/50:  10%|█         | 5/50 [00:06<00:58,  1.31s/it]"
     ]
    },
    {
     "name": "stdout",
     "output_type": "stream",
     "text": [
      "Epoch 05/50, Train Loss: 0.017542259, Validation Loss: 0.016414817, Best: 0.016566910, Wait: 00\n"
     ]
    },
    {
     "name": "stderr",
     "output_type": "stream",
     "text": [
      "\u001b[A\n",
      "Epoch 06/50:  12%|█▏        | 6/50 [00:07<00:57,  1.31s/it]"
     ]
    },
    {
     "name": "stdout",
     "output_type": "stream",
     "text": [
      "Epoch 06/50, Train Loss: 0.017358013, Validation Loss: 0.016227851, Best: 0.016414817, Wait: 00\n"
     ]
    },
    {
     "name": "stderr",
     "output_type": "stream",
     "text": [
      "\u001b[A\n",
      "Epoch 07/50:  14%|█▍        | 7/50 [00:09<00:56,  1.32s/it]"
     ]
    },
    {
     "name": "stdout",
     "output_type": "stream",
     "text": [
      "Epoch 07/50, Train Loss: 0.017216780, Validation Loss: 0.016138384, Best: 0.016227851, Wait: 00\n"
     ]
    },
    {
     "name": "stderr",
     "output_type": "stream",
     "text": [
      "\r",
      "Epoch 08/50:  16%|█▌        | 8/50 [00:10<00:55,  1.31s/it]"
     ]
    },
    {
     "name": "stdout",
     "output_type": "stream",
     "text": [
      "Epoch 08/50, Train Loss: 0.017090966, Validation Loss: 0.015969252, Best: 0.016138384, Wait: 00\n"
     ]
    },
    {
     "name": "stderr",
     "output_type": "stream",
     "text": [
      "\r",
      "Epoch 09/50:  18%|█▊        | 9/50 [00:11<00:53,  1.30s/it]"
     ]
    },
    {
     "name": "stdout",
     "output_type": "stream",
     "text": [
      "Epoch 09/50, Train Loss: 0.016986344, Validation Loss: 0.015877737, Best: 0.015969252, Wait: 00\n"
     ]
    },
    {
     "name": "stderr",
     "output_type": "stream",
     "text": [
      "\r",
      "Epoch 10/50:  20%|██        | 10/50 [00:13<00:51,  1.30s/it]"
     ]
    },
    {
     "name": "stdout",
     "output_type": "stream",
     "text": [
      "Epoch 10/50, Train Loss: 0.016908671, Validation Loss: 0.015806209, Best: 0.015877737, Wait: 00\n"
     ]
    },
    {
     "name": "stderr",
     "output_type": "stream",
     "text": [
      "\r",
      "Epoch 11/50:  22%|██▏       | 11/50 [00:14<00:53,  1.37s/it]"
     ]
    },
    {
     "name": "stdout",
     "output_type": "stream",
     "text": [
      "Epoch 11/50, Train Loss: 0.016828408, Validation Loss: 0.015724761, Best: 0.015806209, Wait: 00\n"
     ]
    },
    {
     "name": "stderr",
     "output_type": "stream",
     "text": [
      "\r",
      "Epoch 12/50:  24%|██▍       | 12/50 [00:15<00:52,  1.38s/it]"
     ]
    },
    {
     "name": "stdout",
     "output_type": "stream",
     "text": [
      "Epoch 12/50, Train Loss: 0.016765988, Validation Loss: 0.015626090, Best: 0.015724761, Wait: 00\n"
     ]
    },
    {
     "name": "stderr",
     "output_type": "stream",
     "text": [
      "\r",
      "Epoch 13/50:  26%|██▌       | 13/50 [00:17<00:50,  1.38s/it]"
     ]
    },
    {
     "name": "stdout",
     "output_type": "stream",
     "text": [
      "Epoch 13/50, Train Loss: 0.016675691, Validation Loss: 0.015568726, Best: 0.015626090, Wait: 00\n"
     ]
    },
    {
     "name": "stderr",
     "output_type": "stream",
     "text": [
      "\r",
      "Epoch 14/50:  28%|██▊       | 14/50 [00:18<00:49,  1.38s/it]"
     ]
    },
    {
     "name": "stdout",
     "output_type": "stream",
     "text": [
      "Epoch 14/50, Train Loss: 0.016600463, Validation Loss: 0.015488519, Best: 0.015568726, Wait: 00\n"
     ]
    },
    {
     "name": "stderr",
     "output_type": "stream",
     "text": [
      "\r",
      "Epoch 15/50:  30%|███       | 15/50 [00:20<00:47,  1.36s/it]"
     ]
    },
    {
     "name": "stdout",
     "output_type": "stream",
     "text": [
      "Epoch 15/50, Train Loss: 0.016531075, Validation Loss: 0.015429794, Best: 0.015488519, Wait: 00\n"
     ]
    },
    {
     "name": "stderr",
     "output_type": "stream",
     "text": [
      "\r",
      "Epoch 16/50:  32%|███▏      | 16/50 [00:21<00:46,  1.37s/it]"
     ]
    },
    {
     "name": "stdout",
     "output_type": "stream",
     "text": [
      "Epoch 16/50, Train Loss: 0.016467324, Validation Loss: 0.015354112, Best: 0.015429794, Wait: 00\n"
     ]
    },
    {
     "name": "stderr",
     "output_type": "stream",
     "text": [
      "\r",
      "Epoch 17/50:  34%|███▍      | 17/50 [00:22<00:45,  1.37s/it]"
     ]
    },
    {
     "name": "stdout",
     "output_type": "stream",
     "text": [
      "Epoch 17/50, Train Loss: 0.016402482, Validation Loss: 0.015298778, Best: 0.015354112, Wait: 00\n"
     ]
    },
    {
     "name": "stderr",
     "output_type": "stream",
     "text": [
      "\r",
      "Epoch 18/50:  36%|███▌      | 18/50 [00:24<00:44,  1.39s/it]"
     ]
    },
    {
     "name": "stdout",
     "output_type": "stream",
     "text": [
      "Epoch 18/50, Train Loss: 0.016330348, Validation Loss: 0.015270355, Best: 0.015298778, Wait: 00\n"
     ]
    },
    {
     "name": "stderr",
     "output_type": "stream",
     "text": [
      "\r",
      "Epoch 19/50:  38%|███▊      | 19/50 [00:25<00:43,  1.41s/it]"
     ]
    },
    {
     "name": "stdout",
     "output_type": "stream",
     "text": [
      "Epoch 19/50, Train Loss: 0.016273242, Validation Loss: 0.015180704, Best: 0.015270355, Wait: 00\n"
     ]
    },
    {
     "name": "stderr",
     "output_type": "stream",
     "text": [
      "\r",
      "Epoch 20/50:  40%|████      | 20/50 [00:27<00:41,  1.38s/it]"
     ]
    },
    {
     "name": "stdout",
     "output_type": "stream",
     "text": [
      "Epoch 20/50, Train Loss: 0.016239490, Validation Loss: 0.015136856, Best: 0.015180704, Wait: 00\n"
     ]
    },
    {
     "name": "stderr",
     "output_type": "stream",
     "text": [
      "\r",
      "Epoch 21/50:  42%|████▏     | 21/50 [00:28<00:40,  1.40s/it]"
     ]
    },
    {
     "name": "stdout",
     "output_type": "stream",
     "text": [
      "Epoch 21/50, Train Loss: 0.016170131, Validation Loss: 0.015085887, Best: 0.015136856, Wait: 00\n"
     ]
    },
    {
     "name": "stderr",
     "output_type": "stream",
     "text": [
      "\r",
      "Epoch 22/50:  44%|████▍     | 22/50 [00:29<00:39,  1.41s/it]"
     ]
    },
    {
     "name": "stdout",
     "output_type": "stream",
     "text": [
      "Epoch 22/50, Train Loss: 0.016125792, Validation Loss: 0.015020990, Best: 0.015085887, Wait: 00\n"
     ]
    },
    {
     "name": "stderr",
     "output_type": "stream",
     "text": [
      "\r",
      "Epoch 23/50:  46%|████▌     | 23/50 [00:31<00:38,  1.44s/it]"
     ]
    },
    {
     "name": "stdout",
     "output_type": "stream",
     "text": [
      "Epoch 23/50, Train Loss: 0.016074760, Validation Loss: 0.015013272, Best: 0.015020990, Wait: 00\n"
     ]
    },
    {
     "name": "stderr",
     "output_type": "stream",
     "text": [
      "\r",
      "Epoch 24/50:  48%|████▊     | 24/50 [00:32<00:37,  1.46s/it]"
     ]
    },
    {
     "name": "stdout",
     "output_type": "stream",
     "text": [
      "Epoch 24/50, Train Loss: 0.016015637, Validation Loss: 0.014921342, Best: 0.015013272, Wait: 00\n"
     ]
    },
    {
     "name": "stderr",
     "output_type": "stream",
     "text": [
      "\r",
      "Epoch 25/50:  50%|█████     | 25/50 [00:34<00:37,  1.49s/it]"
     ]
    },
    {
     "name": "stdout",
     "output_type": "stream",
     "text": [
      "Epoch 25/50, Train Loss: 0.015933866, Validation Loss: 0.014864864, Best: 0.014921342, Wait: 00\n"
     ]
    },
    {
     "name": "stderr",
     "output_type": "stream",
     "text": [
      "\r",
      "Epoch 26/50:  52%|█████▏    | 26/50 [00:35<00:35,  1.50s/it]"
     ]
    },
    {
     "name": "stdout",
     "output_type": "stream",
     "text": [
      "Epoch 26/50, Train Loss: 0.015865164, Validation Loss: 0.014799424, Best: 0.014864864, Wait: 00\n"
     ]
    },
    {
     "name": "stderr",
     "output_type": "stream",
     "text": [
      "\r",
      "Epoch 27/50:  54%|█████▍    | 27/50 [00:37<00:34,  1.49s/it]"
     ]
    },
    {
     "name": "stdout",
     "output_type": "stream",
     "text": [
      "Epoch 27/50, Train Loss: 0.015817080, Validation Loss: 0.014813411, Best: 0.014799424, Wait: 00\n"
     ]
    },
    {
     "name": "stderr",
     "output_type": "stream",
     "text": [
      "\r",
      "Epoch 28/50:  56%|█████▌    | 28/50 [00:38<00:32,  1.46s/it]"
     ]
    },
    {
     "name": "stdout",
     "output_type": "stream",
     "text": [
      "Epoch 28/50, Train Loss: 0.015772928, Validation Loss: 0.014750006, Best: 0.014799424, Wait: 01\n"
     ]
    },
    {
     "name": "stderr",
     "output_type": "stream",
     "text": [
      "\r",
      "Epoch 29/50:  58%|█████▊    | 29/50 [00:40<00:30,  1.46s/it]"
     ]
    },
    {
     "name": "stdout",
     "output_type": "stream",
     "text": [
      "Epoch 29/50, Train Loss: 0.015741683, Validation Loss: 0.014704289, Best: 0.014750006, Wait: 00\n"
     ]
    },
    {
     "name": "stderr",
     "output_type": "stream",
     "text": [
      "\r",
      "Epoch 30/50:  60%|██████    | 30/50 [00:41<00:28,  1.42s/it]"
     ]
    },
    {
     "name": "stdout",
     "output_type": "stream",
     "text": [
      "Epoch 30/50, Train Loss: 0.015718462, Validation Loss: 0.014732808, Best: 0.014704289, Wait: 00\n"
     ]
    },
    {
     "name": "stderr",
     "output_type": "stream",
     "text": [
      "\r",
      "Epoch 31/50:  62%|██████▏   | 31/50 [00:42<00:26,  1.39s/it]"
     ]
    },
    {
     "name": "stdout",
     "output_type": "stream",
     "text": [
      "Epoch 31/50, Train Loss: 0.015700395, Validation Loss: 0.014664407, Best: 0.014704289, Wait: 01\n"
     ]
    },
    {
     "name": "stderr",
     "output_type": "stream",
     "text": [
      "\r",
      "Epoch 32/50:  64%|██████▍   | 32/50 [00:44<00:25,  1.41s/it]"
     ]
    },
    {
     "name": "stdout",
     "output_type": "stream",
     "text": [
      "Epoch 32/50, Train Loss: 0.015674439, Validation Loss: 0.014675478, Best: 0.014664407, Wait: 00\n"
     ]
    },
    {
     "name": "stderr",
     "output_type": "stream",
     "text": [
      "\r",
      "Epoch 33/50:  66%|██████▌   | 33/50 [00:45<00:24,  1.41s/it]"
     ]
    },
    {
     "name": "stdout",
     "output_type": "stream",
     "text": [
      "Epoch 33/50, Train Loss: 0.015653367, Validation Loss: 0.014647787, Best: 0.014664407, Wait: 01\n"
     ]
    },
    {
     "name": "stderr",
     "output_type": "stream",
     "text": [
      "\r",
      "Epoch 34/50:  68%|██████▊   | 34/50 [00:47<00:22,  1.41s/it]"
     ]
    },
    {
     "name": "stdout",
     "output_type": "stream",
     "text": [
      "Epoch 34/50, Train Loss: 0.015649348, Validation Loss: 0.014623095, Best: 0.014647787, Wait: 00\n"
     ]
    },
    {
     "name": "stderr",
     "output_type": "stream",
     "text": [
      "\r",
      "Epoch 35/50:  70%|███████   | 35/50 [00:48<00:20,  1.40s/it]"
     ]
    },
    {
     "name": "stdout",
     "output_type": "stream",
     "text": [
      "Epoch 35/50, Train Loss: 0.015635574, Validation Loss: 0.014643067, Best: 0.014623095, Wait: 00\n"
     ]
    },
    {
     "name": "stderr",
     "output_type": "stream",
     "text": [
      "\r",
      "Epoch 36/50:  72%|███████▏  | 36/50 [00:50<00:19,  1.42s/it]"
     ]
    },
    {
     "name": "stdout",
     "output_type": "stream",
     "text": [
      "Epoch 36/50, Train Loss: 0.015618272, Validation Loss: 0.014658897, Best: 0.014623095, Wait: 01\n"
     ]
    },
    {
     "name": "stderr",
     "output_type": "stream",
     "text": [
      "\r",
      "Epoch 37/50:  74%|███████▍  | 37/50 [00:51<00:18,  1.43s/it]"
     ]
    },
    {
     "name": "stdout",
     "output_type": "stream",
     "text": [
      "Epoch 37/50, Train Loss: 0.015608383, Validation Loss: 0.014616082, Best: 0.014623095, Wait: 02\n"
     ]
    },
    {
     "name": "stderr",
     "output_type": "stream",
     "text": [
      "\r",
      "Epoch 38/50:  76%|███████▌  | 38/50 [00:53<00:17,  1.44s/it]"
     ]
    },
    {
     "name": "stdout",
     "output_type": "stream",
     "text": [
      "Epoch 38/50, Train Loss: 0.015590629, Validation Loss: 0.014662717, Best: 0.014616082, Wait: 00\n"
     ]
    },
    {
     "name": "stderr",
     "output_type": "stream",
     "text": [
      "\r",
      "Epoch 39/50:  78%|███████▊  | 39/50 [00:54<00:15,  1.43s/it]"
     ]
    },
    {
     "name": "stdout",
     "output_type": "stream",
     "text": [
      "Epoch 39/50, Train Loss: 0.015591870, Validation Loss: 0.014623450, Best: 0.014616082, Wait: 01\n"
     ]
    },
    {
     "name": "stderr",
     "output_type": "stream",
     "text": [
      "\r",
      "Epoch 40/50:  80%|████████  | 40/50 [00:55<00:14,  1.45s/it]"
     ]
    },
    {
     "name": "stdout",
     "output_type": "stream",
     "text": [
      "Epoch 40/50, Train Loss: 0.015583920, Validation Loss: 0.014599625, Best: 0.014616082, Wait: 02\n"
     ]
    },
    {
     "name": "stderr",
     "output_type": "stream",
     "text": [
      "\r",
      "Epoch 41/50:  82%|████████▏ | 41/50 [00:57<00:13,  1.47s/it]"
     ]
    },
    {
     "name": "stdout",
     "output_type": "stream",
     "text": [
      "Epoch 41/50, Train Loss: 0.015583662, Validation Loss: 0.014639443, Best: 0.014599625, Wait: 00\n"
     ]
    },
    {
     "name": "stderr",
     "output_type": "stream",
     "text": [
      "\r",
      "Epoch 42/50:  84%|████████▍ | 42/50 [00:58<00:11,  1.45s/it]"
     ]
    },
    {
     "name": "stdout",
     "output_type": "stream",
     "text": [
      "Epoch 42/50, Train Loss: 0.015579187, Validation Loss: 0.014586666, Best: 0.014599625, Wait: 01\n"
     ]
    },
    {
     "name": "stderr",
     "output_type": "stream",
     "text": [
      "\r",
      "Epoch 43/50:  86%|████████▌ | 43/50 [01:00<00:10,  1.44s/it]"
     ]
    },
    {
     "name": "stdout",
     "output_type": "stream",
     "text": [
      "Epoch 43/50, Train Loss: 0.015580643, Validation Loss: 0.014594014, Best: 0.014586666, Wait: 00\n"
     ]
    },
    {
     "name": "stderr",
     "output_type": "stream",
     "text": [
      "\r",
      "Epoch 44/50:  88%|████████▊ | 44/50 [01:01<00:08,  1.44s/it]"
     ]
    },
    {
     "name": "stdout",
     "output_type": "stream",
     "text": [
      "Epoch 44/50, Train Loss: 0.015570700, Validation Loss: 0.014628420, Best: 0.014586666, Wait: 01\n"
     ]
    },
    {
     "name": "stderr",
     "output_type": "stream",
     "text": [
      "\r",
      "Epoch 45/50:  90%|█████████ | 45/50 [01:03<00:07,  1.42s/it]"
     ]
    },
    {
     "name": "stdout",
     "output_type": "stream",
     "text": [
      "Epoch 45/50, Train Loss: 0.015564641, Validation Loss: 0.014597553, Best: 0.014586666, Wait: 02\n"
     ]
    },
    {
     "name": "stderr",
     "output_type": "stream",
     "text": [
      "\r",
      "Epoch 46/50:  92%|█████████▏| 46/50 [01:04<00:05,  1.41s/it]"
     ]
    },
    {
     "name": "stdout",
     "output_type": "stream",
     "text": [
      "Epoch 46/50, Train Loss: 0.015552742, Validation Loss: 0.014600553, Best: 0.014586666, Wait: 03\n"
     ]
    },
    {
     "name": "stderr",
     "output_type": "stream",
     "text": [
      "\r",
      "Epoch 47/50:  94%|█████████▍| 47/50 [01:05<00:04,  1.41s/it]"
     ]
    },
    {
     "name": "stdout",
     "output_type": "stream",
     "text": [
      "Epoch 47/50, Train Loss: 0.015544212, Validation Loss: 0.014604004, Best: 0.014586666, Wait: 04\n"
     ]
    },
    {
     "name": "stderr",
     "output_type": "stream",
     "text": [
      "\r",
      "Epoch 48/50:  96%|█████████▌| 48/50 [01:07<00:02,  1.42s/it]"
     ]
    },
    {
     "name": "stdout",
     "output_type": "stream",
     "text": [
      "Epoch 48/50, Train Loss: 0.015533129, Validation Loss: 0.014596743, Best: 0.014586666, Wait: 05\n"
     ]
    },
    {
     "name": "stderr",
     "output_type": "stream",
     "text": [
      "\r",
      "Epoch 49/50:  98%|█████████▊| 49/50 [01:08<00:01,  1.43s/it]"
     ]
    },
    {
     "name": "stdout",
     "output_type": "stream",
     "text": [
      "Epoch 49/50, Train Loss: 0.015526808, Validation Loss: 0.014545974, Best: 0.014586666, Wait: 06\n"
     ]
    },
    {
     "name": "stderr",
     "output_type": "stream",
     "text": [
      "\r",
      "Epoch 50/50: 100%|██████████| 50/50 [01:10<00:00,  1.45s/it]"
     ]
    },
    {
     "name": "stdout",
     "output_type": "stream",
     "text": [
      "Epoch 50/50, Train Loss: 0.015526722, Validation Loss: 0.014529690, Best: 0.014545974, Wait: 00\n",
      "Epoch 00050: early stopping\n"
     ]
    },
    {
     "name": "stderr",
     "output_type": "stream",
     "text": [
      "\n"
     ]
    },
    {
     "data": {
      "image/png": "[encoded data removed]",
      "text/plain": [
       "<matplotlib.figure.Figure at 0x7f86b19fc160>"
      ]
     },
     "metadata": {},
     "output_type": "display_data"
    },
    {
     "name": "stderr",
     "output_type": "stream",
     "text": [
      "\r",
      "  0%|          | 0/100 [00:00<?, ?it/s]"
     ]
    },
    {
     "name": "stdout",
     "output_type": "stream",
     "text": [
      "Tensorboard logs dir for this run is /home/xiami/.result/logs/run61\n"
     ]
    },
    {
     "name": "stderr",
     "output_type": "stream",
     "text": [
      "Accuracy: 0.9604: 100%|██████████| 100/100 [30:48<00:00, 12.76s/it]\n"
     ]
    },
    {
     "name": "stdout",
     "output_type": "stream",
     "text": [
      "Test set accuracy: 0.9567000269889832\n"
     ]
    }
   ],
   "source": [
    "if __name__== '__main__':\n",
    "  \n",
    "   seed = -1\n",
    "   utilities.random_seed_np_tf(seed)\n",
    "   \n",
    "   mnist = input_data.read_data_sets(\"../MNIST_data/\", one_hot=True)\n",
    "   trX, trY, teX, teY = mnist.train.images, mnist.train.labels, mnist.test.images, mnist.test.labels\n",
    "\n",
    "   vlX = mnist.validation.images\n",
    "   vlY = mnist.validation.labels\n",
    "\n",
    "\n",
    "   sdae = StackedDenoisingAutoencoder()\n",
    "   \n",
    "   # Fit the model (unsupervised pretraining)\n",
    "   encoded_X, encoded_vX = sdae.pretrain(trX, vlX)\n",
    "\n",
    "   # Supervised finetuning\n",
    "   sdae.fit(trX, trY, vlX, vlY)\n",
    "\n",
    "   # Compute the accuracy of the model\n",
    "   print('Test set accuracy: {}'.format(sdae.score(teX, teY)))\n",
    "\n",
    " "
   ]
  },
  {
   "cell_type": "code",
   "execution_count": null,
   "metadata": {
    "collapsed": true
   },
   "outputs": [],
   "source": []
  },
  {
   "cell_type": "code",
   "execution_count": null,
   "metadata": {
    "collapsed": true
   },
   "outputs": [],
   "source": []
  },
  {
   "cell_type": "code",
   "execution_count": null,
   "metadata": {
    "collapsed": true
   },
   "outputs": [],
   "source": []
  },
  {
   "cell_type": "code",
   "execution_count": null,
   "metadata": {
    "collapsed": true
   },
   "outputs": [],
   "source": []
  },
  {
   "cell_type": "code",
   "execution_count": null,
   "metadata": {
    "collapsed": true
   },
   "outputs": [],
   "source": []
  },
  {
   "cell_type": "code",
   "execution_count": null,
   "metadata": {
    "collapsed": true
   },
   "outputs": [],
   "source": []
  },
  {
   "cell_type": "code",
   "execution_count": null,
   "metadata": {
    "collapsed": true
   },
   "outputs": [],
   "source": []
  },
  {
   "cell_type": "code",
   "execution_count": null,
   "metadata": {
    "collapsed": true
   },
   "outputs": [],
   "source": []
  },
  {
   "cell_type": "code",
   "execution_count": null,
   "metadata": {
    "collapsed": true
   },
   "outputs": [],
   "source": []
  },
  {
   "cell_type": "code",
   "execution_count": null,
   "metadata": {
    "collapsed": true
   },
   "outputs": [],
   "source": []
  }
 ],
 "metadata": {
  "kernelspec": {
   "display_name": "Python 3",
   "language": "python",
   "name": "python3"
  },
  "language_info": {
   "codemirror_mode": {
    "name": "ipython",
    "version": 3
   },
   "file_extension": ".py",
   "mimetype": "text/x-python",
   "name": "python",
   "nbconvert_exporter": "python",
   "pygments_lexer": "ipython3",
   "version": "3.5.2"
  }
 },
 "nbformat": 4,
 "nbformat_minor": 2
}
